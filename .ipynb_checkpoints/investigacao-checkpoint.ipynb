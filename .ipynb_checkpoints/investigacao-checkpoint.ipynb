{
 "cells": [
  {
   "cell_type": "code",
   "execution_count": 3,
   "id": "77cbd9ab-1c59-4195-a338-fce4715006ae",
   "metadata": {},
   "outputs": [],
   "source": [
    "import pandas as pd"
   ]
  },
  {
   "cell_type": "code",
   "execution_count": 22,
   "id": "ee043fbf-ebb6-4b47-bc87-facd06573b15",
   "metadata": {},
   "outputs": [
    {
     "name": "stdout",
     "output_type": "stream",
     "text": [
      "Collecting pyspark\n",
      "  Downloading pyspark-3.5.0.tar.gz (316.9 MB)\n",
      "\u001b[2K     \u001b[38;2;114;156;31m━━━━━━━━━━━━━━━━━━━━━━━━━━━━━━━━━━━━━━━\u001b[0m \u001b[32m316.9/316.9 MB\u001b[0m \u001b[31m5.2 MB/s\u001b[0m eta \u001b[36m0:00:00\u001b[0mm eta \u001b[36m0:00:01\u001b[0m[36m0:00:01\u001b[0m\n",
      "\u001b[?25h  Installing build dependencies ... \u001b[?25ldone\n",
      "\u001b[?25h  Getting requirements to build wheel ... \u001b[?25ldone\n",
      "\u001b[?25h  Preparing metadata (pyproject.toml) ... \u001b[?25ldone\n",
      "\u001b[?25hCollecting py4j==0.10.9.7 (from pyspark)\n",
      "  Downloading py4j-0.10.9.7-py2.py3-none-any.whl (200 kB)\n",
      "\u001b[2K     \u001b[38;2;114;156;31m━━━━━━━━━━━━━━━━━━━━━━━━━━━━━━━━━━━━━━\u001b[0m \u001b[32m200.5/200.5 kB\u001b[0m \u001b[31m13.2 MB/s\u001b[0m eta \u001b[36m0:00:00\u001b[0m\n",
      "\u001b[?25hBuilding wheels for collected packages: pyspark\n",
      "  Building wheel for pyspark (pyproject.toml) ... \u001b[?25ldone\n",
      "\u001b[?25h  Created wheel for pyspark: filename=pyspark-3.5.0-py2.py3-none-any.whl size=317425344 sha256=633c5d436a583265e7d96c6d1344b7feb85026306b5cbb14aad9ffe3c972b25d\n",
      "  Stored in directory: /home/carlos/.cache/pip/wheels/38/df/61/8c121f50c3cffd77f8178180dd232d90b3b99d1bd61fb6d6be\n",
      "Successfully built pyspark\n",
      "Installing collected packages: py4j, pyspark\n",
      "Successfully installed py4j-0.10.9.7 pyspark-3.5.0\n",
      "Note: you may need to restart the kernel to use updated packages.\n"
     ]
    }
   ],
   "source": [
    "pip install pyspark"
   ]
  },
  {
   "cell_type": "code",
   "execution_count": 27,
   "id": "d64f8e9e-fd4b-45d0-abec-5f36092fcda1",
   "metadata": {},
   "outputs": [
    {
     "name": "stderr",
     "output_type": "stream",
     "text": [
      "Setting default log level to \"WARN\".\n",
      "To adjust logging level use sc.setLogLevel(newLevel). For SparkR, use setLogLevel(newLevel).\n",
      "23/10/19 15:42:12 WARN NativeCodeLoader: Unable to load native-hadoop library for your platform... using builtin-java classes where applicable\n"
     ]
    }
   ],
   "source": [
    "# PySpark imports\n",
    "from pyspark.sql import SparkSession\n",
    "from pyspark import SparkContext\n",
    "\n",
    "# Spark context creation\n",
    "spark = SparkSession.builder.appName(\"IPQ\").getOrCreate()\n",
    "sc = spark.sparkContext"
   ]
  },
  {
   "cell_type": "code",
   "execution_count": 28,
   "id": "3f44b6a6-ef42-48ca-9c97-0d267ca450cb",
   "metadata": {},
   "outputs": [],
   "source": [
    "# PySpark imports\n",
    "import pyspark.sql.functions as F\n",
    "from pyspark.sql import Window\n",
    "from pyspark.sql.types import *"
   ]
  },
  {
   "cell_type": "markdown",
   "id": "eac07823-3085-4cd9-89ca-1362c229d632",
   "metadata": {},
   "source": [
    "### CNAE'S INVESTIGACAO"
   ]
  },
  {
   "cell_type": "code",
   "execution_count": 19,
   "id": "7ab0f694-54a4-4a13-a23f-afda0977d37e",
   "metadata": {},
   "outputs": [],
   "source": [
    "cnaes = pd.read_csv('/home/carlos/projetos/base_cnae/Cnaes/cnae.csv', encoding='latin1', sep=';', header=None)"
   ]
  },
  {
   "cell_type": "code",
   "execution_count": 20,
   "id": "2b3caa23-2a2c-40d2-a27f-ff461103a8a4",
   "metadata": {},
   "outputs": [
    {
     "data": {
      "text/html": [
       "<div>\n",
       "<style scoped>\n",
       "    .dataframe tbody tr th:only-of-type {\n",
       "        vertical-align: middle;\n",
       "    }\n",
       "\n",
       "    .dataframe tbody tr th {\n",
       "        vertical-align: top;\n",
       "    }\n",
       "\n",
       "    .dataframe thead th {\n",
       "        text-align: right;\n",
       "    }\n",
       "</style>\n",
       "<table border=\"1\" class=\"dataframe\">\n",
       "  <thead>\n",
       "    <tr style=\"text-align: right;\">\n",
       "      <th></th>\n",
       "      <th>0</th>\n",
       "      <th>1</th>\n",
       "    </tr>\n",
       "  </thead>\n",
       "  <tbody>\n",
       "    <tr>\n",
       "      <th>0</th>\n",
       "      <td>111301</td>\n",
       "      <td>Cultivo de arroz</td>\n",
       "    </tr>\n",
       "    <tr>\n",
       "      <th>1</th>\n",
       "      <td>111302</td>\n",
       "      <td>Cultivo de milho</td>\n",
       "    </tr>\n",
       "    <tr>\n",
       "      <th>2</th>\n",
       "      <td>111303</td>\n",
       "      <td>Cultivo de trigo</td>\n",
       "    </tr>\n",
       "    <tr>\n",
       "      <th>3</th>\n",
       "      <td>111399</td>\n",
       "      <td>Cultivo de outros cereais não especificados an...</td>\n",
       "    </tr>\n",
       "    <tr>\n",
       "      <th>4</th>\n",
       "      <td>112101</td>\n",
       "      <td>Cultivo de algodão herbáceo</td>\n",
       "    </tr>\n",
       "  </tbody>\n",
       "</table>\n",
       "</div>"
      ],
      "text/plain": [
       "        0                                                  1\n",
       "0  111301                                   Cultivo de arroz\n",
       "1  111302                                   Cultivo de milho\n",
       "2  111303                                   Cultivo de trigo\n",
       "3  111399  Cultivo de outros cereais não especificados an...\n",
       "4  112101                        Cultivo de algodão herbáceo"
      ]
     },
     "execution_count": 20,
     "metadata": {},
     "output_type": "execute_result"
    }
   ],
   "source": [
    "cnaes.head()"
   ]
  },
  {
   "cell_type": "code",
   "execution_count": 21,
   "id": "7d38498c-45aa-48db-9c5a-19a2b25f8674",
   "metadata": {},
   "outputs": [
    {
     "data": {
      "text/plain": [
       "0    1359\n",
       "1    1359\n",
       "dtype: int64"
      ]
     },
     "execution_count": 21,
     "metadata": {},
     "output_type": "execute_result"
    }
   ],
   "source": [
    "cnaes.count()"
   ]
  },
  {
   "cell_type": "markdown",
   "id": "383769e1-a60c-4872-8a23-e191022a2a1e",
   "metadata": {},
   "source": [
    "### EMPRESA INVESTIGACAO"
   ]
  },
  {
   "cell_type": "code",
   "execution_count": 34,
   "id": "825632ee-e44c-415a-92c9-dba2411aecf6",
   "metadata": {},
   "outputs": [],
   "source": [
    "empresa_9 = spark.read.csv('empresas_9/K3241.K03200Y9.D31014.EMPRECSV', sep=';')"
   ]
  },
  {
   "cell_type": "code",
   "execution_count": 35,
   "id": "c981302e-486d-4e78-b903-b93f9918aa97",
   "metadata": {},
   "outputs": [
    {
     "name": "stdout",
     "output_type": "stream",
     "text": [
      "+--------+--------------------+----+---+--------+---+----+\n",
      "|     _c0|                 _c1| _c2|_c3|     _c4|_c5| _c6|\n",
      "+--------+--------------------+----+---+--------+---+----+\n",
      "|36627973|ANTONIO PEREIRA A...|2135| 50| 1000,00| 01|NULL|\n",
      "|36627975|MICHELI PINHEIRO ...|2135| 50| 1000,00| 01|NULL|\n",
      "|36627976|RAFAELA DA SILVA ...|2135| 50| 1200,00| 01|NULL|\n",
      "|36627977|CAMILA SARAIVA MA...|2135| 50| 1000,00| 01|NULL|\n",
      "|36627978|NATANE DOMINGOS 0...|2135| 50| 1000,00| 01|NULL|\n",
      "|36627979|LORENA MARIA DE B...|2135| 50| 4000,00| 01|NULL|\n",
      "|36627980|KARINE BRUNO DE O...|2135| 50|20000,00| 01|NULL|\n",
      "|36627981|RAIMUNDO WELLINGT...|2135| 50| 5000,00| 01|NULL|\n",
      "|36627983|EVELLYN BEATRIZ C...|2135| 50|  500,00| 01|NULL|\n",
      "|36627984|RAFAELA FRANCISCO...|2135| 50|  300,00| 01|NULL|\n",
      "|36627985|JULIANA RAMOS DE ...|2135| 50|  500,00| 01|NULL|\n",
      "|36627986|FABRICIO DA SILVA...|2135| 50|  500,00| 01|NULL|\n",
      "|36627987|MARIA LAUDECI SIL...|2135| 50| 2000,00| 01|NULL|\n",
      "|36627988|WILLIAN MEIRES DE...|2135| 50|  300,00| 01|NULL|\n",
      "|36627989|VERONICA TADEU PE...|2135| 50| 2500,00| 01|NULL|\n",
      "|36627991|MONICA DE MORAIS ...|2135| 50| 1000,00| 01|NULL|\n",
      "|36627992|HERON SILVA DE ME...|2135| 50|  200,00| 01|NULL|\n",
      "|36627993|FELIPE ANDRADE E ...|2135| 50| 1000,00| 01|NULL|\n",
      "|36627994|JULIO CESAR CRUZ ...|2135| 50| 2000,00| 01|NULL|\n",
      "|36627995|ROSILENE APARECID...|2135| 50| 2000,00| 01|NULL|\n",
      "+--------+--------------------+----+---+--------+---+----+\n",
      "only showing top 20 rows\n",
      "\n"
     ]
    }
   ],
   "source": [
    "empresa_9.show()"
   ]
  },
  {
   "cell_type": "code",
   "execution_count": 36,
   "id": "dd4248eb-9c79-4239-a011-e40b2db99ce9",
   "metadata": {},
   "outputs": [
    {
     "name": "stderr",
     "output_type": "stream",
     "text": [
      "                                                                                \r"
     ]
    },
    {
     "data": {
      "text/plain": [
       "4494860"
      ]
     },
     "execution_count": 36,
     "metadata": {},
     "output_type": "execute_result"
    }
   ],
   "source": [
    "empresa_9.count()"
   ]
  },
  {
   "cell_type": "code",
   "execution_count": 39,
   "id": "192ea2fc-4f68-4512-ae39-f3277726e88d",
   "metadata": {},
   "outputs": [],
   "source": [
    "empresa_9 = empresa_9.select(F.col(\"_c0\").alias(\"cnpj_basico\"),\n",
    "               F.col(\"_c1\").alias(\"razao_social\"),\n",
    "               F.col(\"_c2\").alias(\"natureza_juridica\"),\n",
    "               F.col(\"_c3\").alias(\"qualificacao_responsavel\"),\n",
    "               F.col(\"_c4\").alias(\"capital_social\"),\n",
    "               F.col(\"_c5\").alias(\"porte_da_empresa\"),\n",
    "               F.col(\"_c6\").alias(\"ente_federativo\"))"
   ]
  },
  {
   "cell_type": "code",
   "execution_count": 41,
   "id": "d97a1986-2837-447b-b2ab-ab297055affe",
   "metadata": {},
   "outputs": [
    {
     "name": "stdout",
     "output_type": "stream",
     "text": [
      "+-----------+----------------------------------------------------+-----------------+------------------------+--------------+----------------+---------------+\n",
      "|cnpj_basico|razao_social                                        |natureza_juridica|qualificacao_responsavel|capital_social|porte_da_empresa|ente_federativo|\n",
      "+-----------+----------------------------------------------------+-----------------+------------------------+--------------+----------------+---------------+\n",
      "|36627973   |ANTONIO PEREIRA ARANTES NETO 01699985170            |2135             |50                      |1000,00       |01              |NULL           |\n",
      "|36627975   |MICHELI PINHEIRO FLOR 06035748902                   |2135             |50                      |1000,00       |01              |NULL           |\n",
      "|36627976   |RAFAELA DA SILVA INACIO 13417608716                 |2135             |50                      |1200,00       |01              |NULL           |\n",
      "|36627977   |CAMILA SARAIVA MANGUEIRA 15168807739                |2135             |50                      |1000,00       |01              |NULL           |\n",
      "|36627978   |NATANE DOMINGOS 07586040923                         |2135             |50                      |1000,00       |01              |NULL           |\n",
      "|36627979   |LORENA MARIA DE BRITO CAMARGO 09776918700           |2135             |50                      |4000,00       |01              |NULL           |\n",
      "|36627980   |KARINE BRUNO DE OLIVEIRA BRAGA 88277704100          |2135             |50                      |20000,00      |01              |NULL           |\n",
      "|36627981   |RAIMUNDO WELLINGTON DE SENA 85213594204             |2135             |50                      |5000,00       |01              |NULL           |\n",
      "|36627983   |EVELLYN BEATRIZ CHARLO DE MELO RODRIGUES 46715196826|2135             |50                      |500,00        |01              |NULL           |\n",
      "|36627984   |RAFAELA FRANCISCO FIGUEIREDO 46701565867            |2135             |50                      |300,00        |01              |NULL           |\n",
      "|36627985   |JULIANA RAMOS DE MELO MARQUES 36687602845           |2135             |50                      |500,00        |01              |NULL           |\n",
      "|36627986   |FABRICIO DA SILVA SEIXAS 01555083420                |2135             |50                      |500,00        |01              |NULL           |\n",
      "|36627987   |MARIA LAUDECI SILVA DE ASSIS ALMEIDA 11182384862    |2135             |50                      |2000,00       |01              |NULL           |\n",
      "|36627988   |WILLIAN MEIRES DE MARINS 17802351782                |2135             |50                      |300,00        |01              |NULL           |\n",
      "|36627989   |VERONICA TADEU PEREIRA 05548260707                  |2135             |50                      |2500,00       |01              |NULL           |\n",
      "|36627991   |MONICA DE MORAIS ROCHA 40845063898                  |2135             |50                      |1000,00       |01              |NULL           |\n",
      "|36627992   |HERON SILVA DE MELLO 10584718721                    |2135             |50                      |200,00        |01              |NULL           |\n",
      "|36627993   |FELIPE ANDRADE E SILVA 02060307384                  |2135             |50                      |1000,00       |01              |NULL           |\n",
      "|36627994   |JULIO CESAR CRUZ DE SOUZA 46620172890               |2135             |50                      |2000,00       |01              |NULL           |\n",
      "|36627995   |ROSILENE APARECIDA DE LIMA DE BRITO 15933062880     |2135             |50                      |2000,00       |01              |NULL           |\n",
      "+-----------+----------------------------------------------------+-----------------+------------------------+--------------+----------------+---------------+\n",
      "only showing top 20 rows\n",
      "\n"
     ]
    }
   ],
   "source": [
    "empresa_9.show(truncate=False)"
   ]
  },
  {
   "cell_type": "markdown",
   "id": "d692fbd6-e2a4-4d37-bba8-990360483845",
   "metadata": {},
   "source": [
    "### Estabelecimentos investigacao"
   ]
  },
  {
   "cell_type": "code",
   "execution_count": 51,
   "id": "173255cb-a3dd-4c5e-877f-e273249e5bf8",
   "metadata": {},
   "outputs": [],
   "source": [
    "\n",
    "\n",
    "estabelecimentos_9 = spark.read.csv('estabelecimentos_9/K3241.K03200Y9.D31014.ESTABELE', sep=';', multiLine=False)"
   ]
  },
  {
   "cell_type": "code",
   "execution_count": 48,
   "id": "083eb80c-ca80-4719-9dc2-38f796a74bd7",
   "metadata": {},
   "outputs": [
    {
     "name": "stdout",
     "output_type": "stream",
     "text": [
      "+--------+----+---+---+--------------------+---+---------+---+----+----+----------+-------+--------------------+--------+--------------------+-----+--------------------+-----------------+--------+---+----+---+--------+----+--------+----+--------+--------------------+----+----+\n",
      "|24564062|0001| 94|  1|                 _c4| 02|201604116| 00| _c8| _c9|2016041110|0155504|             0159899| CHACARA|            ROUXINOL|    0|                _c16|        SAO BENTO|13160000| SP|6175| 19|38771023|_c23|    _c24|_c25|    _c26|                _c27|_c28|_c29|\n",
      "+--------+----+---+---+--------------------+---+---------+---+----+----+----------+-------+--------------------+--------+--------------------+-----+--------------------+-----------------+--------+---+----+---+--------+----+--------+----+--------+--------------------+----+----+\n",
      "|24564076|0001| 08|  1|             ROBATTO| 02| 20160411| 00|NULL|NULL|  20160411|9001902|8230001,5813100,8...|     RUA|  DOMINGOS MARREIROS| 1718|                NULL|         UMARIZAL|66060160| PA|0427| 91|80261595|NULL|    NULL|NULL|    NULL|soniaferro@robatt...|NULL|NULL|\n",
      "|24564088|0001| 32|  1|         ALMEIDA MEI| 04| 20210303| 63|NULL|NULL|  20160411|7319002|             4782201|     RUA|           MEN DE SA|   57|                CASA| JARDIM AEROPORTO|76920000| RO|0017| 69|93299788|NULL|    NULL|NULL|    NULL|ronivaldoopo@hotm...|NULL|NULL|\n",
      "|24564100|0001| 09|  1|KUMAM INDUSTRIA E...| 08| 20201208| 01|NULL|NULL|  20160411|4672900|             2593400|     RUA|      RIBEIRAO PRETO|  236|                NULL| ARRAIAL PAULISTA|06780190| SP|7157| 11|45675288|  11|57023793|  11|45675288|KUMAM.IND@HOTMAIL...|NULL|NULL|\n",
      "|24564115|0001| 77|  1|   LOJAO DA ECONOMIA| 04| 20210422| 63|NULL|NULL|  20160411|4781400|     4755503,4789099|     RUA|  ALICE ROSA SANTANA|   17|                CASA|    ARNULFO ORFAO|45280000| BA|3571| 73|88686808|NULL|    NULL|NULL|    NULL|aamandas.silva@ho...|NULL|NULL|\n",
      "|24564126|0001| 57|  1|NANCI TAMD TOUCAS...| 04| 20210319| 63|NULL|NULL|  20160411|1412601|                NULL|TRAVESSA|  JOAO DE SOUZA DIAS|   70|                NULL|        JACUTINGA|26564280| RJ|1116| 21|73512585|NULL|    NULL|NULL|    NULL|                NULL|NULL|NULL|\n",
      "|24564204|0001| 13|  1|CRC INSTALACOES E...| 08| 20180625| 01|NULL|NULL|  20160411|3321000|3314707,4322303,4...|     RUA|               CHINA|  567|                NULL|PARQUE DAS NACOES|13470191| SP|6131| 19|36014699|NULL|    NULL|NULL|    NULL|  carlosrcjr@msn.com|NULL|NULL|\n",
      "|14387130|0001| 33|  1|REGISDATA INFORMA...| 08| 20160411| 01|NULL|NULL|  20110930|4751201|9511800,9001906,3...|     RUA|Rua Professor Rub...| 4135|                NULL|  Jardim Paulista|15700726| SP|6597| 17|36328224|NULL|    NULL|NULL|    NULL|regisdata@bol.com.br|NULL|NULL|\n",
      "|24564158|0001| 52|  1|       JM MOTO PECAS| 02| 20160411| 00|NULL|NULL|  20160411|4541206|             4530705| AVENIDA|      AV PIMENTEIRAS| 1142|                NULL|         VALENTIM|64300000| PI|1225| 89|99740245|NULL|    NULL|NULL|    NULL|GERENCIALVALENCA@...|NULL|NULL|\n",
      "|24564173|0001| 09|  1|PC TREINAMENTO E ...| 02| 20160318| 00|NULL|NULL|  20160318|7319002|                NULL|     RUA|    CORONEL DULCIDIO| 1256|           APT   802|       AGUA VERDE|80250100| PR|7535| 41|32446917|NULL|    NULL|NULL|    NULL| PC@RODRIGUES.PPG.BR|NULL|NULL|\n",
      "|24564184|0001| 80|  1|            CONSULTE| 02| 20160411| 00|NULL|NULL|  20160411|6204000|                NULL|     RUA|        FLAVIO UCHOA| 1699|                NULL|   CAMPOS ELISEOS|14085600| SP|6969| 16|38774010|  16|91704130|  16|39691223|RENATOJOSE@GMAIL.COM|NULL|NULL|\n",
      "|24564193|0001| 71|  1|    KUHN INSTALACOES| 08| 20181107| 01|NULL|NULL|  20160411|4321500|                NULL|     RUA|      ALDO LOCATELLI|  359|                CASA|     SANTO INACIO|93290410| RS|8651| 51|96066525|NULL|    NULL|NULL|    NULL|vagnerkuhn.k@hotm...|NULL|NULL|\n",
      "|24564206|0001| 02|  1|PIATTO DI PARMA C...| 02| 20160311| 00|NULL|NULL|  20160311|5611201|     4721104,5611203|     RUA|   GUILHERME ABRAHAM|   41|           SALA  101|           CENTRO|95670088| RS|8681| 54|32862741|NULL|    NULL|NULL|    NULL|DIRENO@DIRENO.COM.BR|NULL|NULL|\n",
      "|24564219|0001| 81|  1|                NULL| 02| 20160411| 00|NULL|NULL|  20160411|4633801|     4930201,4930202| AVENIDA|            BRASILIA|10000|BOX   29         ...|          LINDOIA|86031770| PR|7667| 43|96611509|NULL|    NULL|NULL|    NULL|ATACADAOFOLLY7374...|NULL|NULL|\n",
      "|24564233|0001| 85|  1|                NULL| 08| 20180928| 01|NULL|NULL|  20160411|5611201|             5620102| AVENIDA|        DOS ANDRADAS|  874|            LOJA  02|           CENTRO|36036000| MG|4733| 32|32134692|NULL|    NULL|NULL|    NULL|     ADM@MRJF.COM.BR|NULL|NULL|\n",
      "|24564245|0001| 00|  1|                NULL| 04| 20210305| 63|NULL|NULL|  20160411|5611201|             8230001|TRAVESSA|       ALEX VALLAURI|   08|                NULL|       ITAIM BIBI|04533020| SP|7107| 11|31686467|NULL|    NULL|NULL|    NULL|FABIANO@JARDIMAUR...|NULL|NULL|\n",
      "|24564255|0001| 45|  1|                NULL| 02| 20160411| 00|NULL|NULL|  20160411|4330404|                NULL|     RUA|URIAS RODRIGUES D...|   75|                NULL|  JARDIM BRASILIA|38401330| MG|5403| 34|96751835|NULL|    NULL|NULL|    NULL|DAIANE_MARY2012@Y...|NULL|NULL|\n",
      "|24564266|0001| 25|  1|          MOTO LIVRE| 02| 20160409| 00|NULL|NULL|  20160409|4541206|     4520002,4543900| AVENIDA|                 V 8|   SN|QUADRA332        ...| CIDADE VERA CRUZ|74937630| GO|9227| 62|32777702|NULL|    NULL|NULL|    NULL|MOTOLIVRE.BURITI@...|NULL|NULL|\n",
      "|24564278|0001| 50|  1|                NULL| 02| 20160411| 00|NULL|NULL|  20160411|6810201|             6810203|     RUA|SEBASTIAO FABIANO...|  210|                NULL|        BELVEDERE|30320690| MG|4123| 31|33125506|  31|    NULL|NULL|    NULL|GESTAC@GESTAC.COM.BR|NULL|NULL|\n",
      "|24564292|0001| 53|  1|SERV FESTA DO SER...| 08| 20180410| 01|NULL|NULL|  20160411|4723700|                NULL|     RUA|FERNAO DIAS PAES ...|1213A|                NULL|           CENTRO|15685000| SP|0808| 17|97214746|NULL|    NULL|NULL|    NULL|                NULL|NULL|NULL|\n",
      "|24564303|0001| 03|  1|           GARAGE 89| 04| 20210325| 63|NULL|NULL|  20160408|5611204|5611201,9329801,5...|     RUA|       JOAO VALIANTE|   89|              GALPAO|          ANO BOM|27323210| RJ|5807| 24|33283786|NULL|33283786|NULL|33283786|PATRICIACONTABIL@...|NULL|NULL|\n",
      "+--------+----+---+---+--------------------+---+---------+---+----+----+----------+-------+--------------------+--------+--------------------+-----+--------------------+-----------------+--------+---+----+---+--------+----+--------+----+--------+--------------------+----+----+\n",
      "only showing top 20 rows\n",
      "\n"
     ]
    },
    {
     "name": "stderr",
     "output_type": "stream",
     "text": [
      "23/10/20 09:06:12 WARN CSVHeaderChecker: CSV header does not conform to the schema.\n",
      " Header: 24564062, 0001, 94, 1, , 02, 20160411, 00, , , 20160411, 0155504, 0159899, CHACARA, ROUXINOL, 0, , SAO BENTO, 13160000, SP, 6175, 19, 38771023, , , , , , , \n",
      " Schema: 24564062, 0001, 94, 1, _c4, 02, 201604116, 00, _c8, _c9, 2016041110, 0155504, 0159899, CHACARA, ROUXINOL, 0, _c16, SAO BENTO, 13160000, SP, 6175, 19, 38771023, _c23, _c24, _c25, _c26, _c27, _c28, _c29\n",
      "Expected: _c4 but found: \n",
      "CSV file: file:///home/carlos/projetos/base_cnae/estabelecimentos_9/K3241.K03200Y9.D31014.ESTABELE\n"
     ]
    }
   ],
   "source": [
    "#estabelecimentos_9.show()\n",
    "order = estabelecimentos_9.orderBy(F.col())"
   ]
  },
  {
   "cell_type": "code",
   "execution_count": 52,
   "id": "34ede144-43c3-49aa-8395-8cf0dca0c432",
   "metadata": {},
   "outputs": [
    {
     "name": "stdout",
     "output_type": "stream",
     "text": [
      "+--------+----+---+---+--------------------+---+--------+---+----+----+--------+-------+--------------------+--------+--------------------+-----+--------------------+-----------------+--------+----+----+----+--------+----+--------+----+--------+--------------------+----+----+\n",
      "|     _c0| _c1|_c2|_c3|                 _c4|_c5|     _c6|_c7| _c8| _c9|    _c10|   _c11|                _c12|    _c13|                _c14| _c15|                _c16|             _c17|    _c18|_c19|_c20|_c21|    _c22|_c23|    _c24|_c25|    _c26|                _c27|_c28|_c29|\n",
      "+--------+----+---+---+--------------------+---+--------+---+----+----+--------+-------+--------------------+--------+--------------------+-----+--------------------+-----------------+--------+----+----+----+--------+----+--------+----+--------+--------------------+----+----+\n",
      "|24564062|0001| 94|  1|                NULL| 02|20160411| 00|NULL|NULL|20160411|0155504|             0159899| CHACARA|            ROUXINOL|    0|                NULL|        SAO BENTO|13160000|  SP|6175|  19|38771023|NULL|    NULL|NULL|    NULL|                NULL|NULL|NULL|\n",
      "|24564076|0001| 08|  1|             ROBATTO| 02|20160411| 00|NULL|NULL|20160411|9001902|8230001,5813100,8...|     RUA|  DOMINGOS MARREIROS| 1718|                NULL|         UMARIZAL|66060160|  PA|0427|  91|80261595|NULL|    NULL|NULL|    NULL|soniaferro@robatt...|NULL|NULL|\n",
      "|24564088|0001| 32|  1|         ALMEIDA MEI| 04|20210303| 63|NULL|NULL|20160411|7319002|             4782201|     RUA|           MEN DE SA|   57|                CASA| JARDIM AEROPORTO|76920000|  RO|0017|  69|93299788|NULL|    NULL|NULL|    NULL|ronivaldoopo@hotm...|NULL|NULL|\n",
      "|24564100|0001| 09|  1|KUMAM INDUSTRIA E...| 08|20201208| 01|NULL|NULL|20160411|4672900|             2593400|     RUA|      RIBEIRAO PRETO|  236|                NULL| ARRAIAL PAULISTA|06780190|  SP|7157|  11|45675288|  11|57023793|  11|45675288|KUMAM.IND@HOTMAIL...|NULL|NULL|\n",
      "|24564115|0001| 77|  1|   LOJAO DA ECONOMIA| 04|20210422| 63|NULL|NULL|20160411|4781400|     4755503,4789099|     RUA|  ALICE ROSA SANTANA|   17|                CASA|    ARNULFO ORFAO|45280000|  BA|3571|  73|88686808|NULL|    NULL|NULL|    NULL|aamandas.silva@ho...|NULL|NULL|\n",
      "|24564126|0001| 57|  1|NANCI TAMD TOUCAS...| 04|20210319| 63|NULL|NULL|20160411|1412601|                NULL|TRAVESSA|  JOAO DE SOUZA DIAS|   70|                NULL|        JACUTINGA|26564280|  RJ|1116|  21|73512585|NULL|    NULL|NULL|    NULL|                NULL|NULL|NULL|\n",
      "|24564204|0001| 13|  1|CRC INSTALACOES E...| 08|20180625| 01|NULL|NULL|20160411|3321000|3314707,4322303,4...|     RUA|               CHINA|  567|                NULL|PARQUE DAS NACOES|13470191|  SP|6131|  19|36014699|NULL|    NULL|NULL|    NULL|  carlosrcjr@msn.com|NULL|NULL|\n",
      "|14387130|0001| 33|  1|REGISDATA INFORMA...| 08|20160411| 01|NULL|NULL|20110930|4751201|9511800,9001906,3...|     RUA|Rua Professor Rub...| 4135|                NULL|  Jardim Paulista|15700726|  SP|6597|  17|36328224|NULL|    NULL|NULL|    NULL|regisdata@bol.com.br|NULL|NULL|\n",
      "|24564158|0001| 52|  1|       JM MOTO PECAS| 02|20160411| 00|NULL|NULL|20160411|4541206|             4530705| AVENIDA|      AV PIMENTEIRAS| 1142|                NULL|         VALENTIM|64300000|  PI|1225|  89|99740245|NULL|    NULL|NULL|    NULL|GERENCIALVALENCA@...|NULL|NULL|\n",
      "|24564173|0001| 09|  1|PC TREINAMENTO E ...| 02|20160318| 00|NULL|NULL|20160318|7319002|                NULL|     RUA|    CORONEL DULCIDIO| 1256|           APT   802|       AGUA VERDE|80250100|  PR|7535|  41|32446917|NULL|    NULL|NULL|    NULL| PC@RODRIGUES.PPG.BR|NULL|NULL|\n",
      "|24564184|0001| 80|  1|            CONSULTE| 02|20160411| 00|NULL|NULL|20160411|6204000|                NULL|     RUA|        FLAVIO UCHOA| 1699|                NULL|   CAMPOS ELISEOS|14085600|  SP|6969|  16|38774010|  16|91704130|  16|39691223|RENATOJOSE@GMAIL.COM|NULL|NULL|\n",
      "|24564193|0001| 71|  1|    KUHN INSTALACOES| 08|20181107| 01|NULL|NULL|20160411|4321500|                NULL|     RUA|      ALDO LOCATELLI|  359|                CASA|     SANTO INACIO|93290410|  RS|8651|  51|96066525|NULL|    NULL|NULL|    NULL|vagnerkuhn.k@hotm...|NULL|NULL|\n",
      "|24564206|0001| 02|  1|PIATTO DI PARMA C...| 02|20160311| 00|NULL|NULL|20160311|5611201|     4721104,5611203|     RUA|   GUILHERME ABRAHAM|   41|           SALA  101|           CENTRO|95670088|  RS|8681|  54|32862741|NULL|    NULL|NULL|    NULL|DIRENO@DIRENO.COM.BR|NULL|NULL|\n",
      "|24564219|0001| 81|  1|                NULL| 02|20160411| 00|NULL|NULL|20160411|4633801|     4930201,4930202| AVENIDA|            BRASILIA|10000|BOX   29         ...|          LINDOIA|86031770|  PR|7667|  43|96611509|NULL|    NULL|NULL|    NULL|ATACADAOFOLLY7374...|NULL|NULL|\n",
      "|24564233|0001| 85|  1|                NULL| 08|20180928| 01|NULL|NULL|20160411|5611201|             5620102| AVENIDA|        DOS ANDRADAS|  874|            LOJA  02|           CENTRO|36036000|  MG|4733|  32|32134692|NULL|    NULL|NULL|    NULL|     ADM@MRJF.COM.BR|NULL|NULL|\n",
      "|24564245|0001| 00|  1|                NULL| 04|20210305| 63|NULL|NULL|20160411|5611201|             8230001|TRAVESSA|       ALEX VALLAURI|   08|                NULL|       ITAIM BIBI|04533020|  SP|7107|  11|31686467|NULL|    NULL|NULL|    NULL|FABIANO@JARDIMAUR...|NULL|NULL|\n",
      "|24564255|0001| 45|  1|                NULL| 02|20160411| 00|NULL|NULL|20160411|4330404|                NULL|     RUA|URIAS RODRIGUES D...|   75|                NULL|  JARDIM BRASILIA|38401330|  MG|5403|  34|96751835|NULL|    NULL|NULL|    NULL|DAIANE_MARY2012@Y...|NULL|NULL|\n",
      "|24564266|0001| 25|  1|          MOTO LIVRE| 02|20160409| 00|NULL|NULL|20160409|4541206|     4520002,4543900| AVENIDA|                 V 8|   SN|QUADRA332        ...| CIDADE VERA CRUZ|74937630|  GO|9227|  62|32777702|NULL|    NULL|NULL|    NULL|MOTOLIVRE.BURITI@...|NULL|NULL|\n",
      "|24564278|0001| 50|  1|                NULL| 02|20160411| 00|NULL|NULL|20160411|6810201|             6810203|     RUA|SEBASTIAO FABIANO...|  210|                NULL|        BELVEDERE|30320690|  MG|4123|  31|33125506|  31|    NULL|NULL|    NULL|GESTAC@GESTAC.COM.BR|NULL|NULL|\n",
      "|24564292|0001| 53|  1|SERV FESTA DO SER...| 08|20180410| 01|NULL|NULL|20160411|4723700|                NULL|     RUA|FERNAO DIAS PAES ...|1213A|                NULL|           CENTRO|15685000|  SP|0808|  17|97214746|NULL|    NULL|NULL|    NULL|                NULL|NULL|NULL|\n",
      "+--------+----+---+---+--------------------+---+--------+---+----+----+--------+-------+--------------------+--------+--------------------+-----+--------------------+-----------------+--------+----+----+----+--------+----+--------+----+--------+--------------------+----+----+\n",
      "only showing top 20 rows\n",
      "\n"
     ]
    }
   ],
   "source": [
    "estabelecimentos_9.show()"
   ]
  },
  {
   "cell_type": "code",
   "execution_count": 58,
   "id": "2cbc91ac-ed38-49a6-b9fe-aced0b134423",
   "metadata": {},
   "outputs": [
    {
     "name": "stderr",
     "output_type": "stream",
     "text": [
      "[Stage 25:==============>                                           (1 + 3) / 4]\r"
     ]
    },
    {
     "name": "stdout",
     "output_type": "stream",
     "text": [
      "+--------+----+---+---+-------+---+--------+---+----+----+--------+-------+--------------------+----+------------------+----+----+--------+--------+----+----+----+--------+----+----+----+----+--------------------+----+----+\n",
      "|     _c0| _c1|_c2|_c3|    _c4|_c5|     _c6|_c7| _c8| _c9|    _c10|   _c11|                _c12|_c13|              _c14|_c15|_c16|    _c17|    _c18|_c19|_c20|_c21|    _c22|_c23|_c24|_c25|_c26|                _c27|_c28|_c29|\n",
      "+--------+----+---+---+-------+---+--------+---+----+----+--------+-------+--------------------+----+------------------+----+----+--------+--------+----+----+----+--------+----+----+----+----+--------------------+----+----+\n",
      "|24564076|0001| 08|  1|ROBATTO| 02|20160411| 00|NULL|NULL|20160411|9001902|8230001,5813100,8...| RUA|DOMINGOS MARREIROS|1718|NULL|UMARIZAL|66060160|  PA|0427|  91|80261595|NULL|NULL|NULL|NULL|soniaferro@robatt...|NULL|NULL|\n",
      "+--------+----+---+---+-------+---+--------+---+----+----+--------+-------+--------------------+----+------------------+----+----+--------+--------+----+----+----+--------+----+----+----+----+--------------------+----+----+\n",
      "\n"
     ]
    },
    {
     "name": "stderr",
     "output_type": "stream",
     "text": [
      "                                                                                \r"
     ]
    }
   ],
   "source": [
    "estabelecimentos_9.filter(F.col('_c0') == 34028316).show()"
   ]
  },
  {
   "cell_type": "code",
   "execution_count": 62,
   "id": "f99013aa-bd5c-470c-9f53-0cd697cffb35",
   "metadata": {},
   "outputs": [
    {
     "name": "stderr",
     "output_type": "stream",
     "text": [
      "23/10/20 09:40:36 WARN RowBasedKeyValueBatch: Calling spill() on RowBasedKeyValueBatch. Will not spill but return 0.\n",
      "23/10/20 09:40:36 WARN RowBasedKeyValueBatch: Calling spill() on RowBasedKeyValueBatch. Will not spill but return 0.\n",
      "23/10/20 09:40:37 WARN RowBasedKeyValueBatch: Calling spill() on RowBasedKeyValueBatch. Will not spill but return 0.\n",
      "23/10/20 09:40:37 WARN RowBasedKeyValueBatch: Calling spill() on RowBasedKeyValueBatch. Will not spill but return 0.\n",
      "23/10/20 09:40:37 WARN RowBasedKeyValueBatch: Calling spill() on RowBasedKeyValueBatch. Will not spill but return 0.\n",
      "23/10/20 09:40:37 WARN RowBasedKeyValueBatch: Calling spill() on RowBasedKeyValueBatch. Will not spill but return 0.\n",
      "23/10/20 09:40:37 WARN RowBasedKeyValueBatch: Calling spill() on RowBasedKeyValueBatch. Will not spill but return 0.\n",
      "23/10/20 09:40:37 WARN RowBasedKeyValueBatch: Calling spill() on RowBasedKeyValueBatch. Will not spill but return 0.\n",
      "23/10/20 09:40:37 WARN RowBasedKeyValueBatch: Calling spill() on RowBasedKeyValueBatch. Will not spill but return 0.\n",
      "23/10/20 09:40:37 WARN RowBasedKeyValueBatch: Calling spill() on RowBasedKeyValueBatch. Will not spill but return 0.\n",
      "23/10/20 09:40:37 WARN RowBasedKeyValueBatch: Calling spill() on RowBasedKeyValueBatch. Will not spill but return 0.\n",
      "23/10/20 09:40:37 WARN RowBasedKeyValueBatch: Calling spill() on RowBasedKeyValueBatch. Will not spill but return 0.\n",
      "23/10/20 09:40:37 WARN RowBasedKeyValueBatch: Calling spill() on RowBasedKeyValueBatch. Will not spill but return 0.\n",
      "23/10/20 09:40:37 WARN RowBasedKeyValueBatch: Calling spill() on RowBasedKeyValueBatch. Will not spill but return 0.\n",
      "23/10/20 09:40:37 WARN RowBasedKeyValueBatch: Calling spill() on RowBasedKeyValueBatch. Will not spill but return 0.\n",
      "23/10/20 09:40:37 WARN RowBasedKeyValueBatch: Calling spill() on RowBasedKeyValueBatch. Will not spill but return 0.\n",
      "[Stage 37:============>                                             (2 + 7) / 9]\r"
     ]
    },
    {
     "name": "stdout",
     "output_type": "stream",
     "text": [
      "+--------+----+---+-----+\n",
      "|     _c0| _c1|_c2|count|\n",
      "+--------+----+---+-----+\n",
      "|00000000|0014| 06|    1|\n",
      "|00000000|0081| 76|    1|\n",
      "|00000000|0133| 31|    1|\n",
      "|00000000|0084| 19|    1|\n",
      "|00000000|0010| 82|    1|\n",
      "|00000000|0095| 71|    1|\n",
      "|00000000|0166| 08|    1|\n",
      "|00000000|0157| 09|    1|\n",
      "|00000000|0090| 67|    1|\n",
      "|00000000|0420| 05|    1|\n",
      "|00000000|0172| 48|    1|\n",
      "|00000000|0443| 00|    1|\n",
      "|00000000|0029| 92|    1|\n",
      "|00000000|0453| 73|    1|\n",
      "|00000000|0363| 82|    1|\n",
      "|00000000|0459| 69|    1|\n",
      "|00000000|0122| 89|    1|\n",
      "|00000000|0472| 36|    1|\n",
      "|00000000|0419| 71|    1|\n",
      "|00000000|0564| 99|    1|\n",
      "+--------+----+---+-----+\n",
      "only showing top 20 rows\n",
      "\n"
     ]
    },
    {
     "name": "stderr",
     "output_type": "stream",
     "text": [
      "                                                                                \r"
     ]
    }
   ],
   "source": [
    "estabelecimentos_9.groupBy(F.col('_c0'), F.col('_c1'), F.col('_c2')).count().orderBy(F.col('count').desc()).show()"
   ]
  },
  {
   "cell_type": "code",
   "execution_count": 67,
   "id": "10202dc9-5265-442b-84b5-92d5f4dd77aa",
   "metadata": {},
   "outputs": [
    {
     "name": "stderr",
     "output_type": "stream",
     "text": [
      "[Stage 38:===================================================>      (8 + 1) / 9]\r"
     ]
    },
    {
     "name": "stdout",
     "output_type": "stream",
     "text": [
      "+--------+----+---+---+--------------------+---+---+---+----+----+--------+-------+--------------------+--------+--------------------+----+--------------------+--------------------+--------+----+----+----+--------+----+--------+----+--------+--------------------+----+----+\n",
      "|     _c0| _c1|_c2|_c3|                 _c4|_c5|_c6|_c7| _c8| _c9|    _c10|   _c11|                _c12|    _c13|                _c14|_c15|                _c16|                _c17|    _c18|_c19|_c20|_c21|    _c22|_c23|    _c24|_c25|    _c26|                _c27|_c28|_c29|\n",
      "+--------+----+---+---+--------------------+---+---+---+----+----+--------+-------+--------------------+--------+--------------------+----+--------------------+--------------------+--------+----+----+----+--------+----+--------+----+--------+--------------------+----+----+\n",
      "|09019610|0001| 01|  1|       ACADEMIA JUMP| 02|  0| 00|NULL|NULL|20070823|9313100|             8650004|     RUA|        ALFREDO POPS| 152|                NULL|        JARDIM ICATU|18110275|  SP|7243|  15|32431031|NULL|    NULL|  15|32431031|NORIVAL@E31MARCO....|NULL|NULL|\n",
      "|11085761|0001| 00|  1|                NULL| 02|  0| 00|NULL|NULL|20080911|9499500|                NULL|     RUA|ESTEVAO ALVES CORREA|  SN|              TERREO|                ALTO|79200000|  MS|9021|  67|32411780|NULL|    NULL|  67|32411780|                NULL|NULL|NULL|\n",
      "|04130531|0005| 83|  2|         ROSA MASTER| 02|  0| 00|NULL|NULL|20050510|9603304|7729203,9603301,9...|     RUA|PREF DR JOSE FRED...| 249|                NULL|              CENTRO|55890000|  PE|2313|  81|36313587|NULL|    NULL|  81|36314443|ALMIR.BENTO@ICOON...|NULL|NULL|\n",
      "|11237497|0001| 82|  1|                NULL| 02|  0| 00|NULL|NULL|20090828|8121400|7820500,5620101,8...|     RUA|           GAMA ROSA| 104|EDIF  LUCIAN     ...|              CENTRO|29015100|  ES|5705|  27|32338657|  27|32338657|  27|32338657|volcati@volcatico...|NULL|NULL|\n",
      "|03476811|0116| 09|  2|                NULL| 02|  0| 00|NULL|NULL|20030908|8599604|     4721102,7490104|     RUA|     TEODORO SAMPAIO| 599|      605        ...|           PINHEIROS|05405050|  SP|7107|  11|38868087|  11|38868000|  11|38868017|cintia.guerra@car...|NULL|NULL|\n",
      "|11272232|0001| 15|  1|FUNDO MUNICIPAL D...| 02|  0| 00|NULL|NULL|19950914|8630502|             8630599|     RUA|       FREI LIBERATO| 249|              PREDIO|              CENTRO|89818000|  SC|5589|  49|33270066|  49|33270061|  49|33270066|contabilidade@nov...|NULL|NULL|\n",
      "|07397823|0001| 41|  1|              ABETUM| 02|  0| 00|NULL|NULL|20050504|4781400|             4751201|     RUA|T 46 ESQ.  C/  AV...| 386|                NULL|        SETOR  BUENO|74210190|  GO|9373|  62| 2854242|NULL|    NULL|NULL|    NULL|                NULL|NULL|NULL|\n",
      "|11741026|0001| 07|  1|    BRANDAO PESCADOS| 02|  0| 00|NULL|NULL|20100323|4634603|                NULL|TRAVESSA|              PARANA|  59|            SALA  01|     AEROPORTO VELHO|68020100|  PA|0535|  93|91284392|NULL|    NULL|NULL|    NULL|NRBRANDAO@2022GMA...|NULL|NULL|\n",
      "|06885879|0001| 82|  1|                NULL| 02|  0| 00|NULL|NULL|20040721|4711302|4617600,4723700,4...| AVENIDA|  JULIO DE CASTILHOS| 512|           SUBSL 001|              CENTRO|95330000|  RS|8959|  54|34416043|NULL|    NULL|NULL|    NULL|COMPRAS.ZECHIN@GM...|NULL|NULL|\n",
      "|75717355|0010| 96|  2|   USACUCAR - RONDON| 02|  0| 00|NULL|NULL|20100630|1071600|1931400,5091202,0...| RODOVIA|        PR 492 KM 47| S/N|      USACUCAR RO...|          ZONA RURAL|87800000|  PR|7829|  44|32181954|  44|32181889|  44|32181918|MARIOSERGIO@USACU...|NULL|NULL|\n",
      "|07397747|0001| 74|  1|                NULL| 02|  0| 00|NULL|NULL|20050517|4530701|                NULL| AVENIDA|  DOUTOR JOSE HIGINO| 857|                NULL|       VILA ORATORIO|03189040|  SP|7107|NULL|    NULL|NULL|    NULL|NULL|    NULL|                NULL|NULL|NULL|\n",
      "|75717355|0012| 58|  2| USACUCAR - SAO TOME| 02|  0| 00|NULL|NULL|20100630|1931400|             0113000| RODOVIA|PR 82 KM 14 - TRE...| S/N|      GLEBA DOS S...|          ZONA RURAL|87220000|  PR|7897|  44|32181954|  44|32181889|  44|32181918|MARIOSERGIO@USACU...|NULL|NULL|\n",
      "|11022597|0015| 97|  2|PRONTO S.CARDIOLO...| 02|  0| 00|NULL|NULL|20020420|8610101|                NULL|     RUA|        DOS PALMARES| S/N|                NULL|         SANTO AMARO|50100060|  PE|2531|  81|34212878|NULL|    NULL|  81|34212129|                NULL|NULL|NULL|\n",
      "|07398021|0001| 56|  1|                NULL| 02|  0| 00|NULL|NULL|20050524|4755502|                NULL| AVENIDA|    SETE DE SETEMBRO|2567|                NULL|              CENTRO|19210000|  SP|7179|  18|32891393|NULL|    NULL|  18|32891393|                NULL|NULL|NULL|\n",
      "|10633615|0001| 09|  1|                NULL| 02|  0| 00|NULL|NULL|20090210|4120400|2330301,2790202,3...|     RUA|       TENENTE CRAVO| 633|                NULL|   ALTO DA BOA VISTA|63900002|  CE|1527|  88|34121840|NULL|    NULL|  88|34121840|prescon.ce@uol.co...|NULL|NULL|\n",
      "|07397830|0001| 43|  1|BOLSA DE RELOGIO ...| 02|  0| 00|NULL|NULL|20050517|9529103|     9529106,9529199| AVENIDA|   CASTELO DE CASTRO| 997|LOJA  23         ...|          JANGURUSSU|60866681|  CE|1389|  85|31108281|NULL|    NULL|NULL|    NULL|PLENITUDE.CONTABI...|NULL|NULL|\n",
      "|03509978|0015| 77|  2|            FACCHINI| 02|  0| 00|NULL|NULL|20040929|2930101|     4520001,4520007| AVENIDA|    JOSE MARAO FILHO|8754|             TERREO;|POLO COMERCIAL E ...|15502045|  SP|7245|  17|34059000|NULL|    NULL|  17|34059200|FACCHINI@FACCHINI...|NULL|NULL|\n",
      "|07398031|0001| 91|  1|     A&G CONSULTORIA| 02|  0| 00|NULL|NULL|20050519|7020400|             6204000|     RUA|        DIAS DA CRUZ| 445|           SALA  204|               MEIER|20720010|  RJ|6001|  21|35913400|NULL|    NULL|  21|35913400|fransciscoaraujo@...|NULL|NULL|\n",
      "|06886628|0001| 12|  1|MATERIAIS PARA CO...| 02|  0| 00|NULL|NULL|20040709|4744099|4744001,4743100,4...|     RUA|MINELVINO LIMA DE...|  SN|QUADRA: 18; LOTE:...|              CENTRO|77798000|  TO|0189|  63|34761150|NULL|    NULL|NULL|    NULL|MONTECARMELOPALME...|NULL|NULL|\n",
      "|07398042|0001| 71|  1|         SAUDPHARMA.| 02|  0| 00|NULL|NULL|20050516|4771701|4721104,4763601,4...| AVENIDA|         DAS ACACIAS| 617|                NULL|JARDIM DAS ALTERO...|32673325|  MG|4133|  31|35115213|NULL|    NULL|  31|33984849|PIDROGARIALTDA@GM...|NULL|NULL|\n",
      "+--------+----+---+---+--------------------+---+---+---+----+----+--------+-------+--------------------+--------+--------------------+----+--------------------+--------------------+--------+----+----+----+--------+----+--------+----+--------+--------------------+----+----+\n",
      "only showing top 20 rows\n",
      "\n"
     ]
    },
    {
     "name": "stderr",
     "output_type": "stream",
     "text": [
      "                                                                                \r"
     ]
    }
   ],
   "source": [
    "estabelecimentos_9.orderBy('_c6').show()"
   ]
  },
  {
   "cell_type": "code",
   "execution_count": null,
   "id": "8f0bded1-17c8-4ff2-a23b-71d145555850",
   "metadata": {},
   "outputs": [],
   "source": [
    "+--------+----+---+---+--------------------+---+--------+---+----+----+--------+-------+--------------------+--------+--------------------+-----+--------------------+-----------------+--------+----+----+----+--------+----+--------+----+--------+--------------------+----+----+\n",
    "|     _c0| _c1|_c2|_c3|                 _c4|_c5|     _c6|_c7| _c8| _c9|    _c10|   _c11|                _c12|    _c13|                _c14| _c15|                _c16|             _c17|    _c18|_c19|_c20|_c21|    _c22|_c23|    _c24|_c25|    _c26|                _c27|_c28|_c29|\n",
    "+--------+----+---+---+--------------------+---+--------+---+----+----+--------+-------+--------------------+--------+--------------------+-----+--------------------+-----------------+--------+----+----+----+--------+----+--------+----+--------+--------------------+----+----+\n",
    "|24564062|0001| 94|  1|                NULL| 02|20160411| 00|NULL|NULL|20160411|0155504|             0159899| CHACARA|            ROUXINOL|    0|                NULL|        SAO BENTO|13160000|  SP|6175|  19|38771023|NULL|    NULL|NULL|    NULL|                NULL|NULL|NULL|\n",
    "|24564076|0001| 08|  1|             ROBATTO| 02|20160411| 00|NULL|NULL|20160411|9001902|8230001,5813100,8...|     RUA|  DOMINGOS MARREIROS| 1718|                NULL|         UMARIZAL|66060160|  PA|0427|  91|80261595|NULL|    NULL|NULL|    NULL|soniaferro@robatt...|NULL|NULL|\n",
    "|24564088|0001| 32|  1|         ALMEIDA MEI| 04|20210303| 63|NULL|NULL|20160411|7319002|             4782201|     RUA|           MEN DE SA|   57|                CASA| JARDIM AEROPORTO|76920000|  RO|0017|  69|93299788|NULL|    NULL|NULL|    NULL|ronivaldoopo@hotm...|NULL|NULL|\n",
    "|24564100|0001| 09|  1|KUMAM INDUSTRIA E...| 08|20201208| 01|NULL|NULL|20160411|4672900|             2593400|     RUA|      RIBEIRAO PRETO|  236|                NULL| ARRAIAL PAULISTA|06780190|  SP|7157|  11|45675288|  11|57023793|  11|45675288|KUMAM.IND@HOTMAIL...|NULL|NULL|\n",
    "|24564115|0001| 77|  1|   LOJAO DA ECONOMIA| 04|20210422| 63|NULL|NULL|20160411|4781400|     4755503,4789099|     RUA|  ALICE ROSA SANTANA|   17|                CASA|    ARNULFO ORFAO|45280000|  BA|3571|  73|88686808|NULL|    NULL|NULL|    NULL|aamandas.silva@ho...|NULL|NULL|\n",
    "|24564126|0001| 57|  1|NANCI TAMD TOUCAS...| 04|20210319| 63|NULL|NULL|20160411|1412601|                NULL|TRAVESSA|  JOAO DE SOUZA DIAS|   70|                NULL|        JACUTINGA|26564280|  RJ|1116|  21|73512585|NULL|    NULL|NULL|    NULL|                NULL|NULL|NULL|\n",
    "|24564204|0001| 13|  1|CRC INSTALACOES E...| 08|20180625| 01|NULL|NULL|20160411|3321000|3314707,4322303,4...|     RUA|               CHINA|  567|                NULL|PARQUE DAS NACOES|13470191|  SP|6131|  19|36014699|NULL|    NULL|NULL|    NULL|  carlosrcjr@msn.com|NULL|NULL|\n",
    "|14387130|0001| 33|  1|REGISDATA INFORMA...| 08|20160411| 01|NULL|NULL|20110930|4751201|9511800,9001906,3...|     RUA|Rua Professor Rub...| 4135|                NULL|  Jardim Paulista|15700726|  SP|6597|  17|36328224|NULL|    NULL|NULL|    NULL|regisdata@bol.com.br|NULL|NULL|\n",
    "|24564158|0001| 52|  1|       JM MOTO PECAS| 02|20160411| 00|NULL|NULL|20160411|4541206|             4530705| AVENIDA|      AV PIMENTEIRAS| 1142|                NULL|         VALENTIM|64300000|  PI|1225|  89|99740245|NULL|    NULL|NULL|    NULL|GERENCIALVALENCA@...|NULL|NULL|\n",
    "|24564173|0001| 09|  1|PC TREINAMENTO E ...| 02|20160318| 00|NULL|NULL|20160318|7319002|                NULL|     RUA|    CORONEL DULCIDIO| 1256|           APT   802|       AGUA VERDE|80250100|  PR|7535|  41|32446917|NULL|    NULL|NULL|    NULL| PC@RODRIGUES.PPG.BR|NULL|NULL|\n",
    "|24564184|0001| 80|  1|            CONSULTE| 02|20160411| 00|NULL|NULL|20160411|6204000|                NULL|     RUA|        FLAVIO UCHOA| 1699|                NULL|   CAMPOS ELISEOS|14085600|  SP|6969|  16|38774010|  16|91704130|  16|39691223|RENATOJOSE@GMAIL.COM|NULL|NULL|\n",
    "|24564193|0001| 71|  1|    KUHN INSTALACOES| 08|20181107| 01|NULL|NULL|20160411|4321500|                NULL|     RUA|      ALDO LOCATELLI|  359|                CASA|     SANTO INACIO|93290410|  RS|8651|  51|96066525|NULL|    NULL|NULL|    NULL|vagnerkuhn.k@hotm...|NULL|NULL|\n",
    "|24564206|0001| 02|  1|PIATTO DI PARMA C...| 02|20160311| 00|NULL|NULL|20160311|5611201|     4721104,5611203|     RUA|   GUILHERME ABRAHAM|   41|           SALA  101|           CENTRO|95670088|  RS|8681|  54|32862741|NULL|    NULL|NULL|    NULL|DIRENO@DIRENO.COM.BR|NULL|NULL|\n",
    "|24564219|0001| 81|  1|                NULL| 02|20160411| 00|NULL|NULL|20160411|4633801|     4930201,4930202| AVENIDA|            BRASILIA|10000|BOX   29         ...|          LINDOIA|86031770|  PR|7667|  43|96611509|NULL|    NULL|NULL|    NULL|ATACADAOFOLLY7374...|NULL|NULL|\n",
    "|24564233|0001| 85|  1|                NULL| 08|20180928| 01|NULL|NULL|20160411|5611201|             5620102| AVENIDA|        DOS ANDRADAS|  874|            LOJA  02|           CENTRO|36036000|  MG|4733|  32|32134692|NULL|    NULL|NULL|    NULL|     ADM@MRJF.COM.BR|NULL|NULL|\n",
    "|24564245|0001| 00|  1|                NULL| 04|20210305| 63|NULL|NULL|20160411|5611201|             8230001|TRAVESSA|       ALEX VALLAURI|   08|                NULL|       ITAIM BIBI|04533020|  SP|7107|  11|31686467|NULL|    NULL|NULL|    NULL|FABIANO@JARDIMAUR...|NULL|NULL|\n",
    "|24564255|0001| 45|  1|                NULL| 02|20160411| 00|NULL|NULL|20160411|4330404|                NULL|     RUA|URIAS RODRIGUES D...|   75|                NULL|  JARDIM BRASILIA|38401330|  MG|5403|  34|96751835|NULL|    NULL|NULL|    NULL|DAIANE_MARY2012@Y...|NULL|NULL|\n",
    "|24564266|0001| 25|  1|          MOTO LIVRE| 02|20160409| 00|NULL|NULL|20160409|4541206|     4520002,4543900| AVENIDA|                 V 8|   SN|QUADRA332        ...| CIDADE VERA CRUZ|74937630|  GO|9227|  62|32777702|NULL|    NULL|NULL|    NULL|MOTOLIVRE.BURITI@...|NULL|NULL|\n",
    "|24564278|0001| 50|  1|                NULL| 02|20160411| 00|NULL|NULL|20160411|6810201|             6810203|     RUA|SEBASTIAO FABIANO...|  210|                NULL|        BELVEDERE|30320690|  MG|4123|  31|33125506|  31|    NULL|NULL|    NULL|GESTAC@GESTAC.COM.BR|NULL|NULL|\n",
    "|24564292|0001| 53|  1|SERV FESTA DO SER...| 08|20180410| 01|NULL|NULL|20160411|4723700|                NULL|     RUA|FERNAO DIAS PAES ...|1213A|                NULL|           CENTRO|15685000|  SP|0808|  17|97214746|NULL|    NULL|NULL|    NULL|                NULL|NULL|NULL|\n",
    "+--------+----+---+---+--------------------+---+--------+---+----+----+--------+-------+--------------------+--------+--------------------+-----+--------------------+-----------------+--------+----+----+----+--------+----+--------+----+--------+--------------------+----+----+"
   ]
  },
  {
   "cell_type": "code",
   "execution_count": 99,
   "id": "3e6db6e5-79ee-4e95-a3bc-19adf6182849",
   "metadata": {},
   "outputs": [],
   "source": [
    "e = estabelecimentos_9.filter(F.col('_c6') != '0')"
   ]
  },
  {
   "cell_type": "code",
   "execution_count": 100,
   "id": "8ea0af15-8517-4d7c-803b-22b6b2d4a016",
   "metadata": {},
   "outputs": [],
   "source": [
    "e_ = e.select(\"*\",F.to_date(F.col(\"_c6\"),\"yyyyMMdd\").alias(\"date\")).orderBy(F.col('date').asc()).limit(1000)"
   ]
  },
  {
   "cell_type": "code",
   "execution_count": 102,
   "id": "435f7605-582e-4db7-ae6f-de86a3b4469e",
   "metadata": {},
   "outputs": [
    {
     "name": "stderr",
     "output_type": "stream",
     "text": [
      "                                                                                \r"
     ]
    },
    {
     "data": {
      "text/html": [
       "<div>\n",
       "<style scoped>\n",
       "    .dataframe tbody tr th:only-of-type {\n",
       "        vertical-align: middle;\n",
       "    }\n",
       "\n",
       "    .dataframe tbody tr th {\n",
       "        vertical-align: top;\n",
       "    }\n",
       "\n",
       "    .dataframe thead th {\n",
       "        text-align: right;\n",
       "    }\n",
       "</style>\n",
       "<table border=\"1\" class=\"dataframe\">\n",
       "  <thead>\n",
       "    <tr style=\"text-align: right;\">\n",
       "      <th></th>\n",
       "      <th>_c0</th>\n",
       "      <th>_c1</th>\n",
       "      <th>_c2</th>\n",
       "      <th>_c3</th>\n",
       "      <th>_c4</th>\n",
       "      <th>_c5</th>\n",
       "      <th>_c6</th>\n",
       "      <th>_c7</th>\n",
       "      <th>_c8</th>\n",
       "      <th>_c9</th>\n",
       "      <th>...</th>\n",
       "      <th>_c21</th>\n",
       "      <th>_c22</th>\n",
       "      <th>_c23</th>\n",
       "      <th>_c24</th>\n",
       "      <th>_c25</th>\n",
       "      <th>_c26</th>\n",
       "      <th>_c27</th>\n",
       "      <th>_c28</th>\n",
       "      <th>_c29</th>\n",
       "      <th>date</th>\n",
       "    </tr>\n",
       "  </thead>\n",
       "  <tbody>\n",
       "    <tr>\n",
       "      <th>0</th>\n",
       "      <td>11461683</td>\n",
       "      <td>0001</td>\n",
       "      <td>09</td>\n",
       "      <td>1</td>\n",
       "      <td>None</td>\n",
       "      <td>02</td>\n",
       "      <td>16010101</td>\n",
       "      <td>00</td>\n",
       "      <td>None</td>\n",
       "      <td>None</td>\n",
       "      <td>...</td>\n",
       "      <td>19</td>\n",
       "      <td>38730286</td>\n",
       "      <td>19</td>\n",
       "      <td>38730951</td>\n",
       "      <td>19</td>\n",
       "      <td>38730951</td>\n",
       "      <td>None</td>\n",
       "      <td>None</td>\n",
       "      <td>None</td>\n",
       "      <td>1601-01-01</td>\n",
       "    </tr>\n",
       "    <tr>\n",
       "      <th>1</th>\n",
       "      <td>05487690</td>\n",
       "      <td>0001</td>\n",
       "      <td>79</td>\n",
       "      <td>1</td>\n",
       "      <td>CARTORIO JANIR SILVERIO</td>\n",
       "      <td>02</td>\n",
       "      <td>19010101</td>\n",
       "      <td>00</td>\n",
       "      <td>None</td>\n",
       "      <td>None</td>\n",
       "      <td>...</td>\n",
       "      <td>None</td>\n",
       "      <td>None</td>\n",
       "      <td>None</td>\n",
       "      <td>None</td>\n",
       "      <td>None</td>\n",
       "      <td>None</td>\n",
       "      <td>None</td>\n",
       "      <td>None</td>\n",
       "      <td>None</td>\n",
       "      <td>1901-01-01</td>\n",
       "    </tr>\n",
       "    <tr>\n",
       "      <th>2</th>\n",
       "      <td>03961724</td>\n",
       "      <td>0001</td>\n",
       "      <td>90</td>\n",
       "      <td>1</td>\n",
       "      <td>None</td>\n",
       "      <td>02</td>\n",
       "      <td>19010101</td>\n",
       "      <td>00</td>\n",
       "      <td>None</td>\n",
       "      <td>386</td>\n",
       "      <td>...</td>\n",
       "      <td>21</td>\n",
       "      <td>35341315</td>\n",
       "      <td>None</td>\n",
       "      <td>None</td>\n",
       "      <td>021</td>\n",
       "      <td>2626348</td>\n",
       "      <td>RIODEJANEIRO.AMMIN@ESTERI.IT</td>\n",
       "      <td>None</td>\n",
       "      <td>None</td>\n",
       "      <td>1901-01-01</td>\n",
       "    </tr>\n",
       "    <tr>\n",
       "      <th>3</th>\n",
       "      <td>89522064</td>\n",
       "      <td>0088</td>\n",
       "      <td>17</td>\n",
       "      <td>2</td>\n",
       "      <td>FORO DA COMARCA DE PASSO FUNDO</td>\n",
       "      <td>02</td>\n",
       "      <td>19010101</td>\n",
       "      <td>00</td>\n",
       "      <td>None</td>\n",
       "      <td>None</td>\n",
       "      <td>...</td>\n",
       "      <td>54</td>\n",
       "      <td>33115377</td>\n",
       "      <td>None</td>\n",
       "      <td>None</td>\n",
       "      <td>054</td>\n",
       "      <td>3114895</td>\n",
       "      <td>FRPASFUNDOJZDIR@TJ.RS.GOV.BR</td>\n",
       "      <td>None</td>\n",
       "      <td>None</td>\n",
       "      <td>1901-01-01</td>\n",
       "    </tr>\n",
       "    <tr>\n",
       "      <th>4</th>\n",
       "      <td>04041565</td>\n",
       "      <td>0001</td>\n",
       "      <td>78</td>\n",
       "      <td>1</td>\n",
       "      <td>CONSULADO GERAL DA ALEMANHA</td>\n",
       "      <td>02</td>\n",
       "      <td>19010101</td>\n",
       "      <td>00</td>\n",
       "      <td>None</td>\n",
       "      <td>023</td>\n",
       "      <td>...</td>\n",
       "      <td>81</td>\n",
       "      <td>34635350</td>\n",
       "      <td>None</td>\n",
       "      <td>None</td>\n",
       "      <td>81</td>\n",
       "      <td>34654084</td>\n",
       "      <td>info.recife@alemanha.org.br</td>\n",
       "      <td>None</td>\n",
       "      <td>None</td>\n",
       "      <td>1901-01-01</td>\n",
       "    </tr>\n",
       "    <tr>\n",
       "      <th>...</th>\n",
       "      <td>...</td>\n",
       "      <td>...</td>\n",
       "      <td>...</td>\n",
       "      <td>...</td>\n",
       "      <td>...</td>\n",
       "      <td>...</td>\n",
       "      <td>...</td>\n",
       "      <td>...</td>\n",
       "      <td>...</td>\n",
       "      <td>...</td>\n",
       "      <td>...</td>\n",
       "      <td>...</td>\n",
       "      <td>...</td>\n",
       "      <td>...</td>\n",
       "      <td>...</td>\n",
       "      <td>...</td>\n",
       "      <td>...</td>\n",
       "      <td>...</td>\n",
       "      <td>...</td>\n",
       "      <td>...</td>\n",
       "      <td>...</td>\n",
       "    </tr>\n",
       "    <tr>\n",
       "      <th>995</th>\n",
       "      <td>76495886</td>\n",
       "      <td>0006</td>\n",
       "      <td>68</td>\n",
       "      <td>2</td>\n",
       "      <td>None</td>\n",
       "      <td>08</td>\n",
       "      <td>19751103</td>\n",
       "      <td>01</td>\n",
       "      <td>None</td>\n",
       "      <td>None</td>\n",
       "      <td>...</td>\n",
       "      <td>None</td>\n",
       "      <td>None</td>\n",
       "      <td>None</td>\n",
       "      <td>None</td>\n",
       "      <td>None</td>\n",
       "      <td>None</td>\n",
       "      <td>None</td>\n",
       "      <td>None</td>\n",
       "      <td>None</td>\n",
       "      <td>1975-11-03</td>\n",
       "    </tr>\n",
       "    <tr>\n",
       "      <th>996</th>\n",
       "      <td>11119500</td>\n",
       "      <td>0001</td>\n",
       "      <td>63</td>\n",
       "      <td>1</td>\n",
       "      <td>MERCEARIA DO POVO</td>\n",
       "      <td>01</td>\n",
       "      <td>19751104</td>\n",
       "      <td>34</td>\n",
       "      <td>None</td>\n",
       "      <td>None</td>\n",
       "      <td>...</td>\n",
       "      <td>None</td>\n",
       "      <td>None</td>\n",
       "      <td>None</td>\n",
       "      <td>None</td>\n",
       "      <td>None</td>\n",
       "      <td>None</td>\n",
       "      <td>None</td>\n",
       "      <td>None</td>\n",
       "      <td>None</td>\n",
       "      <td>1975-11-04</td>\n",
       "    </tr>\n",
       "    <tr>\n",
       "      <th>997</th>\n",
       "      <td>12361986</td>\n",
       "      <td>0001</td>\n",
       "      <td>04</td>\n",
       "      <td>1</td>\n",
       "      <td>None</td>\n",
       "      <td>08</td>\n",
       "      <td>19751106</td>\n",
       "      <td>09</td>\n",
       "      <td>None</td>\n",
       "      <td>None</td>\n",
       "      <td>...</td>\n",
       "      <td>None</td>\n",
       "      <td>None</td>\n",
       "      <td>None</td>\n",
       "      <td>None</td>\n",
       "      <td>None</td>\n",
       "      <td>None</td>\n",
       "      <td>None</td>\n",
       "      <td>None</td>\n",
       "      <td>None</td>\n",
       "      <td>1975-11-06</td>\n",
       "    </tr>\n",
       "    <tr>\n",
       "      <th>998</th>\n",
       "      <td>13959507</td>\n",
       "      <td>0001</td>\n",
       "      <td>19</td>\n",
       "      <td>1</td>\n",
       "      <td>SAMAL</td>\n",
       "      <td>08</td>\n",
       "      <td>19751106</td>\n",
       "      <td>01</td>\n",
       "      <td>None</td>\n",
       "      <td>None</td>\n",
       "      <td>...</td>\n",
       "      <td>None</td>\n",
       "      <td>None</td>\n",
       "      <td>None</td>\n",
       "      <td>None</td>\n",
       "      <td>None</td>\n",
       "      <td>None</td>\n",
       "      <td>None</td>\n",
       "      <td>None</td>\n",
       "      <td>None</td>\n",
       "      <td>1975-11-06</td>\n",
       "    </tr>\n",
       "    <tr>\n",
       "      <th>999</th>\n",
       "      <td>34877547</td>\n",
       "      <td>0001</td>\n",
       "      <td>91</td>\n",
       "      <td>1</td>\n",
       "      <td>None</td>\n",
       "      <td>02</td>\n",
       "      <td>19751112</td>\n",
       "      <td>00</td>\n",
       "      <td>None</td>\n",
       "      <td>None</td>\n",
       "      <td>...</td>\n",
       "      <td>32</td>\n",
       "      <td>32171228</td>\n",
       "      <td>None</td>\n",
       "      <td>None</td>\n",
       "      <td>None</td>\n",
       "      <td>None</td>\n",
       "      <td>FERNANDO@PIRESMENDONCA.COM.BR</td>\n",
       "      <td>None</td>\n",
       "      <td>None</td>\n",
       "      <td>1975-11-12</td>\n",
       "    </tr>\n",
       "  </tbody>\n",
       "</table>\n",
       "<p>1000 rows × 31 columns</p>\n",
       "</div>"
      ],
      "text/plain": [
       "          _c0   _c1 _c2 _c3                             _c4 _c5       _c6 _c7  \\\n",
       "0    11461683  0001  09   1                            None  02  16010101  00   \n",
       "1    05487690  0001  79   1         CARTORIO JANIR SILVERIO  02  19010101  00   \n",
       "2    03961724  0001  90   1                            None  02  19010101  00   \n",
       "3    89522064  0088  17   2  FORO DA COMARCA DE PASSO FUNDO  02  19010101  00   \n",
       "4    04041565  0001  78   1     CONSULADO GERAL DA ALEMANHA  02  19010101  00   \n",
       "..        ...   ...  ..  ..                             ...  ..       ...  ..   \n",
       "995  76495886  0006  68   2                            None  08  19751103  01   \n",
       "996  11119500  0001  63   1               MERCEARIA DO POVO  01  19751104  34   \n",
       "997  12361986  0001  04   1                            None  08  19751106  09   \n",
       "998  13959507  0001  19   1                           SAMAL  08  19751106  01   \n",
       "999  34877547  0001  91   1                            None  02  19751112  00   \n",
       "\n",
       "      _c8   _c9  ...  _c21      _c22  _c23      _c24  _c25      _c26  \\\n",
       "0    None  None  ...    19  38730286    19  38730951    19  38730951   \n",
       "1    None  None  ...  None      None  None      None  None      None   \n",
       "2    None   386  ...    21  35341315  None      None   021   2626348   \n",
       "3    None  None  ...    54  33115377  None      None   054   3114895   \n",
       "4    None   023  ...    81  34635350  None      None    81  34654084   \n",
       "..    ...   ...  ...   ...       ...   ...       ...   ...       ...   \n",
       "995  None  None  ...  None      None  None      None  None      None   \n",
       "996  None  None  ...  None      None  None      None  None      None   \n",
       "997  None  None  ...  None      None  None      None  None      None   \n",
       "998  None  None  ...  None      None  None      None  None      None   \n",
       "999  None  None  ...    32  32171228  None      None  None      None   \n",
       "\n",
       "                              _c27  _c28  _c29        date  \n",
       "0                             None  None  None  1601-01-01  \n",
       "1                             None  None  None  1901-01-01  \n",
       "2     RIODEJANEIRO.AMMIN@ESTERI.IT  None  None  1901-01-01  \n",
       "3     FRPASFUNDOJZDIR@TJ.RS.GOV.BR  None  None  1901-01-01  \n",
       "4      info.recife@alemanha.org.br  None  None  1901-01-01  \n",
       "..                             ...   ...   ...         ...  \n",
       "995                           None  None  None  1975-11-03  \n",
       "996                           None  None  None  1975-11-04  \n",
       "997                           None  None  None  1975-11-06  \n",
       "998                           None  None  None  1975-11-06  \n",
       "999  FERNANDO@PIRESMENDONCA.COM.BR  None  None  1975-11-12  \n",
       "\n",
       "[1000 rows x 31 columns]"
      ]
     },
     "execution_count": 102,
     "metadata": {},
     "output_type": "execute_result"
    }
   ],
   "source": [
    "e_.toPandas()"
   ]
  },
  {
   "cell_type": "code",
   "execution_count": 95,
   "id": "69de9b38-38f1-4d42-9ad4-cf33ef7b80ed",
   "metadata": {},
   "outputs": [],
   "source": [
    "e = estabelecimentos_9.select(\"*\",F.to_date(F.col(\"_c6\"),\"yyyyMMdd\").alias(\"date\")).orderBy(F.col('date').asc()).limit(1000)"
   ]
  },
  {
   "cell_type": "code",
   "execution_count": null,
   "id": "b3f11d8d-5017-4976-950c-c3c06deb0bbb",
   "metadata": {},
   "outputs": [],
   "source": [
    "+--------+----+---+---+--------------------+---+--------+---+----+----+--------+-------+--------------------+-------+--------------------+----+-----------------+--------------------+--------+----+----+----+--------+----+----+----+----+--------------------+----+----+----------+\n",
    "|     _c0| _c1|_c2|_c3|                 _c4|_c5|     _c6|_c7| _c8| _c9|    _c10|   _c11|                _c12|   _c13|                _c14|_c15|             _c16|                _c17|    _c18|_c19|_c20|_c21|    _c22|_c23|_c24|_c25|_c26|                _c27|_c28|_c29|      date|\n",
    "+--------+----+---+---+--------------------+---+--------+---+----+----+--------+-------+--------------------+-------+--------------------+----+-----------------+--------------------+--------+----+----+----+--------+----+----+----+----+--------------------+----+----+----------+\n",
    "|47814394|0001| 85|  1|  LBB REPRESENTACOES| 08|20231014| 01|NULL|NULL|20220901|7319002|     5612100,8230001|    RUA|PROFESSOR ALGACYR...|1925|             NULL|   CIDADE INDUSTRIAL|81310020|  PR|7535|  41|91551025|NULL|NULL|NULL|NULL|LUANABUERGER@HOTM...|NULL|NULL|2023-10-14|\n",
    "|52427953|0001| 34|  1|NORTE ENERGIA SOL...| 08|20231014| 01|NULL|NULL|20231004|4321500|                NULL|10A RUA|   MANOELO DE GUSMAO| 123|           LOJA 1|           O CORIGAO|68632000|  PA|0623|  91|93674171|NULL|NULL|NULL|NULL|FATURAMENTOENERGI...|NULL|NULL|2023-10-14|\n",
    "|43574407|0001| 35|  1|        SERVOPA MANU| 08|20231014| 01|NULL|NULL|20210920|4530704|                NULL|    RUA|        JOSE GELBCKE| 190|             NULL|             UBERABA|81590380|  PR|7535|  41|99732877|NULL|NULL|NULL|NULL|SERVOPAMANU@OUTLO...|NULL|NULL|2023-10-14|\n",
    "|52523937|0001| 45|  1|             DJCONNI| 02|20231014| 00|NULL|NULL|20231014|9001906|             9700500|    RUA|            TAMANDUA|  54|           COND 3|                PIPA|59178000|  RN|1881|  21|75243086|NULL|NULL|NULL|NULL|CONSTANZA.MELICA@...|NULL|NULL|2023-10-14|\n",
    "|29426187|0001| 71|  1|            JMS GOOD| 08|20231014| 01|NULL|NULL|20180112|4399103|4744003,4755503,4...|    RUA|    JOSE MARIA CLARO| 640|      FUNDOS 44 B|   JARDIM DO CASTELO|08503200|  SP|6415|  11|42630680|NULL|NULL|NULL|NULL|jose.m.santos82@g...|NULL|NULL|2023-10-14|\n",
    "|52468348|0001| 01|  1|                NULL| 08|20231014| 01|NULL|NULL|20231009|4781400|                NULL|    RUA|  BOM JESUS DO MONTE| 166|             NULL|      JARDIM MARILIA|03579000|  SP|7107|  11|99999999|NULL|NULL|NULL|NULL|CONTADOR@JHCONTAB...|NULL|NULL|2023-10-14|\n",
    "|42585823|0001| 76|  1|       PORAO LANCHES| 08|20231014| 01|NULL|NULL|20210705|5611203|             5611204|    RUA|           JOSE ZAGO| 450|             NULL|          SAO MANOEL|95255000|  RS|6013|  54|84033992|NULL|NULL|NULL|NULL|ANGELA55355@GMAIL...|NULL|NULL|2023-10-14|\n",
    "|52049030|0001| 96|  1|                NULL| 08|20231014| 01|NULL|NULL|20230901|5912099|5819100,5813100,4...|    RUA|        MIGUEL COUTO|   0|LOTE 15;QUADRA 29|          SARACURUNA|25212435|  RJ|5833|  21|       0|NULL|NULL|NULL|NULL|ARAUJOANTONNY02@G...|NULL|NULL|2023-10-14|\n",
    "|35989336|0001| 03|  1|                NULL| 08|20231014| 01|NULL|NULL|20200114|8219999|                NULL|    RUA|VIRGILIO DA SILVA...| 442|          SALA 03|     SANTA TEREZINHA|13411083|  SP|6875|  19|33758565|NULL|NULL|NULL|NULL|IRIS@PRGARCIA.COM.BR|NULL|NULL|2023-10-14|\n",
    "|52523745|0001| 39|  1|     ALM INSTALADORA| 02|20231014| 00|NULL|NULL|20231014|4322302|                NULL|10A RUA|                902D| 413|             NULL|      ALTO SAO BENTO|88220000|  SC|8163|  47|96358807|NULL|NULL|NULL|NULL|XAANDE.LOPES20@GM...|NULL|NULL|2023-10-14|\n",
    "|42732732|0001| 16|  1|                NULL| 08|20231014| 01|NULL|NULL|20210715|9602501|                NULL|    RUA|         FREI CANECA| 878|             NULL|JARDIM CAMPOS ELI...|13060023|  SP|6291|  19|71052081|NULL|NULL|NULL|NULL|JULIANAALVES.90.J...|NULL|NULL|2023-10-14|\n",
    "|52523831|0001| 41|  1|    RESTAURANTE TAUA| 02|20231014| 00|NULL|NULL|20231014|5611201|                NULL|AVENIDA|        PIRES DO RIO|1354|             NULL|JARDIM SAO SEBASTIAO|08041000|  SP|7107|  11|67176767|NULL|NULL|NULL|NULL|REENZOEISIS@GMAIL...|NULL|NULL|2023-10-14|\n",
    "|34394349|0001| 77|  1|HAIN VIAGEM E TUR...| 08|20231014| 01|NULL|NULL|20190801|7911200|                NULL|AVENIDA|SEVERINO PEREIRA ...|1930| FUNDOS LT25 Q165|              CABUCU|26291401|  RJ|5869|  21|26677809|NULL|NULL|NULL|NULL|IRISYUMIRI17@GMAI...|NULL|NULL|2023-10-14|\n",
    "|52523840|0001| 32|  1|               SILAS| 02|20231014| 00|NULL|NULL|20231014|4930201|                NULL|    RUA|DEOCLECIO SOARES ...| 153|             NULL|      ARMANDO MENDES|69089235|  AM|0255|  92|88471725|NULL|NULL|NULL|NULL|MIRANDALOYANA@GMA...|NULL|NULL|2023-10-14|\n",
    "|31636336|0001| 79|  1|       FINANCEIRA MT| 08|20231014| 01|NULL|NULL|20180928|7319002|                NULL|    RUA|MARQUES DE MONTE ...|1166|             NULL|            PAULISTA|13401070|  SP|6875|  19|34325568|NULL|NULL|NULL|NULL|GEREVINI2019@GMAI...|NULL|NULL|2023-10-14|\n",
    "|51932006|0001| 38|  1|MILENIO SERVICOS ...| 08|20231014| 01|NULL|NULL|20230824|5320202|4789099,5620102,7...|    RUA|     EMERSON MARTINS| 100|             NULL|CONJUNTO HABITACI...|19100610|  SP|6929|  18|96384240|NULL|NULL|NULL|NULL|EMPREENDEDORMOTIV...|NULL|NULL|2023-10-14|\n",
    "|48475459|0001| 78|  1|       HRTRANSPORTES| 08|20231014| 01|NULL|NULL|20221101|4923001|     4929902,4929901|    RUA| RUA SIQUEIRA CAMPOS| 308|             CONJ|              CENTRO|55835000|  PE|2387|  81|73133267|NULL|NULL|NULL|NULL|HELTINHO.NET@GMAI...|NULL|NULL|2023-10-14|\n",
    "|52523851|0001| 12|  1|       POT CAKELICIA| 02|20231014| 00|NULL|NULL|20231014|5620104|     4723700,1091102|    RUA|    CAROLINA MACHADO|1740|          APT 401|       BENTO RIBEIRO|21555290|  RJ|6001|  21|81067667|NULL|NULL|NULL|NULL|ANFINHO@OUTLOOK.C...|NULL|NULL|2023-10-14|\n",
    "|44011554|0001| 60|  1|       NATALIA SMART| 08|20231014| 01|NULL|NULL|20211025|4713002|                NULL|AVENIDA|          SOUZA MELO|1084|          CONJ 16|             SARANDI|91120600|  RS|8801|  51|94113076|NULL|NULL|NULL|NULL|NATHALIAMEDIANEIR...|NULL|NULL|2023-10-14|\n",
    "|52523755|0001| 74|  1|        MINIFESTADAK| 02|20231014| 00|NULL|NULL|20231014|7721700|     7729202,7723300|12A RUA|RUA PEDRO FERREIR...|  15|             NULL|         VARZEA NOVA|58304500|  PB|2175|  83|87159549|NULL|NULL|NULL|NULL|KAROL-PAZ-AMOR@HO...|NULL|NULL|2023-10-14|\n",
    "+--------+----+---+---+--------------------+---+--------+---+----+----+--------+-------+--------------------+-------+--------------------+----+-----------------+--------------------+--------+----+----+----+--------+----+----+----+----+--------------------+----+----+----------+"
   ]
  },
  {
   "cell_type": "code",
   "execution_count": null,
   "id": "38bfb527-cbe2-4c7d-a876-ff9cf4d567c5",
   "metadata": {},
   "outputs": [],
   "source": [
    "+--------+----+---+---+--------------------+---+---+---+----+----+--------+-------+--------------------+--------+--------------------+----+--------------------+-----------------+--------+----+----+----+--------+----+--------+----+--------+--------------------+----+----+----+\n",
    "|     _c0| _c1|_c2|_c3|                 _c4|_c5|_c6|_c7| _c8| _c9|    _c10|   _c11|                _c12|    _c13|                _c14|_c15|                _c16|             _c17|    _c18|_c19|_c20|_c21|    _c22|_c23|    _c24|_c25|    _c26|                _c27|_c28|_c29|date|\n",
    "+--------+----+---+---+--------------------+---+---+---+----+----+--------+-------+--------------------+--------+--------------------+----+--------------------+-----------------+--------+----+----+----+--------+----+--------+----+--------+--------------------+----+----+----+\n",
    "|09019610|0001| 01|  1|       ACADEMIA JUMP| 02|  0| 00|NULL|NULL|20070823|9313100|             8650004|     RUA|        ALFREDO POPS| 152|                NULL|     JARDIM ICATU|18110275|  SP|7243|  15|32431031|NULL|    NULL|  15|32431031|NORIVAL@E31MARCO....|NULL|NULL|NULL|\n",
    "|06885879|0001| 82|  1|                NULL| 02|  0| 00|NULL|NULL|20040721|4711302|4617600,4723700,4...| AVENIDA|  JULIO DE CASTILHOS| 512|           SUBSL 001|           CENTRO|95330000|  RS|8959|  54|34416043|NULL|    NULL|NULL|    NULL|COMPRAS.ZECHIN@GM...|NULL|NULL|NULL|\n",
    "|11085761|0001| 00|  1|                NULL| 02|  0| 00|NULL|NULL|20080911|9499500|                NULL|     RUA|ESTEVAO ALVES CORREA|  SN|              TERREO|             ALTO|79200000|  MS|9021|  67|32411780|NULL|    NULL|  67|32411780|                NULL|NULL|NULL|NULL|\n",
    "|06886628|0001| 12|  1|MATERIAIS PARA CO...| 02|  0| 00|NULL|NULL|20040709|4744099|4744001,4743100,4...|     RUA|MINELVINO LIMA DE...|  SN|QUADRA: 18; LOTE:...|           CENTRO|77798000|  TO|0189|  63|34761150|NULL|    NULL|NULL|    NULL|MONTECARMELOPALME...|NULL|NULL|NULL|\n",
    "|03476811|0116| 09|  2|                NULL| 02|  0| 00|NULL|NULL|20030908|8599604|     4721102,7490104|     RUA|     TEODORO SAMPAIO| 599|      605        ...|        PINHEIROS|05405050|  SP|7107|  11|38868087|  11|38868000|  11|38868017|cintia.guerra@car...|NULL|NULL|NULL|\n",
    "|06885895|0001| 75|  1|RECOBRANCA ASSESS...| 02|  0| 00|NULL|NULL|20040730|8291100|                NULL| AVENIDA|      GETULIO VARGAS| 816|EDIF  FERNANDA   ...|           CENTRO|89120000|  SC|8357|  47|33824400|NULL|    NULL|  47|33821318|RECOBRANCA@RECOBR...|NULL|NULL|NULL|\n",
    "|11237497|0001| 82|  1|                NULL| 02|  0| 00|NULL|NULL|20090828|8121400|7820500,5620101,8...|     RUA|           GAMA ROSA| 104|EDIF  LUCIAN     ...|           CENTRO|29015100|  ES|5705|  27|32338657|  27|32338657|  27|32338657|volcati@volcatico...|NULL|NULL|NULL|\n",
    "|06885837|0001| 41|  1|   ITANI CONSULTORIA| 02|  0| 00|NULL|NULL|20040506|7020400|6201501,8599604,8...|     RUA|   MANOEL DA NOBREGA| 261|           APT   104|          PARAISO|04001081|  SP|7107|  11|39610000|NULL|    NULL|  11|39610000| ELZAITANI@GMAIL.COM|NULL|NULL|NULL|\n",
    "|04130531|0005| 83|  2|         ROSA MASTER| 02|  0| 00|NULL|NULL|20050510|9603304|7729203,9603301,9...|     RUA|PREF DR JOSE FRED...| 249|                NULL|           CENTRO|55890000|  PE|2313|  81|36313587|NULL|    NULL|  81|36314443|ALMIR.BENTO@ICOON...|NULL|NULL|NULL|\n",
    "|06885980|0001| 33|  1|                NULL| 02|  0| 00|NULL|NULL|20040707|4742300|                NULL|     RUA|     GODOFREDO VIANA|1159|                NULL|           CENTRO|65901480|  MA|0803|NULL|    NULL|NULL|    NULL|NULL|    NULL|                NULL|NULL|NULL|NULL|\n",
    "|11272232|0001| 15|  1|FUNDO MUNICIPAL D...| 02|  0| 00|NULL|NULL|19950914|8630502|             8630599|     RUA|       FREI LIBERATO| 249|              PREDIO|           CENTRO|89818000|  SC|5589|  49|33270066|  49|33270061|  49|33270066|contabilidade@nov...|NULL|NULL|NULL|\n",
    "|06885157|0001| 28|  1|                NULL| 02|  0| 00|NULL|NULL|20040714|4781400|                NULL|     RUA|         FREI CANECA| 569|    : SUC 338 A 341;|       CONSOLACAO|01307001|  SP|7107|  11|50525355|NULL|    NULL|  11|50525355|   NMALKI@UOL.COM.BR|NULL|NULL|NULL|\n",
    "|11022597|0015| 97|  2|PRONTO S.CARDIOLO...| 02|  0| 00|NULL|NULL|20020420|8610101|                NULL|     RUA|        DOS PALMARES| S/N|                NULL|      SANTO AMARO|50100060|  PE|2531|  81|34212878|NULL|    NULL|  81|34212129|                NULL|NULL|NULL|NULL|\n",
    "|04719825|0001| 11|  1|KOMURA & MIRANDA ...| 02|  0| 00|NULL|NULL|20011002|6920601|                NULL|     RUA|             NAVAJAS| 257|                NULL|           CENTRO|08710250|  SP|6713|  11|47991235|NULL|    NULL|  11|47991235|     MIRD@UOL.COM.BR|NULL|NULL|NULL|\n",
    "|11741026|0001| 07|  1|    BRANDAO PESCADOS| 02|  0| 00|NULL|NULL|20100323|4634603|                NULL|TRAVESSA|              PARANA|  59|            SALA  01|  AEROPORTO VELHO|68020100|  PA|0535|  93|91284392|NULL|    NULL|NULL|    NULL|NRBRANDAO@2022GMA...|NULL|NULL|NULL|\n",
    "|06886158|0001| 97|  1|                NULL| 02|  0| 00|NULL|NULL|20040705|4930202|                NULL|     RUA|       ANTONIO MANIA| 123|                NULL|    JARDIM ITAPUA|13225820|  SP|7233|  11|45957263|NULL|    NULL|NULL|    NULL|silmarinelli@gmai...|NULL|NULL|NULL|\n",
    "|10633615|0001| 09|  1|                NULL| 02|  0| 00|NULL|NULL|20090210|4120400|2330301,2790202,3...|     RUA|       TENENTE CRAVO| 633|                NULL|ALTO DA BOA VISTA|63900002|  CE|1527|  88|34121840|NULL|    NULL|  88|34121840|prescon.ce@uol.co...|NULL|NULL|NULL|\n",
    "|06885072|0001| 40|  1|                NULL| 02|  0| 00|NULL|NULL|20040730|8630503|             8630502|     RUA|    GENERAL GLICERIO| 889|                NULL|           CENTRO|15900045|  SP|7175|  16|32526629|NULL|    NULL|NULL|    NULL|FONSECA@FONSECACO...|NULL|NULL|NULL|\n",
    "|75717355|0010| 96|  2|   USACUCAR - RONDON| 02|  0| 00|NULL|NULL|20100630|1071600|1931400,5091202,0...| RODOVIA|        PR 492 KM 47| S/N|      USACUCAR RO...|       ZONA RURAL|87800000|  PR|7829|  44|32181954|  44|32181889|  44|32181918|MARIOSERGIO@USACU...|NULL|NULL|NULL|\n",
    "|06886190|0001| 72|  1|                NULL| 02|  0| 00|NULL|NULL|20040707|7490103|                NULL|     RUA|   VISCONDE DE MAUA,| 288|                NULL|   VILA MUNICIPAL|13201260|  SP|6619|  11|72939000|NULL|    NULL|NULL|    NULL|   TNNDVET@GMAIL.COM|NULL|NULL|NULL|\n",
    "+--------+----+---+---+--------------------+---+---+---+----+----+--------+-------+--------------------+--------+--------------------+----+--------------------+-----------------+--------+----+----+----+--------+----+--------+----+--------+--------------------+----+----+----+"
   ]
  },
  {
   "cell_type": "code",
   "execution_count": null,
   "id": "1940be99-cea7-409a-905f-3e129827aa03",
   "metadata": {},
   "outputs": [],
   "source": [
    "+--------+----+---+---+--------------------+---+--------+---+----+----+--------+-------+-------+-------+--------------------+----+--------------------+---------------+--------+----+----+----+--------+----+--------+----+--------+--------------------+----+----+----------+\n",
    "|     _c0| _c1|_c2|_c3|                 _c4|_c5|     _c6|_c7| _c8| _c9|    _c10|   _c11|   _c12|   _c13|                _c14|_c15|                _c16|           _c17|    _c18|_c19|_c20|_c21|    _c22|_c23|    _c24|_c25|    _c26|                _c27|_c28|_c29|      date|\n",
    "+--------+----+---+---+--------------------+---+--------+---+----+----+--------+-------+-------+-------+--------------------+----+--------------------+---------------+--------+----+----+----+--------+----+--------+----+--------+--------------------+----+----+----------+\n",
    "|11461683|0001| 09|  1|                NULL| 02|16010101| 00|NULL|NULL|16010101|0133402|0119906|ESTRADA|TAQUARA BRANCA KM...| 1-F|CASA  ASSENTAEMEN...|HORTO FLORESTAL|13170036|  SP|7149|  19|38730286|  19|38730951|  19|38730951|                NULL|NULL|NULL|1601-01-01|\n",
    "|05487690|0001| 79|  1|CARTORIO JANIR SI...| 02|19010101| 00|NULL|NULL|19010101|6912500|   NULL|    RUA|   JOAQUIM FERNANDES|  65|                NULL|         CENTRO|38140000|  MG|5055|NULL|    NULL|NULL|    NULL|NULL|    NULL|                NULL|NULL|NULL|1901-01-01|\n",
    "|89522064|0088| 17|  2|FORO DA COMARCA D...| 02|19010101| 00|NULL|NULL|19010101|8411600|   NULL|AVENIDA|       GENERAL NETTO| 486|                NULL|         CENTRO|99010022|  RS|8785|  54|33115377|NULL|    NULL| 054| 3114895|FRPASFUNDOJZDIR@T...|NULL|NULL|1901-01-01|\n",
    "|03961724|0001| 90|  1|                NULL| 02|19010101| 00|NULL| 386|19010101|9900800|   NULL|AVENIDA|PRESIDENTE ANTONI...|  40|             7 ANDAR|        CASTELO|20020010|  RJ|6001|  21|35341315|NULL|    NULL| 021| 2626348|RIODEJANEIRO.AMMI...|NULL|NULL|1901-01-01|\n",
    "|89522064|0105| 52|  2|FORO DA COMARCA D...| 02|19010101| 00|NULL|NULL|19010101|8411600|   NULL|AVENIDA|        ANTONIO DURO| 260|                NULL|         CENTRO|96180000|  RS|8569|  51|36714434|  51|36719160|NULL|    NULL|FRCAMAQUAJZDIR@TJ...|NULL|NULL|1901-01-01|\n",
    "|10524665|0001| 58|  1|MARIA DO SOCORRO ...| 02|19010101| 00|NULL|NULL|19010101|6912500|   NULL|    RUA|        DOM PEDRO II| 138|                NULL|         CENTRO|56460000|  PE|2519|  87|38511582|NULL|    NULL|NULL|    NULL|                NULL|NULL|NULL|1901-01-01|\n",
    "|89522064|0107| 14|  2|FORO DA COMARCA D...| 02|19010101| 00|NULL|NULL|19010101|8411600|   NULL|    RUA|    BARAO DO TRIUNFO| 450|                NULL|         CENTRO|97573634|  RS|8845|  55|32423575|NULL|    NULL|NULL|    NULL|FRSANTLIVRJZDIR@T...|NULL|NULL|1901-01-01|\n",
    "|04041565|0001| 78|  1|CONSULADO GERAL D...| 02|19010101| 00|NULL| 023|19010101|9900800|   NULL|    RUA|ANTONIO LUMACK DO...| 128|            16 ANDAR|     BOA VIAGEM|51020350|  PE|2531|  81|34635350|NULL|    NULL|  81|34654084|info.recife@alema...|NULL|NULL|1901-01-01|\n",
    "|07581857|0001| 91|  1|CARTORIO DE REGIS...| 02|19010101| 00|NULL|NULL|19010101|6912500|   NULL|    RUA|        SILVIO ROMEU|  25|           SALA: 02;|          RAMOS|36570001|  MG|5427|  31|38916152|  31|38925657|  31|38916152|MASILVACONTABILID...|NULL|NULL|1901-01-01|\n",
    "|07734995|0001| 63|  1|SERVIO REGISTRAL ...| 02|19010101| 00|NULL|NULL|19010101|6912500|   NULL|    RUA|  DR OLINTO DE ABREU| 181|                  CX|         CENTRO|35365000|  MG|4005|  31|38722036|NULL|    NULL|  31|38722036|santana@maxbr.com.br|NULL|NULL|1901-01-01|\n",
    "|05198472|0001| 14|  1|                NULL| 02|19010102| 00|NULL|NULL|19010102|8411600|   NULL|  PRACA| DOUTOR OZI TEIXEIRA| 118|                CASA|         CENTRO|96610000|  RS|8635|  51|37331179|NULL|    NULL|  51|37333639|                NULL|NULL|NULL|1901-01-02|\n",
    "|27112678|0001| 12|  1|  CARTORIO DE NAZARE| 02|19010201| 00|NULL|NULL|19010201|6912500|   NULL|AVENIDA|      JOANA ANGELICA| 192|             SUBSL 1|         NAZARE|40050000|  BA|3849|  71|91819069|NULL|    NULL|NULL|    NULL|CARTORIODENAZARE@...|NULL|NULL|1901-02-01|\n",
    "|06273222|0001| 64|  1|CARTORIO GUILHERM...| 02|19010307| 00|NULL|NULL|19010307|6912500|9609299|    RUA|PROFESSOR FREDERI...| 189|         LOJA  A E B|         CENTRO|12600260|  SP|6645|  12|31534896|NULL|    NULL|NULL|    NULL|                NULL|NULL|NULL|1901-03-07|\n",
    "|09224913|0001| 66|  1|                NULL| 02|19031009| 00|NULL|NULL|19031009|6912500|   NULL|    RUA| LUIS TEIXEIRA COSTA|  91|             LOJA  A|         CENTRO|57770000|  AL|2725|  82|32841888|  82|99977681|  82|32841888|REGISTROCIVILCAJU...|NULL|NULL|1903-10-09|\n",
    "|09912638|0001| 73|  1|CARTORIO DO REGIS...| 02|19050102| 00|NULL|NULL|19050102|6912500|   NULL|  PRA�A|CAPITAO ANTONIO M...| S N|                NULL|         CENTRO|77590000|  TO|9553|  63|33781151|NULL|    NULL|NULL|    NULL|vvvv_vino@yahoo.c...|NULL|NULL|1905-01-02|\n",
    "|09262937|0001| 00|  1|SERVICOS REGISTRA...| 02|19050822| 00|NULL|NULL|19050822|6912500|   NULL| 3A RUA|         DO COMERCIO| 128|                NULL|         CENTRO|57620000|  AL|2761|  82|34231207|  82|34231228|NULL|    NULL|                NULL|NULL|NULL|1905-08-22|\n",
    "|05776411|0001| 97|  1|CONSULADO DEL URU...| 02|19140101| 00|NULL| 845|19140101|9900800|   NULL|AVENIDA|   CRISTOVAO COLOMBO|2999|                NULL|   HIGIENOPOLIS|90560005|  RS|8801| 051|33256198|NULL|    NULL| 051|33256198|cdodistritopoa@te...|NULL|NULL|1914-01-01|\n",
    "|46454491|0001| 41|  1|                NULL| 02|19220330| 00|NULL|NULL|19220330|9491000|   NULL| QUADRA|      QUADRA 13 LOTE|03-A|                NULL|VILA PARAISO II|72900700|  GO|9677|  61|99210045|NULL|    NULL|NULL|    NULL|PAULOTEC.CONTABIL...|NULL|NULL|1922-03-30|\n",
    "|10497099|0001| 32|  1|CARTORIO MURILO M...| 02|19280326| 00|NULL|NULL|19280326|6912500|   NULL|    RUA| PADRE FELIX BARRETO|  78|             ANDAR 1|         CENTRO|55460000|  PE|2399|  81|37381139|NULL|    NULL|NULL|    NULL|                NULL|NULL|NULL|1928-03-26|\n",
    "|10234215|0001| 20|  1|                NULL| 02|19290718| 00|NULL|NULL|19290718|6912500|   NULL|    RUA|       SAO FRANCISCO| 138|                NULL|         CENTRO|56565000|  PE|0554|  87|38401131|NULL|    NULL|NULL|    NULL|                NULL|NULL|NULL|1929-07-18|\n",
    "+--------+----+---+---+--------------------+---+--------+---+----+----+--------+-------+-------+-------+--------------------+----+--------------------+---------------+--------+----+----+----+--------+----+--------+----+--------+--------------------+----+----+----------+"
   ]
  },
  {
   "cell_type": "code",
   "execution_count": 103,
   "id": "e9daffd5-496a-4f5c-910a-d52057552401",
   "metadata": {},
   "outputs": [
    {
     "name": "stderr",
     "output_type": "stream",
     "text": [
      "[Stage 65:==============>                                           (1 + 3) / 4]\r"
     ]
    },
    {
     "name": "stdout",
     "output_type": "stream",
     "text": [
      "+--------+----+---+---+--------------+---+--------+---+----+----+--------+-------+--------------------+------+--------------------+----+--------------------+--------------+--------+----+----+----+--------+----+----+----+----+--------------------+----+----+\n",
      "|     _c0| _c1|_c2|_c3|           _c4|_c5|     _c6|_c7| _c8| _c9|    _c10|   _c11|                _c12|  _c13|                _c14|_c15|                _c16|          _c17|    _c18|_c19|_c20|_c21|    _c22|_c23|_c24|_c25|_c26|                _c27|_c28|_c29|\n",
      "+--------+----+---+---+--------------+---+--------+---+----+----+--------+-------+--------------------+------+--------------------+----+--------------------+--------------+--------+----+----+----+--------+----+----+----+----+--------------------+----+----+\n",
      "|07047183|0002| 20|  2|IPQ TECNOLOGIA| 02|20160601| 00|NULL|NULL|20160601|6209100|3312102,4321500,4...|QUADRA|SHC/SW QRSW 04, L...| S/N|      3 PAVIMENTO...|SETOR SUDOESTE|70675400|  DF|9701|  71|21045400|NULL|NULL|NULL|NULL|DOCLEGAIS@ORGANIZ...|NULL|NULL|\n",
      "+--------+----+---+---+--------------+---+--------+---+----+----+--------+-------+--------------------+------+--------------------+----+--------------------+--------------+--------+----+----+----+--------+----+----+----+----+--------------------+----+----+\n",
      "\n"
     ]
    },
    {
     "name": "stderr",
     "output_type": "stream",
     "text": [
      "                                                                                \r"
     ]
    }
   ],
   "source": [
    "estabelecimentos_9.filter(F.col('_c0') == '07047183').show()"
   ]
  },
  {
   "cell_type": "code",
   "execution_count": null,
   "id": "dc797361-72f5-494e-b051-e839f0e342b8",
   "metadata": {},
   "outputs": [],
   "source": [
    "+--------+----+---+---+--------------+---+--------+---+----+----+--------+-------+--------------------+------+--------------------+----+--------------------+--------------+--------+----+----+----+--------+----+----+----+----+--------------------+----+----+\n",
    "|     _c0| _c1|_c2|_c3|           _c4|_c5|     _c6|_c7| _c8| _c9|    _c10|   _c11|                _c12|  _c13|                _c14|_c15|                _c16|          _c17|    _c18|_c19|_c20|_c21|    _c22|_c23|_c24|_c25|_c26|                _c27|_c28|_c29|\n",
    "+--------+----+---+---+--------------+---+--------+---+----+----+--------+-------+--------------------+------+--------------------+----+--------------------+--------------+--------+----+----+----+--------+----+----+----+----+--------------------+----+----+\n",
    "|07047183|0002| 20|  2|IPQ TECNOLOGIA| 02|20160601| 00|NULL|NULL|20160601|6209100|3312102,4321500,4...|QUADRA|SHC/SW QRSW 04, L...| S/N|      3 PAVIMENTO...|SETOR SUDOESTE|70675400|  DF|9701|  71|21045400|NULL|NULL|NULL|NULL|DOCLEGAIS@ORGANIZ...|NULL|NULL|\n",
    "+--------+----+---+---+--------------+---+--------+---+----+----+--------+-------+--------------------+------+--------------------+----+--------------------+--------------+--------+----+----+----+--------+----+----+----+----+--------------------+----+----+\n"
   ]
  },
  {
   "cell_type": "code",
   "execution_count": 104,
   "id": "41bb6622-a835-494c-8d15-2eb4f6018167",
   "metadata": {},
   "outputs": [],
   "source": [
    "estab_8 = spark.read.csv('estabelecimentos_8/K3241.K03200Y8.D31014.ESTABELE', sep=';')"
   ]
  },
  {
   "cell_type": "code",
   "execution_count": 105,
   "id": "02ad33c8-27b2-4bba-b6a5-f146e7385f3c",
   "metadata": {},
   "outputs": [
    {
     "name": "stderr",
     "output_type": "stream",
     "text": [
      "[Stage 69:===========================================>              (3 + 1) / 4]\r"
     ]
    },
    {
     "name": "stdout",
     "output_type": "stream",
     "text": [
      "+--------+----+---+---+--------------+---+--------+---+----+----+--------+-------+--------------------+-------+--------------------+-----+----+-------------------+--------+----+----+----+--------+----+----+----+----+--------------------+----+----+\n",
      "|     _c0| _c1|_c2|_c3|           _c4|_c5|     _c6|_c7| _c8| _c9|    _c10|   _c11|                _c12|   _c13|                _c14| _c15|_c16|               _c17|    _c18|_c19|_c20|_c21|    _c22|_c23|_c24|_c25|_c26|                _c27|_c28|_c29|\n",
      "+--------+----+---+---+--------------+---+--------+---+----+----+--------+-------+--------------------+-------+--------------------+-----+----+-------------------+--------+----+----+----+--------+----+----+----+----+--------------------+----+----+\n",
      "|07047183|0005| 73|  2|IPQ TECNOLOGIA| 02|20230607| 00|NULL|NULL|20230607|6209100|3312102,4321500,6...|RODOVIA|DOUTOR MENDEL STE...|13561|NULL|JARDIM BANDEIRANTES|61934000|  CE|1585|  71|33403200|NULL|NULL|NULL|NULL|FISCAL@ORGANIZACA...|NULL|NULL|\n",
      "+--------+----+---+---+--------------+---+--------+---+----+----+--------+-------+--------------------+-------+--------------------+-----+----+-------------------+--------+----+----+----+--------+----+----+----+----+--------------------+----+----+\n",
      "\n"
     ]
    },
    {
     "name": "stderr",
     "output_type": "stream",
     "text": [
      "                                                                                \r"
     ]
    }
   ],
   "source": [
    "estab_8.filter(F.col('_c0') == '07047183').show()"
   ]
  },
  {
   "cell_type": "code",
   "execution_count": null,
   "id": "1a359f5a-0b0c-43f3-8c64-e77da405d0db",
   "metadata": {},
   "outputs": [],
   "source": [
    "+--------+----+---+---+--------------+---+--------+---+----+----+--------+-------+--------------------+-------+--------------------+-----+----+-------------------+--------+----+----+----+--------+----+----+----+----+--------------------+----+----+\n",
    "|     _c0| _c1|_c2|_c3|           _c4|_c5|     _c6|_c7| _c8| _c9|    _c10|   _c11|                _c12|   _c13|                _c14| _c15|_c16|               _c17|    _c18|_c19|_c20|_c21|    _c22|_c23|_c24|_c25|_c26|                _c27|_c28|_c29|\n",
    "+--------+----+---+---+--------------+---+--------+---+----+----+--------+-------+--------------------+-------+--------------------+-----+----+-------------------+--------+----+----+----+--------+----+----+----+----+--------------------+----+----+\n",
    "|07047183|0005| 73|  2|IPQ TECNOLOGIA| 02|20230607| 00|NULL|NULL|20230607|6209100|3312102,4321500,6...|RODOVIA|DOUTOR MENDEL STE...|13561|NULL|JARDIM BANDEIRANTES|61934000|  CE|1585|  71|33403200|NULL|NULL|NULL|NULL|FISCAL@ORGANIZACA...|NULL|NULL|\n",
    "+--------+----+---+---+--------------+---+--------+---+----+----+--------+-------+--------------------+-------+--------------------+-----+----+-------------------+--------+----+----+----+--------+----+----+----+----+--------------------+----+----+"
   ]
  },
  {
   "cell_type": "code",
   "execution_count": 106,
   "id": "1170abfb-ca7d-4ee7-bf75-64d7ce50ab02",
   "metadata": {},
   "outputs": [
    {
     "name": "stderr",
     "output_type": "stream",
     "text": [
      "[Stage 72:==============>                                           (1 + 3) / 4]\r"
     ]
    },
    {
     "name": "stdout",
     "output_type": "stream",
     "text": [
      "+--------+----+---+---+----+---+--------+---+----+----+--------+-------+-------+-------+--------------------+----+--------------------+---------------+--------+----+----+----+--------+----+--------+----+--------+----+----+----+\n",
      "|     _c0| _c1|_c2|_c3| _c4|_c5|     _c6|_c7| _c8| _c9|    _c10|   _c11|   _c12|   _c13|                _c14|_c15|                _c16|           _c17|    _c18|_c19|_c20|_c21|    _c22|_c23|    _c24|_c25|    _c26|_c27|_c28|_c29|\n",
      "+--------+----+---+---+----+---+--------+---+----+----+--------+-------+-------+-------+--------------------+----+--------------------+---------------+--------+----+----+----+--------+----+--------+----+--------+----+----+----+\n",
      "|11461683|0001| 09|  1|NULL| 02|16010101| 00|NULL|NULL|16010101|0133402|0119906|ESTRADA|TAQUARA BRANCA KM...| 1-F|CASA  ASSENTAEMEN...|HORTO FLORESTAL|13170036|  SP|7149|  19|38730286|  19|38730951|  19|38730951|NULL|NULL|NULL|\n",
      "+--------+----+---+---+----+---+--------+---+----+----+--------+-------+-------+-------+--------------------+----+--------------------+---------------+--------+----+----+----+--------+----+--------+----+--------+----+----+----+\n",
      "\n"
     ]
    },
    {
     "name": "stderr",
     "output_type": "stream",
     "text": [
      "                                                                                \r"
     ]
    }
   ],
   "source": [
    "estabelecimentos_9.filter(F.col('_c0') == '11461683').show()"
   ]
  },
  {
   "cell_type": "code",
   "execution_count": null,
   "id": "3a92fc37-c83b-4ad1-895b-d7d246c40d9f",
   "metadata": {},
   "outputs": [],
   "source": [
    "+--------+----+---+---+----+---+--------+---+----+----+--------+-------+-------+-------+--------------------+----+--------------------+---------------+--------+----+----+----+--------+----+--------+----+--------+----+----+----+\n",
    "|     _c0| _c1|_c2|_c3| _c4|_c5|     _c6|_c7| _c8| _c9|    _c10|   _c11|   _c12|   _c13|                _c14|_c15|                _c16|           _c17|    _c18|_c19|_c20|_c21|    _c22|_c23|    _c24|_c25|    _c26|_c27|_c28|_c29|\n",
    "+--------+----+---+---+----+---+--------+---+----+----+--------+-------+-------+-------+--------------------+----+--------------------+---------------+--------+----+----+----+--------+----+--------+----+--------+----+----+----+\n",
    "|11461683|0001| 09|  1|NULL| 02|16010101| 00|NULL|NULL|16010101|0133402|0119906|ESTRADA|TAQUARA BRANCA KM...| 1-F|CASA  ASSENTAEMEN...|HORTO FLORESTAL|13170036|  SP|7149|  19|38730286|  19|38730951|  19|38730951|NULL|NULL|NULL|\n",
    "+--------+----+---+---+----+---+--------+---+----+----+--------+-------+-------+-------+--------------------+----+--------------------+---------------+--------+----+----+----+--------+----+--------+----+--------+----+----+----+"
   ]
  },
  {
   "cell_type": "code",
   "execution_count": 107,
   "id": "67d849fe-6440-41bb-a5cf-566db286a938",
   "metadata": {},
   "outputs": [
    {
     "name": "stderr",
     "output_type": "stream",
     "text": [
      "[Stage 75:===========================================>              (3 + 1) / 4]\r"
     ]
    },
    {
     "name": "stdout",
     "output_type": "stream",
     "text": [
      "+---+---+---+---+---+---+---+---+---+---+----+----+----+----+----+----+----+----+----+----+----+----+----+----+----+----+----+----+----+----+\n",
      "|_c0|_c1|_c2|_c3|_c4|_c5|_c6|_c7|_c8|_c9|_c10|_c11|_c12|_c13|_c14|_c15|_c16|_c17|_c18|_c19|_c20|_c21|_c22|_c23|_c24|_c25|_c26|_c27|_c28|_c29|\n",
      "+---+---+---+---+---+---+---+---+---+---+----+----+----+----+----+----+----+----+----+----+----+----+----+----+----+----+----+----+----+----+\n",
      "+---+---+---+---+---+---+---+---+---+---+----+----+----+----+----+----+----+----+----+----+----+----+----+----+----+----+----+----+----+----+\n",
      "\n"
     ]
    },
    {
     "name": "stderr",
     "output_type": "stream",
     "text": [
      "                                                                                \r"
     ]
    }
   ],
   "source": [
    "estab_8.filter(F.col('_c0') == '11461683').show()"
   ]
  },
  {
   "cell_type": "code",
   "execution_count": null,
   "id": "fd3ab9a0-f91b-4bc7-90c0-e24e40c113b4",
   "metadata": {},
   "outputs": [],
   "source": []
  }
 ],
 "metadata": {
  "kernelspec": {
   "display_name": "Python 3 (ipykernel)",
   "language": "python",
   "name": "python3"
  },
  "language_info": {
   "codemirror_mode": {
    "name": "ipython",
    "version": 3
   },
   "file_extension": ".py",
   "mimetype": "text/x-python",
   "name": "python",
   "nbconvert_exporter": "python",
   "pygments_lexer": "ipython3",
   "version": "3.11.6"
  }
 },
 "nbformat": 4,
 "nbformat_minor": 5
}
