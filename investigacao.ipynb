{
 "cells": [
  {
   "cell_type": "code",
   "execution_count": 3,
   "id": "77cbd9ab-1c59-4195-a338-fce4715006ae",
   "metadata": {},
   "outputs": [],
   "source": [
    "import pandas as pd"
   ]
  },
  {
   "cell_type": "code",
   "execution_count": 22,
   "id": "ee043fbf-ebb6-4b47-bc87-facd06573b15",
   "metadata": {},
   "outputs": [
    {
     "name": "stdout",
     "output_type": "stream",
     "text": [
      "Collecting pyspark\n",
      "  Downloading pyspark-3.5.0.tar.gz (316.9 MB)\n",
      "\u001b[2K     \u001b[38;2;114;156;31m━━━━━━━━━━━━━━━━━━━━━━━━━━━━━━━━━━━━━━━\u001b[0m \u001b[32m316.9/316.9 MB\u001b[0m \u001b[31m5.2 MB/s\u001b[0m eta \u001b[36m0:00:00\u001b[0mm eta \u001b[36m0:00:01\u001b[0m[36m0:00:01\u001b[0m\n",
      "\u001b[?25h  Installing build dependencies ... \u001b[?25ldone\n",
      "\u001b[?25h  Getting requirements to build wheel ... \u001b[?25ldone\n",
      "\u001b[?25h  Preparing metadata (pyproject.toml) ... \u001b[?25ldone\n",
      "\u001b[?25hCollecting py4j==0.10.9.7 (from pyspark)\n",
      "  Downloading py4j-0.10.9.7-py2.py3-none-any.whl (200 kB)\n",
      "\u001b[2K     \u001b[38;2;114;156;31m━━━━━━━━━━━━━━━━━━━━━━━━━━━━━━━━━━━━━━\u001b[0m \u001b[32m200.5/200.5 kB\u001b[0m \u001b[31m13.2 MB/s\u001b[0m eta \u001b[36m0:00:00\u001b[0m\n",
      "\u001b[?25hBuilding wheels for collected packages: pyspark\n",
      "  Building wheel for pyspark (pyproject.toml) ... \u001b[?25ldone\n",
      "\u001b[?25h  Created wheel for pyspark: filename=pyspark-3.5.0-py2.py3-none-any.whl size=317425344 sha256=633c5d436a583265e7d96c6d1344b7feb85026306b5cbb14aad9ffe3c972b25d\n",
      "  Stored in directory: /home/carlos/.cache/pip/wheels/38/df/61/8c121f50c3cffd77f8178180dd232d90b3b99d1bd61fb6d6be\n",
      "Successfully built pyspark\n",
      "Installing collected packages: py4j, pyspark\n",
      "Successfully installed py4j-0.10.9.7 pyspark-3.5.0\n",
      "Note: you may need to restart the kernel to use updated packages.\n"
     ]
    }
   ],
   "source": [
    "pip install pyspark"
   ]
  },
  {
   "cell_type": "code",
   "execution_count": 27,
   "id": "d64f8e9e-fd4b-45d0-abec-5f36092fcda1",
   "metadata": {},
   "outputs": [
    {
     "name": "stderr",
     "output_type": "stream",
     "text": [
      "Setting default log level to \"WARN\".\n",
      "To adjust logging level use sc.setLogLevel(newLevel). For SparkR, use setLogLevel(newLevel).\n",
      "23/10/19 15:42:12 WARN NativeCodeLoader: Unable to load native-hadoop library for your platform... using builtin-java classes where applicable\n"
     ]
    }
   ],
   "source": [
    "# PySpark imports\n",
    "from pyspark.sql import SparkSession\n",
    "from pyspark import SparkContext\n",
    "\n",
    "# Spark context creation\n",
    "spark = SparkSession.builder.appName(\"IPQ\").getOrCreate()\n",
    "sc = spark.sparkContext"
   ]
  },
  {
   "cell_type": "code",
   "execution_count": 28,
   "id": "3f44b6a6-ef42-48ca-9c97-0d267ca450cb",
   "metadata": {},
   "outputs": [],
   "source": [
    "# PySpark imports\n",
    "import pyspark.sql.functions as F\n",
    "from pyspark.sql import Window\n",
    "from pyspark.sql.types import *"
   ]
  },
  {
   "cell_type": "markdown",
   "id": "eac07823-3085-4cd9-89ca-1362c229d632",
   "metadata": {},
   "source": [
    "### CNAE'S INVESTIGACAO"
   ]
  },
  {
   "cell_type": "code",
   "execution_count": 19,
   "id": "7ab0f694-54a4-4a13-a23f-afda0977d37e",
   "metadata": {},
   "outputs": [],
   "source": [
    "cnaes = pd.read_csv('/home/carlos/projetos/base_cnae/Cnaes/cnae.csv', encoding='latin1', sep=';', header=None)"
   ]
  },
  {
   "cell_type": "code",
   "execution_count": 20,
   "id": "2b3caa23-2a2c-40d2-a27f-ff461103a8a4",
   "metadata": {},
   "outputs": [
    {
     "data": {
      "text/html": [
       "<div>\n",
       "<style scoped>\n",
       "    .dataframe tbody tr th:only-of-type {\n",
       "        vertical-align: middle;\n",
       "    }\n",
       "\n",
       "    .dataframe tbody tr th {\n",
       "        vertical-align: top;\n",
       "    }\n",
       "\n",
       "    .dataframe thead th {\n",
       "        text-align: right;\n",
       "    }\n",
       "</style>\n",
       "<table border=\"1\" class=\"dataframe\">\n",
       "  <thead>\n",
       "    <tr style=\"text-align: right;\">\n",
       "      <th></th>\n",
       "      <th>0</th>\n",
       "      <th>1</th>\n",
       "    </tr>\n",
       "  </thead>\n",
       "  <tbody>\n",
       "    <tr>\n",
       "      <th>0</th>\n",
       "      <td>111301</td>\n",
       "      <td>Cultivo de arroz</td>\n",
       "    </tr>\n",
       "    <tr>\n",
       "      <th>1</th>\n",
       "      <td>111302</td>\n",
       "      <td>Cultivo de milho</td>\n",
       "    </tr>\n",
       "    <tr>\n",
       "      <th>2</th>\n",
       "      <td>111303</td>\n",
       "      <td>Cultivo de trigo</td>\n",
       "    </tr>\n",
       "    <tr>\n",
       "      <th>3</th>\n",
       "      <td>111399</td>\n",
       "      <td>Cultivo de outros cereais não especificados an...</td>\n",
       "    </tr>\n",
       "    <tr>\n",
       "      <th>4</th>\n",
       "      <td>112101</td>\n",
       "      <td>Cultivo de algodão herbáceo</td>\n",
       "    </tr>\n",
       "  </tbody>\n",
       "</table>\n",
       "</div>"
      ],
      "text/plain": [
       "        0                                                  1\n",
       "0  111301                                   Cultivo de arroz\n",
       "1  111302                                   Cultivo de milho\n",
       "2  111303                                   Cultivo de trigo\n",
       "3  111399  Cultivo de outros cereais não especificados an...\n",
       "4  112101                        Cultivo de algodão herbáceo"
      ]
     },
     "execution_count": 20,
     "metadata": {},
     "output_type": "execute_result"
    }
   ],
   "source": [
    "cnaes.head()"
   ]
  },
  {
   "cell_type": "code",
   "execution_count": 21,
   "id": "7d38498c-45aa-48db-9c5a-19a2b25f8674",
   "metadata": {},
   "outputs": [
    {
     "data": {
      "text/plain": [
       "0    1359\n",
       "1    1359\n",
       "dtype: int64"
      ]
     },
     "execution_count": 21,
     "metadata": {},
     "output_type": "execute_result"
    }
   ],
   "source": [
    "cnaes.count()"
   ]
  },
  {
   "cell_type": "markdown",
   "id": "383769e1-a60c-4872-8a23-e191022a2a1e",
   "metadata": {},
   "source": [
    "### EMPRESA INVESTIGACAO"
   ]
  },
  {
   "cell_type": "code",
   "execution_count": 34,
   "id": "825632ee-e44c-415a-92c9-dba2411aecf6",
   "metadata": {},
   "outputs": [],
   "source": [
    "empresa_9 = spark.read.csv('empresas_9/K3241.K03200Y9.D31014.EMPRECSV', sep=';')"
   ]
  },
  {
   "cell_type": "code",
   "execution_count": 35,
   "id": "c981302e-486d-4e78-b903-b93f9918aa97",
   "metadata": {},
   "outputs": [
    {
     "name": "stdout",
     "output_type": "stream",
     "text": [
      "+--------+--------------------+----+---+--------+---+----+\n",
      "|     _c0|                 _c1| _c2|_c3|     _c4|_c5| _c6|\n",
      "+--------+--------------------+----+---+--------+---+----+\n",
      "|36627973|ANTONIO PEREIRA A...|2135| 50| 1000,00| 01|NULL|\n",
      "|36627975|MICHELI PINHEIRO ...|2135| 50| 1000,00| 01|NULL|\n",
      "|36627976|RAFAELA DA SILVA ...|2135| 50| 1200,00| 01|NULL|\n",
      "|36627977|CAMILA SARAIVA MA...|2135| 50| 1000,00| 01|NULL|\n",
      "|36627978|NATANE DOMINGOS 0...|2135| 50| 1000,00| 01|NULL|\n",
      "|36627979|LORENA MARIA DE B...|2135| 50| 4000,00| 01|NULL|\n",
      "|36627980|KARINE BRUNO DE O...|2135| 50|20000,00| 01|NULL|\n",
      "|36627981|RAIMUNDO WELLINGT...|2135| 50| 5000,00| 01|NULL|\n",
      "|36627983|EVELLYN BEATRIZ C...|2135| 50|  500,00| 01|NULL|\n",
      "|36627984|RAFAELA FRANCISCO...|2135| 50|  300,00| 01|NULL|\n",
      "|36627985|JULIANA RAMOS DE ...|2135| 50|  500,00| 01|NULL|\n",
      "|36627986|FABRICIO DA SILVA...|2135| 50|  500,00| 01|NULL|\n",
      "|36627987|MARIA LAUDECI SIL...|2135| 50| 2000,00| 01|NULL|\n",
      "|36627988|WILLIAN MEIRES DE...|2135| 50|  300,00| 01|NULL|\n",
      "|36627989|VERONICA TADEU PE...|2135| 50| 2500,00| 01|NULL|\n",
      "|36627991|MONICA DE MORAIS ...|2135| 50| 1000,00| 01|NULL|\n",
      "|36627992|HERON SILVA DE ME...|2135| 50|  200,00| 01|NULL|\n",
      "|36627993|FELIPE ANDRADE E ...|2135| 50| 1000,00| 01|NULL|\n",
      "|36627994|JULIO CESAR CRUZ ...|2135| 50| 2000,00| 01|NULL|\n",
      "|36627995|ROSILENE APARECID...|2135| 50| 2000,00| 01|NULL|\n",
      "+--------+--------------------+----+---+--------+---+----+\n",
      "only showing top 20 rows\n",
      "\n"
     ]
    }
   ],
   "source": [
    "empresa_9.show()"
   ]
  },
  {
   "cell_type": "code",
   "execution_count": 36,
   "id": "dd4248eb-9c79-4239-a011-e40b2db99ce9",
   "metadata": {},
   "outputs": [
    {
     "name": "stderr",
     "output_type": "stream",
     "text": [
      "                                                                                \r"
     ]
    },
    {
     "data": {
      "text/plain": [
       "4494860"
      ]
     },
     "execution_count": 36,
     "metadata": {},
     "output_type": "execute_result"
    }
   ],
   "source": [
    "empresa_9.count()"
   ]
  },
  {
   "cell_type": "code",
   "execution_count": 39,
   "id": "192ea2fc-4f68-4512-ae39-f3277726e88d",
   "metadata": {},
   "outputs": [],
   "source": [
    "empresa_9 = empresa_9.select(F.col(\"_c0\").alias(\"cnpj_basico\"),\n",
    "               F.col(\"_c1\").alias(\"razao_social\"),\n",
    "               F.col(\"_c2\").alias(\"natureza_juridica\"),\n",
    "               F.col(\"_c3\").alias(\"qualificacao_responsavel\"),\n",
    "               F.col(\"_c4\").alias(\"capital_social\"),\n",
    "               F.col(\"_c5\").alias(\"porte_da_empresa\"),\n",
    "               F.col(\"_c6\").alias(\"ente_federativo\"))"
   ]
  },
  {
   "cell_type": "code",
   "execution_count": 41,
   "id": "d97a1986-2837-447b-b2ab-ab297055affe",
   "metadata": {},
   "outputs": [
    {
     "name": "stdout",
     "output_type": "stream",
     "text": [
      "+-----------+----------------------------------------------------+-----------------+------------------------+--------------+----------------+---------------+\n",
      "|cnpj_basico|razao_social                                        |natureza_juridica|qualificacao_responsavel|capital_social|porte_da_empresa|ente_federativo|\n",
      "+-----------+----------------------------------------------------+-----------------+------------------------+--------------+----------------+---------------+\n",
      "|36627973   |ANTONIO PEREIRA ARANTES NETO 01699985170            |2135             |50                      |1000,00       |01              |NULL           |\n",
      "|36627975   |MICHELI PINHEIRO FLOR 06035748902                   |2135             |50                      |1000,00       |01              |NULL           |\n",
      "|36627976   |RAFAELA DA SILVA INACIO 13417608716                 |2135             |50                      |1200,00       |01              |NULL           |\n",
      "|36627977   |CAMILA SARAIVA MANGUEIRA 15168807739                |2135             |50                      |1000,00       |01              |NULL           |\n",
      "|36627978   |NATANE DOMINGOS 07586040923                         |2135             |50                      |1000,00       |01              |NULL           |\n",
      "|36627979   |LORENA MARIA DE BRITO CAMARGO 09776918700           |2135             |50                      |4000,00       |01              |NULL           |\n",
      "|36627980   |KARINE BRUNO DE OLIVEIRA BRAGA 88277704100          |2135             |50                      |20000,00      |01              |NULL           |\n",
      "|36627981   |RAIMUNDO WELLINGTON DE SENA 85213594204             |2135             |50                      |5000,00       |01              |NULL           |\n",
      "|36627983   |EVELLYN BEATRIZ CHARLO DE MELO RODRIGUES 46715196826|2135             |50                      |500,00        |01              |NULL           |\n",
      "|36627984   |RAFAELA FRANCISCO FIGUEIREDO 46701565867            |2135             |50                      |300,00        |01              |NULL           |\n",
      "|36627985   |JULIANA RAMOS DE MELO MARQUES 36687602845           |2135             |50                      |500,00        |01              |NULL           |\n",
      "|36627986   |FABRICIO DA SILVA SEIXAS 01555083420                |2135             |50                      |500,00        |01              |NULL           |\n",
      "|36627987   |MARIA LAUDECI SILVA DE ASSIS ALMEIDA 11182384862    |2135             |50                      |2000,00       |01              |NULL           |\n",
      "|36627988   |WILLIAN MEIRES DE MARINS 17802351782                |2135             |50                      |300,00        |01              |NULL           |\n",
      "|36627989   |VERONICA TADEU PEREIRA 05548260707                  |2135             |50                      |2500,00       |01              |NULL           |\n",
      "|36627991   |MONICA DE MORAIS ROCHA 40845063898                  |2135             |50                      |1000,00       |01              |NULL           |\n",
      "|36627992   |HERON SILVA DE MELLO 10584718721                    |2135             |50                      |200,00        |01              |NULL           |\n",
      "|36627993   |FELIPE ANDRADE E SILVA 02060307384                  |2135             |50                      |1000,00       |01              |NULL           |\n",
      "|36627994   |JULIO CESAR CRUZ DE SOUZA 46620172890               |2135             |50                      |2000,00       |01              |NULL           |\n",
      "|36627995   |ROSILENE APARECIDA DE LIMA DE BRITO 15933062880     |2135             |50                      |2000,00       |01              |NULL           |\n",
      "+-----------+----------------------------------------------------+-----------------+------------------------+--------------+----------------+---------------+\n",
      "only showing top 20 rows\n",
      "\n"
     ]
    }
   ],
   "source": [
    "empresa_9.show(truncate=False)"
   ]
  },
  {
   "cell_type": "markdown",
   "id": "d692fbd6-e2a4-4d37-bba8-990360483845",
   "metadata": {},
   "source": [
    "### Estabelecimentos investigacao"
   ]
  },
  {
   "cell_type": "code",
   "execution_count": 51,
   "id": "173255cb-a3dd-4c5e-877f-e273249e5bf8",
   "metadata": {},
   "outputs": [],
   "source": [
    "\n",
    "\n",
    "estabelecimentos_9 = spark.read.csv('estabelecimentos_9/K3241.K03200Y9.D31014.ESTABELE', sep=';', multiLine=False)"
   ]
  },
  {
   "cell_type": "code",
   "execution_count": 48,
   "id": "083eb80c-ca80-4719-9dc2-38f796a74bd7",
   "metadata": {},
   "outputs": [
    {
     "name": "stdout",
     "output_type": "stream",
     "text": [
      "+--------+----+---+---+--------------------+---+---------+---+----+----+----------+-------+--------------------+--------+--------------------+-----+--------------------+-----------------+--------+---+----+---+--------+----+--------+----+--------+--------------------+----+----+\n",
      "|24564062|0001| 94|  1|                 _c4| 02|201604116| 00| _c8| _c9|2016041110|0155504|             0159899| CHACARA|            ROUXINOL|    0|                _c16|        SAO BENTO|13160000| SP|6175| 19|38771023|_c23|    _c24|_c25|    _c26|                _c27|_c28|_c29|\n",
      "+--------+----+---+---+--------------------+---+---------+---+----+----+----------+-------+--------------------+--------+--------------------+-----+--------------------+-----------------+--------+---+----+---+--------+----+--------+----+--------+--------------------+----+----+\n",
      "|24564076|0001| 08|  1|             ROBATTO| 02| 20160411| 00|NULL|NULL|  20160411|9001902|8230001,5813100,8...|     RUA|  DOMINGOS MARREIROS| 1718|                NULL|         UMARIZAL|66060160| PA|0427| 91|80261595|NULL|    NULL|NULL|    NULL|soniaferro@robatt...|NULL|NULL|\n",
      "|24564088|0001| 32|  1|         ALMEIDA MEI| 04| 20210303| 63|NULL|NULL|  20160411|7319002|             4782201|     RUA|           MEN DE SA|   57|                CASA| JARDIM AEROPORTO|76920000| RO|0017| 69|93299788|NULL|    NULL|NULL|    NULL|ronivaldoopo@hotm...|NULL|NULL|\n",
      "|24564100|0001| 09|  1|KUMAM INDUSTRIA E...| 08| 20201208| 01|NULL|NULL|  20160411|4672900|             2593400|     RUA|      RIBEIRAO PRETO|  236|                NULL| ARRAIAL PAULISTA|06780190| SP|7157| 11|45675288|  11|57023793|  11|45675288|KUMAM.IND@HOTMAIL...|NULL|NULL|\n",
      "|24564115|0001| 77|  1|   LOJAO DA ECONOMIA| 04| 20210422| 63|NULL|NULL|  20160411|4781400|     4755503,4789099|     RUA|  ALICE ROSA SANTANA|   17|                CASA|    ARNULFO ORFAO|45280000| BA|3571| 73|88686808|NULL|    NULL|NULL|    NULL|aamandas.silva@ho...|NULL|NULL|\n",
      "|24564126|0001| 57|  1|NANCI TAMD TOUCAS...| 04| 20210319| 63|NULL|NULL|  20160411|1412601|                NULL|TRAVESSA|  JOAO DE SOUZA DIAS|   70|                NULL|        JACUTINGA|26564280| RJ|1116| 21|73512585|NULL|    NULL|NULL|    NULL|                NULL|NULL|NULL|\n",
      "|24564204|0001| 13|  1|CRC INSTALACOES E...| 08| 20180625| 01|NULL|NULL|  20160411|3321000|3314707,4322303,4...|     RUA|               CHINA|  567|                NULL|PARQUE DAS NACOES|13470191| SP|6131| 19|36014699|NULL|    NULL|NULL|    NULL|  carlosrcjr@msn.com|NULL|NULL|\n",
      "|14387130|0001| 33|  1|REGISDATA INFORMA...| 08| 20160411| 01|NULL|NULL|  20110930|4751201|9511800,9001906,3...|     RUA|Rua Professor Rub...| 4135|                NULL|  Jardim Paulista|15700726| SP|6597| 17|36328224|NULL|    NULL|NULL|    NULL|regisdata@bol.com.br|NULL|NULL|\n",
      "|24564158|0001| 52|  1|       JM MOTO PECAS| 02| 20160411| 00|NULL|NULL|  20160411|4541206|             4530705| AVENIDA|      AV PIMENTEIRAS| 1142|                NULL|         VALENTIM|64300000| PI|1225| 89|99740245|NULL|    NULL|NULL|    NULL|GERENCIALVALENCA@...|NULL|NULL|\n",
      "|24564173|0001| 09|  1|PC TREINAMENTO E ...| 02| 20160318| 00|NULL|NULL|  20160318|7319002|                NULL|     RUA|    CORONEL DULCIDIO| 1256|           APT   802|       AGUA VERDE|80250100| PR|7535| 41|32446917|NULL|    NULL|NULL|    NULL| PC@RODRIGUES.PPG.BR|NULL|NULL|\n",
      "|24564184|0001| 80|  1|            CONSULTE| 02| 20160411| 00|NULL|NULL|  20160411|6204000|                NULL|     RUA|        FLAVIO UCHOA| 1699|                NULL|   CAMPOS ELISEOS|14085600| SP|6969| 16|38774010|  16|91704130|  16|39691223|RENATOJOSE@GMAIL.COM|NULL|NULL|\n",
      "|24564193|0001| 71|  1|    KUHN INSTALACOES| 08| 20181107| 01|NULL|NULL|  20160411|4321500|                NULL|     RUA|      ALDO LOCATELLI|  359|                CASA|     SANTO INACIO|93290410| RS|8651| 51|96066525|NULL|    NULL|NULL|    NULL|vagnerkuhn.k@hotm...|NULL|NULL|\n",
      "|24564206|0001| 02|  1|PIATTO DI PARMA C...| 02| 20160311| 00|NULL|NULL|  20160311|5611201|     4721104,5611203|     RUA|   GUILHERME ABRAHAM|   41|           SALA  101|           CENTRO|95670088| RS|8681| 54|32862741|NULL|    NULL|NULL|    NULL|DIRENO@DIRENO.COM.BR|NULL|NULL|\n",
      "|24564219|0001| 81|  1|                NULL| 02| 20160411| 00|NULL|NULL|  20160411|4633801|     4930201,4930202| AVENIDA|            BRASILIA|10000|BOX   29         ...|          LINDOIA|86031770| PR|7667| 43|96611509|NULL|    NULL|NULL|    NULL|ATACADAOFOLLY7374...|NULL|NULL|\n",
      "|24564233|0001| 85|  1|                NULL| 08| 20180928| 01|NULL|NULL|  20160411|5611201|             5620102| AVENIDA|        DOS ANDRADAS|  874|            LOJA  02|           CENTRO|36036000| MG|4733| 32|32134692|NULL|    NULL|NULL|    NULL|     ADM@MRJF.COM.BR|NULL|NULL|\n",
      "|24564245|0001| 00|  1|                NULL| 04| 20210305| 63|NULL|NULL|  20160411|5611201|             8230001|TRAVESSA|       ALEX VALLAURI|   08|                NULL|       ITAIM BIBI|04533020| SP|7107| 11|31686467|NULL|    NULL|NULL|    NULL|FABIANO@JARDIMAUR...|NULL|NULL|\n",
      "|24564255|0001| 45|  1|                NULL| 02| 20160411| 00|NULL|NULL|  20160411|4330404|                NULL|     RUA|URIAS RODRIGUES D...|   75|                NULL|  JARDIM BRASILIA|38401330| MG|5403| 34|96751835|NULL|    NULL|NULL|    NULL|DAIANE_MARY2012@Y...|NULL|NULL|\n",
      "|24564266|0001| 25|  1|          MOTO LIVRE| 02| 20160409| 00|NULL|NULL|  20160409|4541206|     4520002,4543900| AVENIDA|                 V 8|   SN|QUADRA332        ...| CIDADE VERA CRUZ|74937630| GO|9227| 62|32777702|NULL|    NULL|NULL|    NULL|MOTOLIVRE.BURITI@...|NULL|NULL|\n",
      "|24564278|0001| 50|  1|                NULL| 02| 20160411| 00|NULL|NULL|  20160411|6810201|             6810203|     RUA|SEBASTIAO FABIANO...|  210|                NULL|        BELVEDERE|30320690| MG|4123| 31|33125506|  31|    NULL|NULL|    NULL|GESTAC@GESTAC.COM.BR|NULL|NULL|\n",
      "|24564292|0001| 53|  1|SERV FESTA DO SER...| 08| 20180410| 01|NULL|NULL|  20160411|4723700|                NULL|     RUA|FERNAO DIAS PAES ...|1213A|                NULL|           CENTRO|15685000| SP|0808| 17|97214746|NULL|    NULL|NULL|    NULL|                NULL|NULL|NULL|\n",
      "|24564303|0001| 03|  1|           GARAGE 89| 04| 20210325| 63|NULL|NULL|  20160408|5611204|5611201,9329801,5...|     RUA|       JOAO VALIANTE|   89|              GALPAO|          ANO BOM|27323210| RJ|5807| 24|33283786|NULL|33283786|NULL|33283786|PATRICIACONTABIL@...|NULL|NULL|\n",
      "+--------+----+---+---+--------------------+---+---------+---+----+----+----------+-------+--------------------+--------+--------------------+-----+--------------------+-----------------+--------+---+----+---+--------+----+--------+----+--------+--------------------+----+----+\n",
      "only showing top 20 rows\n",
      "\n"
     ]
    },
    {
     "name": "stderr",
     "output_type": "stream",
     "text": [
      "23/10/20 09:06:12 WARN CSVHeaderChecker: CSV header does not conform to the schema.\n",
      " Header: 24564062, 0001, 94, 1, , 02, 20160411, 00, , , 20160411, 0155504, 0159899, CHACARA, ROUXINOL, 0, , SAO BENTO, 13160000, SP, 6175, 19, 38771023, , , , , , , \n",
      " Schema: 24564062, 0001, 94, 1, _c4, 02, 201604116, 00, _c8, _c9, 2016041110, 0155504, 0159899, CHACARA, ROUXINOL, 0, _c16, SAO BENTO, 13160000, SP, 6175, 19, 38771023, _c23, _c24, _c25, _c26, _c27, _c28, _c29\n",
      "Expected: _c4 but found: \n",
      "CSV file: file:///home/carlos/projetos/base_cnae/estabelecimentos_9/K3241.K03200Y9.D31014.ESTABELE\n"
     ]
    }
   ],
   "source": [
    "#estabelecimentos_9.show()\n",
    "order = estabelecimentos_9.orderBy(F.col())"
   ]
  },
  {
   "cell_type": "code",
   "execution_count": 52,
   "id": "34ede144-43c3-49aa-8395-8cf0dca0c432",
   "metadata": {},
   "outputs": [
    {
     "name": "stdout",
     "output_type": "stream",
     "text": [
      "+--------+----+---+---+--------------------+---+--------+---+----+----+--------+-------+--------------------+--------+--------------------+-----+--------------------+-----------------+--------+----+----+----+--------+----+--------+----+--------+--------------------+----+----+\n",
      "|     _c0| _c1|_c2|_c3|                 _c4|_c5|     _c6|_c7| _c8| _c9|    _c10|   _c11|                _c12|    _c13|                _c14| _c15|                _c16|             _c17|    _c18|_c19|_c20|_c21|    _c22|_c23|    _c24|_c25|    _c26|                _c27|_c28|_c29|\n",
      "+--------+----+---+---+--------------------+---+--------+---+----+----+--------+-------+--------------------+--------+--------------------+-----+--------------------+-----------------+--------+----+----+----+--------+----+--------+----+--------+--------------------+----+----+\n",
      "|24564062|0001| 94|  1|                NULL| 02|20160411| 00|NULL|NULL|20160411|0155504|             0159899| CHACARA|            ROUXINOL|    0|                NULL|        SAO BENTO|13160000|  SP|6175|  19|38771023|NULL|    NULL|NULL|    NULL|                NULL|NULL|NULL|\n",
      "|24564076|0001| 08|  1|             ROBATTO| 02|20160411| 00|NULL|NULL|20160411|9001902|8230001,5813100,8...|     RUA|  DOMINGOS MARREIROS| 1718|                NULL|         UMARIZAL|66060160|  PA|0427|  91|80261595|NULL|    NULL|NULL|    NULL|soniaferro@robatt...|NULL|NULL|\n",
      "|24564088|0001| 32|  1|         ALMEIDA MEI| 04|20210303| 63|NULL|NULL|20160411|7319002|             4782201|     RUA|           MEN DE SA|   57|                CASA| JARDIM AEROPORTO|76920000|  RO|0017|  69|93299788|NULL|    NULL|NULL|    NULL|ronivaldoopo@hotm...|NULL|NULL|\n",
      "|24564100|0001| 09|  1|KUMAM INDUSTRIA E...| 08|20201208| 01|NULL|NULL|20160411|4672900|             2593400|     RUA|      RIBEIRAO PRETO|  236|                NULL| ARRAIAL PAULISTA|06780190|  SP|7157|  11|45675288|  11|57023793|  11|45675288|KUMAM.IND@HOTMAIL...|NULL|NULL|\n",
      "|24564115|0001| 77|  1|   LOJAO DA ECONOMIA| 04|20210422| 63|NULL|NULL|20160411|4781400|     4755503,4789099|     RUA|  ALICE ROSA SANTANA|   17|                CASA|    ARNULFO ORFAO|45280000|  BA|3571|  73|88686808|NULL|    NULL|NULL|    NULL|aamandas.silva@ho...|NULL|NULL|\n",
      "|24564126|0001| 57|  1|NANCI TAMD TOUCAS...| 04|20210319| 63|NULL|NULL|20160411|1412601|                NULL|TRAVESSA|  JOAO DE SOUZA DIAS|   70|                NULL|        JACUTINGA|26564280|  RJ|1116|  21|73512585|NULL|    NULL|NULL|    NULL|                NULL|NULL|NULL|\n",
      "|24564204|0001| 13|  1|CRC INSTALACOES E...| 08|20180625| 01|NULL|NULL|20160411|3321000|3314707,4322303,4...|     RUA|               CHINA|  567|                NULL|PARQUE DAS NACOES|13470191|  SP|6131|  19|36014699|NULL|    NULL|NULL|    NULL|  carlosrcjr@msn.com|NULL|NULL|\n",
      "|14387130|0001| 33|  1|REGISDATA INFORMA...| 08|20160411| 01|NULL|NULL|20110930|4751201|9511800,9001906,3...|     RUA|Rua Professor Rub...| 4135|                NULL|  Jardim Paulista|15700726|  SP|6597|  17|36328224|NULL|    NULL|NULL|    NULL|regisdata@bol.com.br|NULL|NULL|\n",
      "|24564158|0001| 52|  1|       JM MOTO PECAS| 02|20160411| 00|NULL|NULL|20160411|4541206|             4530705| AVENIDA|      AV PIMENTEIRAS| 1142|                NULL|         VALENTIM|64300000|  PI|1225|  89|99740245|NULL|    NULL|NULL|    NULL|GERENCIALVALENCA@...|NULL|NULL|\n",
      "|24564173|0001| 09|  1|PC TREINAMENTO E ...| 02|20160318| 00|NULL|NULL|20160318|7319002|                NULL|     RUA|    CORONEL DULCIDIO| 1256|           APT   802|       AGUA VERDE|80250100|  PR|7535|  41|32446917|NULL|    NULL|NULL|    NULL| PC@RODRIGUES.PPG.BR|NULL|NULL|\n",
      "|24564184|0001| 80|  1|            CONSULTE| 02|20160411| 00|NULL|NULL|20160411|6204000|                NULL|     RUA|        FLAVIO UCHOA| 1699|                NULL|   CAMPOS ELISEOS|14085600|  SP|6969|  16|38774010|  16|91704130|  16|39691223|RENATOJOSE@GMAIL.COM|NULL|NULL|\n",
      "|24564193|0001| 71|  1|    KUHN INSTALACOES| 08|20181107| 01|NULL|NULL|20160411|4321500|                NULL|     RUA|      ALDO LOCATELLI|  359|                CASA|     SANTO INACIO|93290410|  RS|8651|  51|96066525|NULL|    NULL|NULL|    NULL|vagnerkuhn.k@hotm...|NULL|NULL|\n",
      "|24564206|0001| 02|  1|PIATTO DI PARMA C...| 02|20160311| 00|NULL|NULL|20160311|5611201|     4721104,5611203|     RUA|   GUILHERME ABRAHAM|   41|           SALA  101|           CENTRO|95670088|  RS|8681|  54|32862741|NULL|    NULL|NULL|    NULL|DIRENO@DIRENO.COM.BR|NULL|NULL|\n",
      "|24564219|0001| 81|  1|                NULL| 02|20160411| 00|NULL|NULL|20160411|4633801|     4930201,4930202| AVENIDA|            BRASILIA|10000|BOX   29         ...|          LINDOIA|86031770|  PR|7667|  43|96611509|NULL|    NULL|NULL|    NULL|ATACADAOFOLLY7374...|NULL|NULL|\n",
      "|24564233|0001| 85|  1|                NULL| 08|20180928| 01|NULL|NULL|20160411|5611201|             5620102| AVENIDA|        DOS ANDRADAS|  874|            LOJA  02|           CENTRO|36036000|  MG|4733|  32|32134692|NULL|    NULL|NULL|    NULL|     ADM@MRJF.COM.BR|NULL|NULL|\n",
      "|24564245|0001| 00|  1|                NULL| 04|20210305| 63|NULL|NULL|20160411|5611201|             8230001|TRAVESSA|       ALEX VALLAURI|   08|                NULL|       ITAIM BIBI|04533020|  SP|7107|  11|31686467|NULL|    NULL|NULL|    NULL|FABIANO@JARDIMAUR...|NULL|NULL|\n",
      "|24564255|0001| 45|  1|                NULL| 02|20160411| 00|NULL|NULL|20160411|4330404|                NULL|     RUA|URIAS RODRIGUES D...|   75|                NULL|  JARDIM BRASILIA|38401330|  MG|5403|  34|96751835|NULL|    NULL|NULL|    NULL|DAIANE_MARY2012@Y...|NULL|NULL|\n",
      "|24564266|0001| 25|  1|          MOTO LIVRE| 02|20160409| 00|NULL|NULL|20160409|4541206|     4520002,4543900| AVENIDA|                 V 8|   SN|QUADRA332        ...| CIDADE VERA CRUZ|74937630|  GO|9227|  62|32777702|NULL|    NULL|NULL|    NULL|MOTOLIVRE.BURITI@...|NULL|NULL|\n",
      "|24564278|0001| 50|  1|                NULL| 02|20160411| 00|NULL|NULL|20160411|6810201|             6810203|     RUA|SEBASTIAO FABIANO...|  210|                NULL|        BELVEDERE|30320690|  MG|4123|  31|33125506|  31|    NULL|NULL|    NULL|GESTAC@GESTAC.COM.BR|NULL|NULL|\n",
      "|24564292|0001| 53|  1|SERV FESTA DO SER...| 08|20180410| 01|NULL|NULL|20160411|4723700|                NULL|     RUA|FERNAO DIAS PAES ...|1213A|                NULL|           CENTRO|15685000|  SP|0808|  17|97214746|NULL|    NULL|NULL|    NULL|                NULL|NULL|NULL|\n",
      "+--------+----+---+---+--------------------+---+--------+---+----+----+--------+-------+--------------------+--------+--------------------+-----+--------------------+-----------------+--------+----+----+----+--------+----+--------+----+--------+--------------------+----+----+\n",
      "only showing top 20 rows\n",
      "\n"
     ]
    }
   ],
   "source": [
    "estabelecimentos_9.show()"
   ]
  },
  {
   "cell_type": "code",
   "execution_count": 58,
   "id": "2cbc91ac-ed38-49a6-b9fe-aced0b134423",
   "metadata": {},
   "outputs": [
    {
     "name": "stderr",
     "output_type": "stream",
     "text": [
      "[Stage 25:==============>                                           (1 + 3) / 4]\r"
     ]
    },
    {
     "name": "stdout",
     "output_type": "stream",
     "text": [
      "+--------+----+---+---+-------+---+--------+---+----+----+--------+-------+--------------------+----+------------------+----+----+--------+--------+----+----+----+--------+----+----+----+----+--------------------+----+----+\n",
      "|     _c0| _c1|_c2|_c3|    _c4|_c5|     _c6|_c7| _c8| _c9|    _c10|   _c11|                _c12|_c13|              _c14|_c15|_c16|    _c17|    _c18|_c19|_c20|_c21|    _c22|_c23|_c24|_c25|_c26|                _c27|_c28|_c29|\n",
      "+--------+----+---+---+-------+---+--------+---+----+----+--------+-------+--------------------+----+------------------+----+----+--------+--------+----+----+----+--------+----+----+----+----+--------------------+----+----+\n",
      "|24564076|0001| 08|  1|ROBATTO| 02|20160411| 00|NULL|NULL|20160411|9001902|8230001,5813100,8...| RUA|DOMINGOS MARREIROS|1718|NULL|UMARIZAL|66060160|  PA|0427|  91|80261595|NULL|NULL|NULL|NULL|soniaferro@robatt...|NULL|NULL|\n",
      "+--------+----+---+---+-------+---+--------+---+----+----+--------+-------+--------------------+----+------------------+----+----+--------+--------+----+----+----+--------+----+----+----+----+--------------------+----+----+\n",
      "\n"
     ]
    },
    {
     "name": "stderr",
     "output_type": "stream",
     "text": [
      "                                                                                \r"
     ]
    }
   ],
   "source": [
    "estabelecimentos_9.filter(F.col('_c0') == 34028316).show()"
   ]
  },
  {
   "cell_type": "code",
   "execution_count": 62,
   "id": "f99013aa-bd5c-470c-9f53-0cd697cffb35",
   "metadata": {},
   "outputs": [
    {
     "name": "stderr",
     "output_type": "stream",
     "text": [
      "23/10/20 09:40:36 WARN RowBasedKeyValueBatch: Calling spill() on RowBasedKeyValueBatch. Will not spill but return 0.\n",
      "23/10/20 09:40:36 WARN RowBasedKeyValueBatch: Calling spill() on RowBasedKeyValueBatch. Will not spill but return 0.\n",
      "23/10/20 09:40:37 WARN RowBasedKeyValueBatch: Calling spill() on RowBasedKeyValueBatch. Will not spill but return 0.\n",
      "23/10/20 09:40:37 WARN RowBasedKeyValueBatch: Calling spill() on RowBasedKeyValueBatch. Will not spill but return 0.\n",
      "23/10/20 09:40:37 WARN RowBasedKeyValueBatch: Calling spill() on RowBasedKeyValueBatch. Will not spill but return 0.\n",
      "23/10/20 09:40:37 WARN RowBasedKeyValueBatch: Calling spill() on RowBasedKeyValueBatch. Will not spill but return 0.\n",
      "23/10/20 09:40:37 WARN RowBasedKeyValueBatch: Calling spill() on RowBasedKeyValueBatch. Will not spill but return 0.\n",
      "23/10/20 09:40:37 WARN RowBasedKeyValueBatch: Calling spill() on RowBasedKeyValueBatch. Will not spill but return 0.\n",
      "23/10/20 09:40:37 WARN RowBasedKeyValueBatch: Calling spill() on RowBasedKeyValueBatch. Will not spill but return 0.\n",
      "23/10/20 09:40:37 WARN RowBasedKeyValueBatch: Calling spill() on RowBasedKeyValueBatch. Will not spill but return 0.\n",
      "23/10/20 09:40:37 WARN RowBasedKeyValueBatch: Calling spill() on RowBasedKeyValueBatch. Will not spill but return 0.\n",
      "23/10/20 09:40:37 WARN RowBasedKeyValueBatch: Calling spill() on RowBasedKeyValueBatch. Will not spill but return 0.\n",
      "23/10/20 09:40:37 WARN RowBasedKeyValueBatch: Calling spill() on RowBasedKeyValueBatch. Will not spill but return 0.\n",
      "23/10/20 09:40:37 WARN RowBasedKeyValueBatch: Calling spill() on RowBasedKeyValueBatch. Will not spill but return 0.\n",
      "23/10/20 09:40:37 WARN RowBasedKeyValueBatch: Calling spill() on RowBasedKeyValueBatch. Will not spill but return 0.\n",
      "23/10/20 09:40:37 WARN RowBasedKeyValueBatch: Calling spill() on RowBasedKeyValueBatch. Will not spill but return 0.\n",
      "[Stage 37:============>                                             (2 + 7) / 9]\r"
     ]
    },
    {
     "name": "stdout",
     "output_type": "stream",
     "text": [
      "+--------+----+---+-----+\n",
      "|     _c0| _c1|_c2|count|\n",
      "+--------+----+---+-----+\n",
      "|00000000|0014| 06|    1|\n",
      "|00000000|0081| 76|    1|\n",
      "|00000000|0133| 31|    1|\n",
      "|00000000|0084| 19|    1|\n",
      "|00000000|0010| 82|    1|\n",
      "|00000000|0095| 71|    1|\n",
      "|00000000|0166| 08|    1|\n",
      "|00000000|0157| 09|    1|\n",
      "|00000000|0090| 67|    1|\n",
      "|00000000|0420| 05|    1|\n",
      "|00000000|0172| 48|    1|\n",
      "|00000000|0443| 00|    1|\n",
      "|00000000|0029| 92|    1|\n",
      "|00000000|0453| 73|    1|\n",
      "|00000000|0363| 82|    1|\n",
      "|00000000|0459| 69|    1|\n",
      "|00000000|0122| 89|    1|\n",
      "|00000000|0472| 36|    1|\n",
      "|00000000|0419| 71|    1|\n",
      "|00000000|0564| 99|    1|\n",
      "+--------+----+---+-----+\n",
      "only showing top 20 rows\n",
      "\n"
     ]
    },
    {
     "name": "stderr",
     "output_type": "stream",
     "text": [
      "                                                                                \r"
     ]
    }
   ],
   "source": [
    "estabelecimentos_9.groupBy(F.col('_c0'), F.col('_c1'), F.col('_c2')).count().orderBy(F.col('count').desc()).show()"
   ]
  },
  {
   "cell_type": "code",
   "execution_count": 67,
   "id": "10202dc9-5265-442b-84b5-92d5f4dd77aa",
   "metadata": {},
   "outputs": [
    {
     "name": "stderr",
     "output_type": "stream",
     "text": [
      "[Stage 38:===================================================>      (8 + 1) / 9]\r"
     ]
    },
    {
     "name": "stdout",
     "output_type": "stream",
     "text": [
      "+--------+----+---+---+--------------------+---+---+---+----+----+--------+-------+--------------------+--------+--------------------+----+--------------------+--------------------+--------+----+----+----+--------+----+--------+----+--------+--------------------+----+----+\n",
      "|     _c0| _c1|_c2|_c3|                 _c4|_c5|_c6|_c7| _c8| _c9|    _c10|   _c11|                _c12|    _c13|                _c14|_c15|                _c16|                _c17|    _c18|_c19|_c20|_c21|    _c22|_c23|    _c24|_c25|    _c26|                _c27|_c28|_c29|\n",
      "+--------+----+---+---+--------------------+---+---+---+----+----+--------+-------+--------------------+--------+--------------------+----+--------------------+--------------------+--------+----+----+----+--------+----+--------+----+--------+--------------------+----+----+\n",
      "|09019610|0001| 01|  1|       ACADEMIA JUMP| 02|  0| 00|NULL|NULL|20070823|9313100|             8650004|     RUA|        ALFREDO POPS| 152|                NULL|        JARDIM ICATU|18110275|  SP|7243|  15|32431031|NULL|    NULL|  15|32431031|NORIVAL@E31MARCO....|NULL|NULL|\n",
      "|11085761|0001| 00|  1|                NULL| 02|  0| 00|NULL|NULL|20080911|9499500|                NULL|     RUA|ESTEVAO ALVES CORREA|  SN|              TERREO|                ALTO|79200000|  MS|9021|  67|32411780|NULL|    NULL|  67|32411780|                NULL|NULL|NULL|\n",
      "|04130531|0005| 83|  2|         ROSA MASTER| 02|  0| 00|NULL|NULL|20050510|9603304|7729203,9603301,9...|     RUA|PREF DR JOSE FRED...| 249|                NULL|              CENTRO|55890000|  PE|2313|  81|36313587|NULL|    NULL|  81|36314443|ALMIR.BENTO@ICOON...|NULL|NULL|\n",
      "|11237497|0001| 82|  1|                NULL| 02|  0| 00|NULL|NULL|20090828|8121400|7820500,5620101,8...|     RUA|           GAMA ROSA| 104|EDIF  LUCIAN     ...|              CENTRO|29015100|  ES|5705|  27|32338657|  27|32338657|  27|32338657|volcati@volcatico...|NULL|NULL|\n",
      "|03476811|0116| 09|  2|                NULL| 02|  0| 00|NULL|NULL|20030908|8599604|     4721102,7490104|     RUA|     TEODORO SAMPAIO| 599|      605        ...|           PINHEIROS|05405050|  SP|7107|  11|38868087|  11|38868000|  11|38868017|cintia.guerra@car...|NULL|NULL|\n",
      "|11272232|0001| 15|  1|FUNDO MUNICIPAL D...| 02|  0| 00|NULL|NULL|19950914|8630502|             8630599|     RUA|       FREI LIBERATO| 249|              PREDIO|              CENTRO|89818000|  SC|5589|  49|33270066|  49|33270061|  49|33270066|contabilidade@nov...|NULL|NULL|\n",
      "|07397823|0001| 41|  1|              ABETUM| 02|  0| 00|NULL|NULL|20050504|4781400|             4751201|     RUA|T 46 ESQ.  C/  AV...| 386|                NULL|        SETOR  BUENO|74210190|  GO|9373|  62| 2854242|NULL|    NULL|NULL|    NULL|                NULL|NULL|NULL|\n",
      "|11741026|0001| 07|  1|    BRANDAO PESCADOS| 02|  0| 00|NULL|NULL|20100323|4634603|                NULL|TRAVESSA|              PARANA|  59|            SALA  01|     AEROPORTO VELHO|68020100|  PA|0535|  93|91284392|NULL|    NULL|NULL|    NULL|NRBRANDAO@2022GMA...|NULL|NULL|\n",
      "|06885879|0001| 82|  1|                NULL| 02|  0| 00|NULL|NULL|20040721|4711302|4617600,4723700,4...| AVENIDA|  JULIO DE CASTILHOS| 512|           SUBSL 001|              CENTRO|95330000|  RS|8959|  54|34416043|NULL|    NULL|NULL|    NULL|COMPRAS.ZECHIN@GM...|NULL|NULL|\n",
      "|75717355|0010| 96|  2|   USACUCAR - RONDON| 02|  0| 00|NULL|NULL|20100630|1071600|1931400,5091202,0...| RODOVIA|        PR 492 KM 47| S/N|      USACUCAR RO...|          ZONA RURAL|87800000|  PR|7829|  44|32181954|  44|32181889|  44|32181918|MARIOSERGIO@USACU...|NULL|NULL|\n",
      "|07397747|0001| 74|  1|                NULL| 02|  0| 00|NULL|NULL|20050517|4530701|                NULL| AVENIDA|  DOUTOR JOSE HIGINO| 857|                NULL|       VILA ORATORIO|03189040|  SP|7107|NULL|    NULL|NULL|    NULL|NULL|    NULL|                NULL|NULL|NULL|\n",
      "|75717355|0012| 58|  2| USACUCAR - SAO TOME| 02|  0| 00|NULL|NULL|20100630|1931400|             0113000| RODOVIA|PR 82 KM 14 - TRE...| S/N|      GLEBA DOS S...|          ZONA RURAL|87220000|  PR|7897|  44|32181954|  44|32181889|  44|32181918|MARIOSERGIO@USACU...|NULL|NULL|\n",
      "|11022597|0015| 97|  2|PRONTO S.CARDIOLO...| 02|  0| 00|NULL|NULL|20020420|8610101|                NULL|     RUA|        DOS PALMARES| S/N|                NULL|         SANTO AMARO|50100060|  PE|2531|  81|34212878|NULL|    NULL|  81|34212129|                NULL|NULL|NULL|\n",
      "|07398021|0001| 56|  1|                NULL| 02|  0| 00|NULL|NULL|20050524|4755502|                NULL| AVENIDA|    SETE DE SETEMBRO|2567|                NULL|              CENTRO|19210000|  SP|7179|  18|32891393|NULL|    NULL|  18|32891393|                NULL|NULL|NULL|\n",
      "|10633615|0001| 09|  1|                NULL| 02|  0| 00|NULL|NULL|20090210|4120400|2330301,2790202,3...|     RUA|       TENENTE CRAVO| 633|                NULL|   ALTO DA BOA VISTA|63900002|  CE|1527|  88|34121840|NULL|    NULL|  88|34121840|prescon.ce@uol.co...|NULL|NULL|\n",
      "|07397830|0001| 43|  1|BOLSA DE RELOGIO ...| 02|  0| 00|NULL|NULL|20050517|9529103|     9529106,9529199| AVENIDA|   CASTELO DE CASTRO| 997|LOJA  23         ...|          JANGURUSSU|60866681|  CE|1389|  85|31108281|NULL|    NULL|NULL|    NULL|PLENITUDE.CONTABI...|NULL|NULL|\n",
      "|03509978|0015| 77|  2|            FACCHINI| 02|  0| 00|NULL|NULL|20040929|2930101|     4520001,4520007| AVENIDA|    JOSE MARAO FILHO|8754|             TERREO;|POLO COMERCIAL E ...|15502045|  SP|7245|  17|34059000|NULL|    NULL|  17|34059200|FACCHINI@FACCHINI...|NULL|NULL|\n",
      "|07398031|0001| 91|  1|     A&G CONSULTORIA| 02|  0| 00|NULL|NULL|20050519|7020400|             6204000|     RUA|        DIAS DA CRUZ| 445|           SALA  204|               MEIER|20720010|  RJ|6001|  21|35913400|NULL|    NULL|  21|35913400|fransciscoaraujo@...|NULL|NULL|\n",
      "|06886628|0001| 12|  1|MATERIAIS PARA CO...| 02|  0| 00|NULL|NULL|20040709|4744099|4744001,4743100,4...|     RUA|MINELVINO LIMA DE...|  SN|QUADRA: 18; LOTE:...|              CENTRO|77798000|  TO|0189|  63|34761150|NULL|    NULL|NULL|    NULL|MONTECARMELOPALME...|NULL|NULL|\n",
      "|07398042|0001| 71|  1|         SAUDPHARMA.| 02|  0| 00|NULL|NULL|20050516|4771701|4721104,4763601,4...| AVENIDA|         DAS ACACIAS| 617|                NULL|JARDIM DAS ALTERO...|32673325|  MG|4133|  31|35115213|NULL|    NULL|  31|33984849|PIDROGARIALTDA@GM...|NULL|NULL|\n",
      "+--------+----+---+---+--------------------+---+---+---+----+----+--------+-------+--------------------+--------+--------------------+----+--------------------+--------------------+--------+----+----+----+--------+----+--------+----+--------+--------------------+----+----+\n",
      "only showing top 20 rows\n",
      "\n"
     ]
    },
    {
     "name": "stderr",
     "output_type": "stream",
     "text": [
      "                                                                                \r"
     ]
    }
   ],
   "source": [
    "estabelecimentos_9.orderBy('_c6').show()"
   ]
  },
  {
   "cell_type": "code",
   "execution_count": null,
   "id": "8f0bded1-17c8-4ff2-a23b-71d145555850",
   "metadata": {},
   "outputs": [],
   "source": [
    "+--------+----+---+---+--------------------+---+--------+---+----+----+--------+-------+--------------------+--------+--------------------+-----+--------------------+-----------------+--------+----+----+----+--------+----+--------+----+--------+--------------------+----+----+\n",
    "|     _c0| _c1|_c2|_c3|                 _c4|_c5|     _c6|_c7| _c8| _c9|    _c10|   _c11|                _c12|    _c13|                _c14| _c15|                _c16|             _c17|    _c18|_c19|_c20|_c21|    _c22|_c23|    _c24|_c25|    _c26|                _c27|_c28|_c29|\n",
    "+--------+----+---+---+--------------------+---+--------+---+----+----+--------+-------+--------------------+--------+--------------------+-----+--------------------+-----------------+--------+----+----+----+--------+----+--------+----+--------+--------------------+----+----+\n",
    "|24564062|0001| 94|  1|                NULL| 02|20160411| 00|NULL|NULL|20160411|0155504|             0159899| CHACARA|            ROUXINOL|    0|                NULL|        SAO BENTO|13160000|  SP|6175|  19|38771023|NULL|    NULL|NULL|    NULL|                NULL|NULL|NULL|\n",
    "|24564076|0001| 08|  1|             ROBATTO| 02|20160411| 00|NULL|NULL|20160411|9001902|8230001,5813100,8...|     RUA|  DOMINGOS MARREIROS| 1718|                NULL|         UMARIZAL|66060160|  PA|0427|  91|80261595|NULL|    NULL|NULL|    NULL|soniaferro@robatt...|NULL|NULL|\n",
    "|24564088|0001| 32|  1|         ALMEIDA MEI| 04|20210303| 63|NULL|NULL|20160411|7319002|             4782201|     RUA|           MEN DE SA|   57|                CASA| JARDIM AEROPORTO|76920000|  RO|0017|  69|93299788|NULL|    NULL|NULL|    NULL|ronivaldoopo@hotm...|NULL|NULL|\n",
    "|24564100|0001| 09|  1|KUMAM INDUSTRIA E...| 08|20201208| 01|NULL|NULL|20160411|4672900|             2593400|     RUA|      RIBEIRAO PRETO|  236|                NULL| ARRAIAL PAULISTA|06780190|  SP|7157|  11|45675288|  11|57023793|  11|45675288|KUMAM.IND@HOTMAIL...|NULL|NULL|\n",
    "|24564115|0001| 77|  1|   LOJAO DA ECONOMIA| 04|20210422| 63|NULL|NULL|20160411|4781400|     4755503,4789099|     RUA|  ALICE ROSA SANTANA|   17|                CASA|    ARNULFO ORFAO|45280000|  BA|3571|  73|88686808|NULL|    NULL|NULL|    NULL|aamandas.silva@ho...|NULL|NULL|\n",
    "|24564126|0001| 57|  1|NANCI TAMD TOUCAS...| 04|20210319| 63|NULL|NULL|20160411|1412601|                NULL|TRAVESSA|  JOAO DE SOUZA DIAS|   70|                NULL|        JACUTINGA|26564280|  RJ|1116|  21|73512585|NULL|    NULL|NULL|    NULL|                NULL|NULL|NULL|\n",
    "|24564204|0001| 13|  1|CRC INSTALACOES E...| 08|20180625| 01|NULL|NULL|20160411|3321000|3314707,4322303,4...|     RUA|               CHINA|  567|                NULL|PARQUE DAS NACOES|13470191|  SP|6131|  19|36014699|NULL|    NULL|NULL|    NULL|  carlosrcjr@msn.com|NULL|NULL|\n",
    "|14387130|0001| 33|  1|REGISDATA INFORMA...| 08|20160411| 01|NULL|NULL|20110930|4751201|9511800,9001906,3...|     RUA|Rua Professor Rub...| 4135|                NULL|  Jardim Paulista|15700726|  SP|6597|  17|36328224|NULL|    NULL|NULL|    NULL|regisdata@bol.com.br|NULL|NULL|\n",
    "|24564158|0001| 52|  1|       JM MOTO PECAS| 02|20160411| 00|NULL|NULL|20160411|4541206|             4530705| AVENIDA|      AV PIMENTEIRAS| 1142|                NULL|         VALENTIM|64300000|  PI|1225|  89|99740245|NULL|    NULL|NULL|    NULL|GERENCIALVALENCA@...|NULL|NULL|\n",
    "|24564173|0001| 09|  1|PC TREINAMENTO E ...| 02|20160318| 00|NULL|NULL|20160318|7319002|                NULL|     RUA|    CORONEL DULCIDIO| 1256|           APT   802|       AGUA VERDE|80250100|  PR|7535|  41|32446917|NULL|    NULL|NULL|    NULL| PC@RODRIGUES.PPG.BR|NULL|NULL|\n",
    "|24564184|0001| 80|  1|            CONSULTE| 02|20160411| 00|NULL|NULL|20160411|6204000|                NULL|     RUA|        FLAVIO UCHOA| 1699|                NULL|   CAMPOS ELISEOS|14085600|  SP|6969|  16|38774010|  16|91704130|  16|39691223|RENATOJOSE@GMAIL.COM|NULL|NULL|\n",
    "|24564193|0001| 71|  1|    KUHN INSTALACOES| 08|20181107| 01|NULL|NULL|20160411|4321500|                NULL|     RUA|      ALDO LOCATELLI|  359|                CASA|     SANTO INACIO|93290410|  RS|8651|  51|96066525|NULL|    NULL|NULL|    NULL|vagnerkuhn.k@hotm...|NULL|NULL|\n",
    "|24564206|0001| 02|  1|PIATTO DI PARMA C...| 02|20160311| 00|NULL|NULL|20160311|5611201|     4721104,5611203|     RUA|   GUILHERME ABRAHAM|   41|           SALA  101|           CENTRO|95670088|  RS|8681|  54|32862741|NULL|    NULL|NULL|    NULL|DIRENO@DIRENO.COM.BR|NULL|NULL|\n",
    "|24564219|0001| 81|  1|                NULL| 02|20160411| 00|NULL|NULL|20160411|4633801|     4930201,4930202| AVENIDA|            BRASILIA|10000|BOX   29         ...|          LINDOIA|86031770|  PR|7667|  43|96611509|NULL|    NULL|NULL|    NULL|ATACADAOFOLLY7374...|NULL|NULL|\n",
    "|24564233|0001| 85|  1|                NULL| 08|20180928| 01|NULL|NULL|20160411|5611201|             5620102| AVENIDA|        DOS ANDRADAS|  874|            LOJA  02|           CENTRO|36036000|  MG|4733|  32|32134692|NULL|    NULL|NULL|    NULL|     ADM@MRJF.COM.BR|NULL|NULL|\n",
    "|24564245|0001| 00|  1|                NULL| 04|20210305| 63|NULL|NULL|20160411|5611201|             8230001|TRAVESSA|       ALEX VALLAURI|   08|                NULL|       ITAIM BIBI|04533020|  SP|7107|  11|31686467|NULL|    NULL|NULL|    NULL|FABIANO@JARDIMAUR...|NULL|NULL|\n",
    "|24564255|0001| 45|  1|                NULL| 02|20160411| 00|NULL|NULL|20160411|4330404|                NULL|     RUA|URIAS RODRIGUES D...|   75|                NULL|  JARDIM BRASILIA|38401330|  MG|5403|  34|96751835|NULL|    NULL|NULL|    NULL|DAIANE_MARY2012@Y...|NULL|NULL|\n",
    "|24564266|0001| 25|  1|          MOTO LIVRE| 02|20160409| 00|NULL|NULL|20160409|4541206|     4520002,4543900| AVENIDA|                 V 8|   SN|QUADRA332        ...| CIDADE VERA CRUZ|74937630|  GO|9227|  62|32777702|NULL|    NULL|NULL|    NULL|MOTOLIVRE.BURITI@...|NULL|NULL|\n",
    "|24564278|0001| 50|  1|                NULL| 02|20160411| 00|NULL|NULL|20160411|6810201|             6810203|     RUA|SEBASTIAO FABIANO...|  210|                NULL|        BELVEDERE|30320690|  MG|4123|  31|33125506|  31|    NULL|NULL|    NULL|GESTAC@GESTAC.COM.BR|NULL|NULL|\n",
    "|24564292|0001| 53|  1|SERV FESTA DO SER...| 08|20180410| 01|NULL|NULL|20160411|4723700|                NULL|     RUA|FERNAO DIAS PAES ...|1213A|                NULL|           CENTRO|15685000|  SP|0808|  17|97214746|NULL|    NULL|NULL|    NULL|                NULL|NULL|NULL|\n",
    "+--------+----+---+---+--------------------+---+--------+---+----+----+--------+-------+--------------------+--------+--------------------+-----+--------------------+-----------------+--------+----+----+----+--------+----+--------+----+--------+--------------------+----+----+"
   ]
  },
  {
   "cell_type": "code",
   "execution_count": 99,
   "id": "3e6db6e5-79ee-4e95-a3bc-19adf6182849",
   "metadata": {},
   "outputs": [],
   "source": [
    "e = estabelecimentos_9.filter(F.col('_c6') != '0')"
   ]
  },
  {
   "cell_type": "code",
   "execution_count": 100,
   "id": "8ea0af15-8517-4d7c-803b-22b6b2d4a016",
   "metadata": {},
   "outputs": [],
   "source": [
    "e_ = e.select(\"*\",F.to_date(F.col(\"_c6\"),\"yyyyMMdd\").alias(\"date\")).orderBy(F.col('date').asc()).limit(1000)"
   ]
  },
  {
   "cell_type": "code",
   "execution_count": 102,
   "id": "435f7605-582e-4db7-ae6f-de86a3b4469e",
   "metadata": {},
   "outputs": [
    {
     "name": "stderr",
     "output_type": "stream",
     "text": [
      "                                                                                \r"
     ]
    },
    {
     "data": {
      "text/html": [
       "<div>\n",
       "<style scoped>\n",
       "    .dataframe tbody tr th:only-of-type {\n",
       "        vertical-align: middle;\n",
       "    }\n",
       "\n",
       "    .dataframe tbody tr th {\n",
       "        vertical-align: top;\n",
       "    }\n",
       "\n",
       "    .dataframe thead th {\n",
       "        text-align: right;\n",
       "    }\n",
       "</style>\n",
       "<table border=\"1\" class=\"dataframe\">\n",
       "  <thead>\n",
       "    <tr style=\"text-align: right;\">\n",
       "      <th></th>\n",
       "      <th>_c0</th>\n",
       "      <th>_c1</th>\n",
       "      <th>_c2</th>\n",
       "      <th>_c3</th>\n",
       "      <th>_c4</th>\n",
       "      <th>_c5</th>\n",
       "      <th>_c6</th>\n",
       "      <th>_c7</th>\n",
       "      <th>_c8</th>\n",
       "      <th>_c9</th>\n",
       "      <th>...</th>\n",
       "      <th>_c21</th>\n",
       "      <th>_c22</th>\n",
       "      <th>_c23</th>\n",
       "      <th>_c24</th>\n",
       "      <th>_c25</th>\n",
       "      <th>_c26</th>\n",
       "      <th>_c27</th>\n",
       "      <th>_c28</th>\n",
       "      <th>_c29</th>\n",
       "      <th>date</th>\n",
       "    </tr>\n",
       "  </thead>\n",
       "  <tbody>\n",
       "    <tr>\n",
       "      <th>0</th>\n",
       "      <td>11461683</td>\n",
       "      <td>0001</td>\n",
       "      <td>09</td>\n",
       "      <td>1</td>\n",
       "      <td>None</td>\n",
       "      <td>02</td>\n",
       "      <td>16010101</td>\n",
       "      <td>00</td>\n",
       "      <td>None</td>\n",
       "      <td>None</td>\n",
       "      <td>...</td>\n",
       "      <td>19</td>\n",
       "      <td>38730286</td>\n",
       "      <td>19</td>\n",
       "      <td>38730951</td>\n",
       "      <td>19</td>\n",
       "      <td>38730951</td>\n",
       "      <td>None</td>\n",
       "      <td>None</td>\n",
       "      <td>None</td>\n",
       "      <td>1601-01-01</td>\n",
       "    </tr>\n",
       "    <tr>\n",
       "      <th>1</th>\n",
       "      <td>05487690</td>\n",
       "      <td>0001</td>\n",
       "      <td>79</td>\n",
       "      <td>1</td>\n",
       "      <td>CARTORIO JANIR SILVERIO</td>\n",
       "      <td>02</td>\n",
       "      <td>19010101</td>\n",
       "      <td>00</td>\n",
       "      <td>None</td>\n",
       "      <td>None</td>\n",
       "      <td>...</td>\n",
       "      <td>None</td>\n",
       "      <td>None</td>\n",
       "      <td>None</td>\n",
       "      <td>None</td>\n",
       "      <td>None</td>\n",
       "      <td>None</td>\n",
       "      <td>None</td>\n",
       "      <td>None</td>\n",
       "      <td>None</td>\n",
       "      <td>1901-01-01</td>\n",
       "    </tr>\n",
       "    <tr>\n",
       "      <th>2</th>\n",
       "      <td>03961724</td>\n",
       "      <td>0001</td>\n",
       "      <td>90</td>\n",
       "      <td>1</td>\n",
       "      <td>None</td>\n",
       "      <td>02</td>\n",
       "      <td>19010101</td>\n",
       "      <td>00</td>\n",
       "      <td>None</td>\n",
       "      <td>386</td>\n",
       "      <td>...</td>\n",
       "      <td>21</td>\n",
       "      <td>35341315</td>\n",
       "      <td>None</td>\n",
       "      <td>None</td>\n",
       "      <td>021</td>\n",
       "      <td>2626348</td>\n",
       "      <td>RIODEJANEIRO.AMMIN@ESTERI.IT</td>\n",
       "      <td>None</td>\n",
       "      <td>None</td>\n",
       "      <td>1901-01-01</td>\n",
       "    </tr>\n",
       "    <tr>\n",
       "      <th>3</th>\n",
       "      <td>89522064</td>\n",
       "      <td>0088</td>\n",
       "      <td>17</td>\n",
       "      <td>2</td>\n",
       "      <td>FORO DA COMARCA DE PASSO FUNDO</td>\n",
       "      <td>02</td>\n",
       "      <td>19010101</td>\n",
       "      <td>00</td>\n",
       "      <td>None</td>\n",
       "      <td>None</td>\n",
       "      <td>...</td>\n",
       "      <td>54</td>\n",
       "      <td>33115377</td>\n",
       "      <td>None</td>\n",
       "      <td>None</td>\n",
       "      <td>054</td>\n",
       "      <td>3114895</td>\n",
       "      <td>FRPASFUNDOJZDIR@TJ.RS.GOV.BR</td>\n",
       "      <td>None</td>\n",
       "      <td>None</td>\n",
       "      <td>1901-01-01</td>\n",
       "    </tr>\n",
       "    <tr>\n",
       "      <th>4</th>\n",
       "      <td>04041565</td>\n",
       "      <td>0001</td>\n",
       "      <td>78</td>\n",
       "      <td>1</td>\n",
       "      <td>CONSULADO GERAL DA ALEMANHA</td>\n",
       "      <td>02</td>\n",
       "      <td>19010101</td>\n",
       "      <td>00</td>\n",
       "      <td>None</td>\n",
       "      <td>023</td>\n",
       "      <td>...</td>\n",
       "      <td>81</td>\n",
       "      <td>34635350</td>\n",
       "      <td>None</td>\n",
       "      <td>None</td>\n",
       "      <td>81</td>\n",
       "      <td>34654084</td>\n",
       "      <td>info.recife@alemanha.org.br</td>\n",
       "      <td>None</td>\n",
       "      <td>None</td>\n",
       "      <td>1901-01-01</td>\n",
       "    </tr>\n",
       "    <tr>\n",
       "      <th>...</th>\n",
       "      <td>...</td>\n",
       "      <td>...</td>\n",
       "      <td>...</td>\n",
       "      <td>...</td>\n",
       "      <td>...</td>\n",
       "      <td>...</td>\n",
       "      <td>...</td>\n",
       "      <td>...</td>\n",
       "      <td>...</td>\n",
       "      <td>...</td>\n",
       "      <td>...</td>\n",
       "      <td>...</td>\n",
       "      <td>...</td>\n",
       "      <td>...</td>\n",
       "      <td>...</td>\n",
       "      <td>...</td>\n",
       "      <td>...</td>\n",
       "      <td>...</td>\n",
       "      <td>...</td>\n",
       "      <td>...</td>\n",
       "      <td>...</td>\n",
       "    </tr>\n",
       "    <tr>\n",
       "      <th>995</th>\n",
       "      <td>76495886</td>\n",
       "      <td>0006</td>\n",
       "      <td>68</td>\n",
       "      <td>2</td>\n",
       "      <td>None</td>\n",
       "      <td>08</td>\n",
       "      <td>19751103</td>\n",
       "      <td>01</td>\n",
       "      <td>None</td>\n",
       "      <td>None</td>\n",
       "      <td>...</td>\n",
       "      <td>None</td>\n",
       "      <td>None</td>\n",
       "      <td>None</td>\n",
       "      <td>None</td>\n",
       "      <td>None</td>\n",
       "      <td>None</td>\n",
       "      <td>None</td>\n",
       "      <td>None</td>\n",
       "      <td>None</td>\n",
       "      <td>1975-11-03</td>\n",
       "    </tr>\n",
       "    <tr>\n",
       "      <th>996</th>\n",
       "      <td>11119500</td>\n",
       "      <td>0001</td>\n",
       "      <td>63</td>\n",
       "      <td>1</td>\n",
       "      <td>MERCEARIA DO POVO</td>\n",
       "      <td>01</td>\n",
       "      <td>19751104</td>\n",
       "      <td>34</td>\n",
       "      <td>None</td>\n",
       "      <td>None</td>\n",
       "      <td>...</td>\n",
       "      <td>None</td>\n",
       "      <td>None</td>\n",
       "      <td>None</td>\n",
       "      <td>None</td>\n",
       "      <td>None</td>\n",
       "      <td>None</td>\n",
       "      <td>None</td>\n",
       "      <td>None</td>\n",
       "      <td>None</td>\n",
       "      <td>1975-11-04</td>\n",
       "    </tr>\n",
       "    <tr>\n",
       "      <th>997</th>\n",
       "      <td>12361986</td>\n",
       "      <td>0001</td>\n",
       "      <td>04</td>\n",
       "      <td>1</td>\n",
       "      <td>None</td>\n",
       "      <td>08</td>\n",
       "      <td>19751106</td>\n",
       "      <td>09</td>\n",
       "      <td>None</td>\n",
       "      <td>None</td>\n",
       "      <td>...</td>\n",
       "      <td>None</td>\n",
       "      <td>None</td>\n",
       "      <td>None</td>\n",
       "      <td>None</td>\n",
       "      <td>None</td>\n",
       "      <td>None</td>\n",
       "      <td>None</td>\n",
       "      <td>None</td>\n",
       "      <td>None</td>\n",
       "      <td>1975-11-06</td>\n",
       "    </tr>\n",
       "    <tr>\n",
       "      <th>998</th>\n",
       "      <td>13959507</td>\n",
       "      <td>0001</td>\n",
       "      <td>19</td>\n",
       "      <td>1</td>\n",
       "      <td>SAMAL</td>\n",
       "      <td>08</td>\n",
       "      <td>19751106</td>\n",
       "      <td>01</td>\n",
       "      <td>None</td>\n",
       "      <td>None</td>\n",
       "      <td>...</td>\n",
       "      <td>None</td>\n",
       "      <td>None</td>\n",
       "      <td>None</td>\n",
       "      <td>None</td>\n",
       "      <td>None</td>\n",
       "      <td>None</td>\n",
       "      <td>None</td>\n",
       "      <td>None</td>\n",
       "      <td>None</td>\n",
       "      <td>1975-11-06</td>\n",
       "    </tr>\n",
       "    <tr>\n",
       "      <th>999</th>\n",
       "      <td>34877547</td>\n",
       "      <td>0001</td>\n",
       "      <td>91</td>\n",
       "      <td>1</td>\n",
       "      <td>None</td>\n",
       "      <td>02</td>\n",
       "      <td>19751112</td>\n",
       "      <td>00</td>\n",
       "      <td>None</td>\n",
       "      <td>None</td>\n",
       "      <td>...</td>\n",
       "      <td>32</td>\n",
       "      <td>32171228</td>\n",
       "      <td>None</td>\n",
       "      <td>None</td>\n",
       "      <td>None</td>\n",
       "      <td>None</td>\n",
       "      <td>FERNANDO@PIRESMENDONCA.COM.BR</td>\n",
       "      <td>None</td>\n",
       "      <td>None</td>\n",
       "      <td>1975-11-12</td>\n",
       "    </tr>\n",
       "  </tbody>\n",
       "</table>\n",
       "<p>1000 rows × 31 columns</p>\n",
       "</div>"
      ],
      "text/plain": [
       "          _c0   _c1 _c2 _c3                             _c4 _c5       _c6 _c7  \\\n",
       "0    11461683  0001  09   1                            None  02  16010101  00   \n",
       "1    05487690  0001  79   1         CARTORIO JANIR SILVERIO  02  19010101  00   \n",
       "2    03961724  0001  90   1                            None  02  19010101  00   \n",
       "3    89522064  0088  17   2  FORO DA COMARCA DE PASSO FUNDO  02  19010101  00   \n",
       "4    04041565  0001  78   1     CONSULADO GERAL DA ALEMANHA  02  19010101  00   \n",
       "..        ...   ...  ..  ..                             ...  ..       ...  ..   \n",
       "995  76495886  0006  68   2                            None  08  19751103  01   \n",
       "996  11119500  0001  63   1               MERCEARIA DO POVO  01  19751104  34   \n",
       "997  12361986  0001  04   1                            None  08  19751106  09   \n",
       "998  13959507  0001  19   1                           SAMAL  08  19751106  01   \n",
       "999  34877547  0001  91   1                            None  02  19751112  00   \n",
       "\n",
       "      _c8   _c9  ...  _c21      _c22  _c23      _c24  _c25      _c26  \\\n",
       "0    None  None  ...    19  38730286    19  38730951    19  38730951   \n",
       "1    None  None  ...  None      None  None      None  None      None   \n",
       "2    None   386  ...    21  35341315  None      None   021   2626348   \n",
       "3    None  None  ...    54  33115377  None      None   054   3114895   \n",
       "4    None   023  ...    81  34635350  None      None    81  34654084   \n",
       "..    ...   ...  ...   ...       ...   ...       ...   ...       ...   \n",
       "995  None  None  ...  None      None  None      None  None      None   \n",
       "996  None  None  ...  None      None  None      None  None      None   \n",
       "997  None  None  ...  None      None  None      None  None      None   \n",
       "998  None  None  ...  None      None  None      None  None      None   \n",
       "999  None  None  ...    32  32171228  None      None  None      None   \n",
       "\n",
       "                              _c27  _c28  _c29        date  \n",
       "0                             None  None  None  1601-01-01  \n",
       "1                             None  None  None  1901-01-01  \n",
       "2     RIODEJANEIRO.AMMIN@ESTERI.IT  None  None  1901-01-01  \n",
       "3     FRPASFUNDOJZDIR@TJ.RS.GOV.BR  None  None  1901-01-01  \n",
       "4      info.recife@alemanha.org.br  None  None  1901-01-01  \n",
       "..                             ...   ...   ...         ...  \n",
       "995                           None  None  None  1975-11-03  \n",
       "996                           None  None  None  1975-11-04  \n",
       "997                           None  None  None  1975-11-06  \n",
       "998                           None  None  None  1975-11-06  \n",
       "999  FERNANDO@PIRESMENDONCA.COM.BR  None  None  1975-11-12  \n",
       "\n",
       "[1000 rows x 31 columns]"
      ]
     },
     "execution_count": 102,
     "metadata": {},
     "output_type": "execute_result"
    }
   ],
   "source": [
    "e_.toPandas()"
   ]
  },
  {
   "cell_type": "code",
   "execution_count": 95,
   "id": "69de9b38-38f1-4d42-9ad4-cf33ef7b80ed",
   "metadata": {},
   "outputs": [],
   "source": [
    "e = estabelecimentos_9.select(\"*\",F.to_date(F.col(\"_c6\"),\"yyyyMMdd\").alias(\"date\")).orderBy(F.col('date').asc()).limit(1000)"
   ]
  },
  {
   "cell_type": "code",
   "execution_count": null,
   "id": "b3f11d8d-5017-4976-950c-c3c06deb0bbb",
   "metadata": {},
   "outputs": [],
   "source": [
    "+--------+----+---+---+--------------------+---+--------+---+----+----+--------+-------+--------------------+-------+--------------------+----+-----------------+--------------------+--------+----+----+----+--------+----+----+----+----+--------------------+----+----+----------+\n",
    "|     _c0| _c1|_c2|_c3|                 _c4|_c5|     _c6|_c7| _c8| _c9|    _c10|   _c11|                _c12|   _c13|                _c14|_c15|             _c16|                _c17|    _c18|_c19|_c20|_c21|    _c22|_c23|_c24|_c25|_c26|                _c27|_c28|_c29|      date|\n",
    "+--------+----+---+---+--------------------+---+--------+---+----+----+--------+-------+--------------------+-------+--------------------+----+-----------------+--------------------+--------+----+----+----+--------+----+----+----+----+--------------------+----+----+----------+\n",
    "|47814394|0001| 85|  1|  LBB REPRESENTACOES| 08|20231014| 01|NULL|NULL|20220901|7319002|     5612100,8230001|    RUA|PROFESSOR ALGACYR...|1925|             NULL|   CIDADE INDUSTRIAL|81310020|  PR|7535|  41|91551025|NULL|NULL|NULL|NULL|LUANABUERGER@HOTM...|NULL|NULL|2023-10-14|\n",
    "|52427953|0001| 34|  1|NORTE ENERGIA SOL...| 08|20231014| 01|NULL|NULL|20231004|4321500|                NULL|10A RUA|   MANOELO DE GUSMAO| 123|           LOJA 1|           O CORIGAO|68632000|  PA|0623|  91|93674171|NULL|NULL|NULL|NULL|FATURAMENTOENERGI...|NULL|NULL|2023-10-14|\n",
    "|43574407|0001| 35|  1|        SERVOPA MANU| 08|20231014| 01|NULL|NULL|20210920|4530704|                NULL|    RUA|        JOSE GELBCKE| 190|             NULL|             UBERABA|81590380|  PR|7535|  41|99732877|NULL|NULL|NULL|NULL|SERVOPAMANU@OUTLO...|NULL|NULL|2023-10-14|\n",
    "|52523937|0001| 45|  1|             DJCONNI| 02|20231014| 00|NULL|NULL|20231014|9001906|             9700500|    RUA|            TAMANDUA|  54|           COND 3|                PIPA|59178000|  RN|1881|  21|75243086|NULL|NULL|NULL|NULL|CONSTANZA.MELICA@...|NULL|NULL|2023-10-14|\n",
    "|29426187|0001| 71|  1|            JMS GOOD| 08|20231014| 01|NULL|NULL|20180112|4399103|4744003,4755503,4...|    RUA|    JOSE MARIA CLARO| 640|      FUNDOS 44 B|   JARDIM DO CASTELO|08503200|  SP|6415|  11|42630680|NULL|NULL|NULL|NULL|jose.m.santos82@g...|NULL|NULL|2023-10-14|\n",
    "|52468348|0001| 01|  1|                NULL| 08|20231014| 01|NULL|NULL|20231009|4781400|                NULL|    RUA|  BOM JESUS DO MONTE| 166|             NULL|      JARDIM MARILIA|03579000|  SP|7107|  11|99999999|NULL|NULL|NULL|NULL|CONTADOR@JHCONTAB...|NULL|NULL|2023-10-14|\n",
    "|42585823|0001| 76|  1|       PORAO LANCHES| 08|20231014| 01|NULL|NULL|20210705|5611203|             5611204|    RUA|           JOSE ZAGO| 450|             NULL|          SAO MANOEL|95255000|  RS|6013|  54|84033992|NULL|NULL|NULL|NULL|ANGELA55355@GMAIL...|NULL|NULL|2023-10-14|\n",
    "|52049030|0001| 96|  1|                NULL| 08|20231014| 01|NULL|NULL|20230901|5912099|5819100,5813100,4...|    RUA|        MIGUEL COUTO|   0|LOTE 15;QUADRA 29|          SARACURUNA|25212435|  RJ|5833|  21|       0|NULL|NULL|NULL|NULL|ARAUJOANTONNY02@G...|NULL|NULL|2023-10-14|\n",
    "|35989336|0001| 03|  1|                NULL| 08|20231014| 01|NULL|NULL|20200114|8219999|                NULL|    RUA|VIRGILIO DA SILVA...| 442|          SALA 03|     SANTA TEREZINHA|13411083|  SP|6875|  19|33758565|NULL|NULL|NULL|NULL|IRIS@PRGARCIA.COM.BR|NULL|NULL|2023-10-14|\n",
    "|52523745|0001| 39|  1|     ALM INSTALADORA| 02|20231014| 00|NULL|NULL|20231014|4322302|                NULL|10A RUA|                902D| 413|             NULL|      ALTO SAO BENTO|88220000|  SC|8163|  47|96358807|NULL|NULL|NULL|NULL|XAANDE.LOPES20@GM...|NULL|NULL|2023-10-14|\n",
    "|42732732|0001| 16|  1|                NULL| 08|20231014| 01|NULL|NULL|20210715|9602501|                NULL|    RUA|         FREI CANECA| 878|             NULL|JARDIM CAMPOS ELI...|13060023|  SP|6291|  19|71052081|NULL|NULL|NULL|NULL|JULIANAALVES.90.J...|NULL|NULL|2023-10-14|\n",
    "|52523831|0001| 41|  1|    RESTAURANTE TAUA| 02|20231014| 00|NULL|NULL|20231014|5611201|                NULL|AVENIDA|        PIRES DO RIO|1354|             NULL|JARDIM SAO SEBASTIAO|08041000|  SP|7107|  11|67176767|NULL|NULL|NULL|NULL|REENZOEISIS@GMAIL...|NULL|NULL|2023-10-14|\n",
    "|34394349|0001| 77|  1|HAIN VIAGEM E TUR...| 08|20231014| 01|NULL|NULL|20190801|7911200|                NULL|AVENIDA|SEVERINO PEREIRA ...|1930| FUNDOS LT25 Q165|              CABUCU|26291401|  RJ|5869|  21|26677809|NULL|NULL|NULL|NULL|IRISYUMIRI17@GMAI...|NULL|NULL|2023-10-14|\n",
    "|52523840|0001| 32|  1|               SILAS| 02|20231014| 00|NULL|NULL|20231014|4930201|                NULL|    RUA|DEOCLECIO SOARES ...| 153|             NULL|      ARMANDO MENDES|69089235|  AM|0255|  92|88471725|NULL|NULL|NULL|NULL|MIRANDALOYANA@GMA...|NULL|NULL|2023-10-14|\n",
    "|31636336|0001| 79|  1|       FINANCEIRA MT| 08|20231014| 01|NULL|NULL|20180928|7319002|                NULL|    RUA|MARQUES DE MONTE ...|1166|             NULL|            PAULISTA|13401070|  SP|6875|  19|34325568|NULL|NULL|NULL|NULL|GEREVINI2019@GMAI...|NULL|NULL|2023-10-14|\n",
    "|51932006|0001| 38|  1|MILENIO SERVICOS ...| 08|20231014| 01|NULL|NULL|20230824|5320202|4789099,5620102,7...|    RUA|     EMERSON MARTINS| 100|             NULL|CONJUNTO HABITACI...|19100610|  SP|6929|  18|96384240|NULL|NULL|NULL|NULL|EMPREENDEDORMOTIV...|NULL|NULL|2023-10-14|\n",
    "|48475459|0001| 78|  1|       HRTRANSPORTES| 08|20231014| 01|NULL|NULL|20221101|4923001|     4929902,4929901|    RUA| RUA SIQUEIRA CAMPOS| 308|             CONJ|              CENTRO|55835000|  PE|2387|  81|73133267|NULL|NULL|NULL|NULL|HELTINHO.NET@GMAI...|NULL|NULL|2023-10-14|\n",
    "|52523851|0001| 12|  1|       POT CAKELICIA| 02|20231014| 00|NULL|NULL|20231014|5620104|     4723700,1091102|    RUA|    CAROLINA MACHADO|1740|          APT 401|       BENTO RIBEIRO|21555290|  RJ|6001|  21|81067667|NULL|NULL|NULL|NULL|ANFINHO@OUTLOOK.C...|NULL|NULL|2023-10-14|\n",
    "|44011554|0001| 60|  1|       NATALIA SMART| 08|20231014| 01|NULL|NULL|20211025|4713002|                NULL|AVENIDA|          SOUZA MELO|1084|          CONJ 16|             SARANDI|91120600|  RS|8801|  51|94113076|NULL|NULL|NULL|NULL|NATHALIAMEDIANEIR...|NULL|NULL|2023-10-14|\n",
    "|52523755|0001| 74|  1|        MINIFESTADAK| 02|20231014| 00|NULL|NULL|20231014|7721700|     7729202,7723300|12A RUA|RUA PEDRO FERREIR...|  15|             NULL|         VARZEA NOVA|58304500|  PB|2175|  83|87159549|NULL|NULL|NULL|NULL|KAROL-PAZ-AMOR@HO...|NULL|NULL|2023-10-14|\n",
    "+--------+----+---+---+--------------------+---+--------+---+----+----+--------+-------+--------------------+-------+--------------------+----+-----------------+--------------------+--------+----+----+----+--------+----+----+----+----+--------------------+----+----+----------+"
   ]
  },
  {
   "cell_type": "code",
   "execution_count": null,
   "id": "38bfb527-cbe2-4c7d-a876-ff9cf4d567c5",
   "metadata": {},
   "outputs": [],
   "source": [
    "+--------+----+---+---+--------------------+---+---+---+----+----+--------+-------+--------------------+--------+--------------------+----+--------------------+-----------------+--------+----+----+----+--------+----+--------+----+--------+--------------------+----+----+----+\n",
    "|     _c0| _c1|_c2|_c3|                 _c4|_c5|_c6|_c7| _c8| _c9|    _c10|   _c11|                _c12|    _c13|                _c14|_c15|                _c16|             _c17|    _c18|_c19|_c20|_c21|    _c22|_c23|    _c24|_c25|    _c26|                _c27|_c28|_c29|date|\n",
    "+--------+----+---+---+--------------------+---+---+---+----+----+--------+-------+--------------------+--------+--------------------+----+--------------------+-----------------+--------+----+----+----+--------+----+--------+----+--------+--------------------+----+----+----+\n",
    "|09019610|0001| 01|  1|       ACADEMIA JUMP| 02|  0| 00|NULL|NULL|20070823|9313100|             8650004|     RUA|        ALFREDO POPS| 152|                NULL|     JARDIM ICATU|18110275|  SP|7243|  15|32431031|NULL|    NULL|  15|32431031|NORIVAL@E31MARCO....|NULL|NULL|NULL|\n",
    "|06885879|0001| 82|  1|                NULL| 02|  0| 00|NULL|NULL|20040721|4711302|4617600,4723700,4...| AVENIDA|  JULIO DE CASTILHOS| 512|           SUBSL 001|           CENTRO|95330000|  RS|8959|  54|34416043|NULL|    NULL|NULL|    NULL|COMPRAS.ZECHIN@GM...|NULL|NULL|NULL|\n",
    "|11085761|0001| 00|  1|                NULL| 02|  0| 00|NULL|NULL|20080911|9499500|                NULL|     RUA|ESTEVAO ALVES CORREA|  SN|              TERREO|             ALTO|79200000|  MS|9021|  67|32411780|NULL|    NULL|  67|32411780|                NULL|NULL|NULL|NULL|\n",
    "|06886628|0001| 12|  1|MATERIAIS PARA CO...| 02|  0| 00|NULL|NULL|20040709|4744099|4744001,4743100,4...|     RUA|MINELVINO LIMA DE...|  SN|QUADRA: 18; LOTE:...|           CENTRO|77798000|  TO|0189|  63|34761150|NULL|    NULL|NULL|    NULL|MONTECARMELOPALME...|NULL|NULL|NULL|\n",
    "|03476811|0116| 09|  2|                NULL| 02|  0| 00|NULL|NULL|20030908|8599604|     4721102,7490104|     RUA|     TEODORO SAMPAIO| 599|      605        ...|        PINHEIROS|05405050|  SP|7107|  11|38868087|  11|38868000|  11|38868017|cintia.guerra@car...|NULL|NULL|NULL|\n",
    "|06885895|0001| 75|  1|RECOBRANCA ASSESS...| 02|  0| 00|NULL|NULL|20040730|8291100|                NULL| AVENIDA|      GETULIO VARGAS| 816|EDIF  FERNANDA   ...|           CENTRO|89120000|  SC|8357|  47|33824400|NULL|    NULL|  47|33821318|RECOBRANCA@RECOBR...|NULL|NULL|NULL|\n",
    "|11237497|0001| 82|  1|                NULL| 02|  0| 00|NULL|NULL|20090828|8121400|7820500,5620101,8...|     RUA|           GAMA ROSA| 104|EDIF  LUCIAN     ...|           CENTRO|29015100|  ES|5705|  27|32338657|  27|32338657|  27|32338657|volcati@volcatico...|NULL|NULL|NULL|\n",
    "|06885837|0001| 41|  1|   ITANI CONSULTORIA| 02|  0| 00|NULL|NULL|20040506|7020400|6201501,8599604,8...|     RUA|   MANOEL DA NOBREGA| 261|           APT   104|          PARAISO|04001081|  SP|7107|  11|39610000|NULL|    NULL|  11|39610000| ELZAITANI@GMAIL.COM|NULL|NULL|NULL|\n",
    "|04130531|0005| 83|  2|         ROSA MASTER| 02|  0| 00|NULL|NULL|20050510|9603304|7729203,9603301,9...|     RUA|PREF DR JOSE FRED...| 249|                NULL|           CENTRO|55890000|  PE|2313|  81|36313587|NULL|    NULL|  81|36314443|ALMIR.BENTO@ICOON...|NULL|NULL|NULL|\n",
    "|06885980|0001| 33|  1|                NULL| 02|  0| 00|NULL|NULL|20040707|4742300|                NULL|     RUA|     GODOFREDO VIANA|1159|                NULL|           CENTRO|65901480|  MA|0803|NULL|    NULL|NULL|    NULL|NULL|    NULL|                NULL|NULL|NULL|NULL|\n",
    "|11272232|0001| 15|  1|FUNDO MUNICIPAL D...| 02|  0| 00|NULL|NULL|19950914|8630502|             8630599|     RUA|       FREI LIBERATO| 249|              PREDIO|           CENTRO|89818000|  SC|5589|  49|33270066|  49|33270061|  49|33270066|contabilidade@nov...|NULL|NULL|NULL|\n",
    "|06885157|0001| 28|  1|                NULL| 02|  0| 00|NULL|NULL|20040714|4781400|                NULL|     RUA|         FREI CANECA| 569|    : SUC 338 A 341;|       CONSOLACAO|01307001|  SP|7107|  11|50525355|NULL|    NULL|  11|50525355|   NMALKI@UOL.COM.BR|NULL|NULL|NULL|\n",
    "|11022597|0015| 97|  2|PRONTO S.CARDIOLO...| 02|  0| 00|NULL|NULL|20020420|8610101|                NULL|     RUA|        DOS PALMARES| S/N|                NULL|      SANTO AMARO|50100060|  PE|2531|  81|34212878|NULL|    NULL|  81|34212129|                NULL|NULL|NULL|NULL|\n",
    "|04719825|0001| 11|  1|KOMURA & MIRANDA ...| 02|  0| 00|NULL|NULL|20011002|6920601|                NULL|     RUA|             NAVAJAS| 257|                NULL|           CENTRO|08710250|  SP|6713|  11|47991235|NULL|    NULL|  11|47991235|     MIRD@UOL.COM.BR|NULL|NULL|NULL|\n",
    "|11741026|0001| 07|  1|    BRANDAO PESCADOS| 02|  0| 00|NULL|NULL|20100323|4634603|                NULL|TRAVESSA|              PARANA|  59|            SALA  01|  AEROPORTO VELHO|68020100|  PA|0535|  93|91284392|NULL|    NULL|NULL|    NULL|NRBRANDAO@2022GMA...|NULL|NULL|NULL|\n",
    "|06886158|0001| 97|  1|                NULL| 02|  0| 00|NULL|NULL|20040705|4930202|                NULL|     RUA|       ANTONIO MANIA| 123|                NULL|    JARDIM ITAPUA|13225820|  SP|7233|  11|45957263|NULL|    NULL|NULL|    NULL|silmarinelli@gmai...|NULL|NULL|NULL|\n",
    "|10633615|0001| 09|  1|                NULL| 02|  0| 00|NULL|NULL|20090210|4120400|2330301,2790202,3...|     RUA|       TENENTE CRAVO| 633|                NULL|ALTO DA BOA VISTA|63900002|  CE|1527|  88|34121840|NULL|    NULL|  88|34121840|prescon.ce@uol.co...|NULL|NULL|NULL|\n",
    "|06885072|0001| 40|  1|                NULL| 02|  0| 00|NULL|NULL|20040730|8630503|             8630502|     RUA|    GENERAL GLICERIO| 889|                NULL|           CENTRO|15900045|  SP|7175|  16|32526629|NULL|    NULL|NULL|    NULL|FONSECA@FONSECACO...|NULL|NULL|NULL|\n",
    "|75717355|0010| 96|  2|   USACUCAR - RONDON| 02|  0| 00|NULL|NULL|20100630|1071600|1931400,5091202,0...| RODOVIA|        PR 492 KM 47| S/N|      USACUCAR RO...|       ZONA RURAL|87800000|  PR|7829|  44|32181954|  44|32181889|  44|32181918|MARIOSERGIO@USACU...|NULL|NULL|NULL|\n",
    "|06886190|0001| 72|  1|                NULL| 02|  0| 00|NULL|NULL|20040707|7490103|                NULL|     RUA|   VISCONDE DE MAUA,| 288|                NULL|   VILA MUNICIPAL|13201260|  SP|6619|  11|72939000|NULL|    NULL|NULL|    NULL|   TNNDVET@GMAIL.COM|NULL|NULL|NULL|\n",
    "+--------+----+---+---+--------------------+---+---+---+----+----+--------+-------+--------------------+--------+--------------------+----+--------------------+-----------------+--------+----+----+----+--------+----+--------+----+--------+--------------------+----+----+----+"
   ]
  },
  {
   "cell_type": "code",
   "execution_count": null,
   "id": "1940be99-cea7-409a-905f-3e129827aa03",
   "metadata": {},
   "outputs": [],
   "source": [
    "+--------+----+---+---+--------------------+---+--------+---+----+----+--------+-------+-------+-------+--------------------+----+--------------------+---------------+--------+----+----+----+--------+----+--------+----+--------+--------------------+----+----+----------+\n",
    "|     _c0| _c1|_c2|_c3|                 _c4|_c5|     _c6|_c7| _c8| _c9|    _c10|   _c11|   _c12|   _c13|                _c14|_c15|                _c16|           _c17|    _c18|_c19|_c20|_c21|    _c22|_c23|    _c24|_c25|    _c26|                _c27|_c28|_c29|      date|\n",
    "+--------+----+---+---+--------------------+---+--------+---+----+----+--------+-------+-------+-------+--------------------+----+--------------------+---------------+--------+----+----+----+--------+----+--------+----+--------+--------------------+----+----+----------+\n",
    "|11461683|0001| 09|  1|                NULL| 02|16010101| 00|NULL|NULL|16010101|0133402|0119906|ESTRADA|TAQUARA BRANCA KM...| 1-F|CASA  ASSENTAEMEN...|HORTO FLORESTAL|13170036|  SP|7149|  19|38730286|  19|38730951|  19|38730951|                NULL|NULL|NULL|1601-01-01|\n",
    "|05487690|0001| 79|  1|CARTORIO JANIR SI...| 02|19010101| 00|NULL|NULL|19010101|6912500|   NULL|    RUA|   JOAQUIM FERNANDES|  65|                NULL|         CENTRO|38140000|  MG|5055|NULL|    NULL|NULL|    NULL|NULL|    NULL|                NULL|NULL|NULL|1901-01-01|\n",
    "|89522064|0088| 17|  2|FORO DA COMARCA D...| 02|19010101| 00|NULL|NULL|19010101|8411600|   NULL|AVENIDA|       GENERAL NETTO| 486|                NULL|         CENTRO|99010022|  RS|8785|  54|33115377|NULL|    NULL| 054| 3114895|FRPASFUNDOJZDIR@T...|NULL|NULL|1901-01-01|\n",
    "|03961724|0001| 90|  1|                NULL| 02|19010101| 00|NULL| 386|19010101|9900800|   NULL|AVENIDA|PRESIDENTE ANTONI...|  40|             7 ANDAR|        CASTELO|20020010|  RJ|6001|  21|35341315|NULL|    NULL| 021| 2626348|RIODEJANEIRO.AMMI...|NULL|NULL|1901-01-01|\n",
    "|89522064|0105| 52|  2|FORO DA COMARCA D...| 02|19010101| 00|NULL|NULL|19010101|8411600|   NULL|AVENIDA|        ANTONIO DURO| 260|                NULL|         CENTRO|96180000|  RS|8569|  51|36714434|  51|36719160|NULL|    NULL|FRCAMAQUAJZDIR@TJ...|NULL|NULL|1901-01-01|\n",
    "|10524665|0001| 58|  1|MARIA DO SOCORRO ...| 02|19010101| 00|NULL|NULL|19010101|6912500|   NULL|    RUA|        DOM PEDRO II| 138|                NULL|         CENTRO|56460000|  PE|2519|  87|38511582|NULL|    NULL|NULL|    NULL|                NULL|NULL|NULL|1901-01-01|\n",
    "|89522064|0107| 14|  2|FORO DA COMARCA D...| 02|19010101| 00|NULL|NULL|19010101|8411600|   NULL|    RUA|    BARAO DO TRIUNFO| 450|                NULL|         CENTRO|97573634|  RS|8845|  55|32423575|NULL|    NULL|NULL|    NULL|FRSANTLIVRJZDIR@T...|NULL|NULL|1901-01-01|\n",
    "|04041565|0001| 78|  1|CONSULADO GERAL D...| 02|19010101| 00|NULL| 023|19010101|9900800|   NULL|    RUA|ANTONIO LUMACK DO...| 128|            16 ANDAR|     BOA VIAGEM|51020350|  PE|2531|  81|34635350|NULL|    NULL|  81|34654084|info.recife@alema...|NULL|NULL|1901-01-01|\n",
    "|07581857|0001| 91|  1|CARTORIO DE REGIS...| 02|19010101| 00|NULL|NULL|19010101|6912500|   NULL|    RUA|        SILVIO ROMEU|  25|           SALA: 02;|          RAMOS|36570001|  MG|5427|  31|38916152|  31|38925657|  31|38916152|MASILVACONTABILID...|NULL|NULL|1901-01-01|\n",
    "|07734995|0001| 63|  1|SERVIO REGISTRAL ...| 02|19010101| 00|NULL|NULL|19010101|6912500|   NULL|    RUA|  DR OLINTO DE ABREU| 181|                  CX|         CENTRO|35365000|  MG|4005|  31|38722036|NULL|    NULL|  31|38722036|santana@maxbr.com.br|NULL|NULL|1901-01-01|\n",
    "|05198472|0001| 14|  1|                NULL| 02|19010102| 00|NULL|NULL|19010102|8411600|   NULL|  PRACA| DOUTOR OZI TEIXEIRA| 118|                CASA|         CENTRO|96610000|  RS|8635|  51|37331179|NULL|    NULL|  51|37333639|                NULL|NULL|NULL|1901-01-02|\n",
    "|27112678|0001| 12|  1|  CARTORIO DE NAZARE| 02|19010201| 00|NULL|NULL|19010201|6912500|   NULL|AVENIDA|      JOANA ANGELICA| 192|             SUBSL 1|         NAZARE|40050000|  BA|3849|  71|91819069|NULL|    NULL|NULL|    NULL|CARTORIODENAZARE@...|NULL|NULL|1901-02-01|\n",
    "|06273222|0001| 64|  1|CARTORIO GUILHERM...| 02|19010307| 00|NULL|NULL|19010307|6912500|9609299|    RUA|PROFESSOR FREDERI...| 189|         LOJA  A E B|         CENTRO|12600260|  SP|6645|  12|31534896|NULL|    NULL|NULL|    NULL|                NULL|NULL|NULL|1901-03-07|\n",
    "|09224913|0001| 66|  1|                NULL| 02|19031009| 00|NULL|NULL|19031009|6912500|   NULL|    RUA| LUIS TEIXEIRA COSTA|  91|             LOJA  A|         CENTRO|57770000|  AL|2725|  82|32841888|  82|99977681|  82|32841888|REGISTROCIVILCAJU...|NULL|NULL|1903-10-09|\n",
    "|09912638|0001| 73|  1|CARTORIO DO REGIS...| 02|19050102| 00|NULL|NULL|19050102|6912500|   NULL|  PRA�A|CAPITAO ANTONIO M...| S N|                NULL|         CENTRO|77590000|  TO|9553|  63|33781151|NULL|    NULL|NULL|    NULL|vvvv_vino@yahoo.c...|NULL|NULL|1905-01-02|\n",
    "|09262937|0001| 00|  1|SERVICOS REGISTRA...| 02|19050822| 00|NULL|NULL|19050822|6912500|   NULL| 3A RUA|         DO COMERCIO| 128|                NULL|         CENTRO|57620000|  AL|2761|  82|34231207|  82|34231228|NULL|    NULL|                NULL|NULL|NULL|1905-08-22|\n",
    "|05776411|0001| 97|  1|CONSULADO DEL URU...| 02|19140101| 00|NULL| 845|19140101|9900800|   NULL|AVENIDA|   CRISTOVAO COLOMBO|2999|                NULL|   HIGIENOPOLIS|90560005|  RS|8801| 051|33256198|NULL|    NULL| 051|33256198|cdodistritopoa@te...|NULL|NULL|1914-01-01|\n",
    "|46454491|0001| 41|  1|                NULL| 02|19220330| 00|NULL|NULL|19220330|9491000|   NULL| QUADRA|      QUADRA 13 LOTE|03-A|                NULL|VILA PARAISO II|72900700|  GO|9677|  61|99210045|NULL|    NULL|NULL|    NULL|PAULOTEC.CONTABIL...|NULL|NULL|1922-03-30|\n",
    "|10497099|0001| 32|  1|CARTORIO MURILO M...| 02|19280326| 00|NULL|NULL|19280326|6912500|   NULL|    RUA| PADRE FELIX BARRETO|  78|             ANDAR 1|         CENTRO|55460000|  PE|2399|  81|37381139|NULL|    NULL|NULL|    NULL|                NULL|NULL|NULL|1928-03-26|\n",
    "|10234215|0001| 20|  1|                NULL| 02|19290718| 00|NULL|NULL|19290718|6912500|   NULL|    RUA|       SAO FRANCISCO| 138|                NULL|         CENTRO|56565000|  PE|0554|  87|38401131|NULL|    NULL|NULL|    NULL|                NULL|NULL|NULL|1929-07-18|\n",
    "+--------+----+---+---+--------------------+---+--------+---+----+----+--------+-------+-------+-------+--------------------+----+--------------------+---------------+--------+----+----+----+--------+----+--------+----+--------+--------------------+----+----+----------+"
   ]
  },
  {
   "cell_type": "code",
   "execution_count": 103,
   "id": "e9daffd5-496a-4f5c-910a-d52057552401",
   "metadata": {},
   "outputs": [
    {
     "name": "stderr",
     "output_type": "stream",
     "text": [
      "[Stage 65:==============>                                           (1 + 3) / 4]\r"
     ]
    },
    {
     "name": "stdout",
     "output_type": "stream",
     "text": [
      "+--------+----+---+---+--------------+---+--------+---+----+----+--------+-------+--------------------+------+--------------------+----+--------------------+--------------+--------+----+----+----+--------+----+----+----+----+--------------------+----+----+\n",
      "|     _c0| _c1|_c2|_c3|           _c4|_c5|     _c6|_c7| _c8| _c9|    _c10|   _c11|                _c12|  _c13|                _c14|_c15|                _c16|          _c17|    _c18|_c19|_c20|_c21|    _c22|_c23|_c24|_c25|_c26|                _c27|_c28|_c29|\n",
      "+--------+----+---+---+--------------+---+--------+---+----+----+--------+-------+--------------------+------+--------------------+----+--------------------+--------------+--------+----+----+----+--------+----+----+----+----+--------------------+----+----+\n",
      "|07047183|0002| 20|  2|IPQ TECNOLOGIA| 02|20160601| 00|NULL|NULL|20160601|6209100|3312102,4321500,4...|QUADRA|SHC/SW QRSW 04, L...| S/N|      3 PAVIMENTO...|SETOR SUDOESTE|70675400|  DF|9701|  71|21045400|NULL|NULL|NULL|NULL|DOCLEGAIS@ORGANIZ...|NULL|NULL|\n",
      "+--------+----+---+---+--------------+---+--------+---+----+----+--------+-------+--------------------+------+--------------------+----+--------------------+--------------+--------+----+----+----+--------+----+----+----+----+--------------------+----+----+\n",
      "\n"
     ]
    },
    {
     "name": "stderr",
     "output_type": "stream",
     "text": [
      "                                                                                \r"
     ]
    }
   ],
   "source": [
    "estabelecimentos_9.filter(F.col('_c0') == '07047183').show()"
   ]
  },
  {
   "cell_type": "code",
   "execution_count": null,
   "id": "dc797361-72f5-494e-b051-e839f0e342b8",
   "metadata": {},
   "outputs": [],
   "source": [
    "+--------+----+---+---+--------------+---+--------+---+----+----+--------+-------+--------------------+------+--------------------+----+--------------------+--------------+--------+----+----+----+--------+----+----+----+----+--------------------+----+----+\n",
    "|     _c0| _c1|_c2|_c3|           _c4|_c5|     _c6|_c7| _c8| _c9|    _c10|   _c11|                _c12|  _c13|                _c14|_c15|                _c16|          _c17|    _c18|_c19|_c20|_c21|    _c22|_c23|_c24|_c25|_c26|                _c27|_c28|_c29|\n",
    "+--------+----+---+---+--------------+---+--------+---+----+----+--------+-------+--------------------+------+--------------------+----+--------------------+--------------+--------+----+----+----+--------+----+----+----+----+--------------------+----+----+\n",
    "|07047183|0002| 20|  2|IPQ TECNOLOGIA| 02|20160601| 00|NULL|NULL|20160601|6209100|3312102,4321500,4...|QUADRA|SHC/SW QRSW 04, L...| S/N|      3 PAVIMENTO...|SETOR SUDOESTE|70675400|  DF|9701|  71|21045400|NULL|NULL|NULL|NULL|DOCLEGAIS@ORGANIZ...|NULL|NULL|\n",
    "+--------+----+---+---+--------------+---+--------+---+----+----+--------+-------+--------------------+------+--------------------+----+--------------------+--------------+--------+----+----+----+--------+----+----+----+----+--------------------+----+----+\n"
   ]
  },
  {
   "cell_type": "code",
   "execution_count": 104,
   "id": "41bb6622-a835-494c-8d15-2eb4f6018167",
   "metadata": {},
   "outputs": [],
   "source": [
    "estab_8 = spark.read.csv('estabelecimentos_8/K3241.K03200Y8.D31014.ESTABELE', sep=';')"
   ]
  },
  {
   "cell_type": "code",
   "execution_count": 105,
   "id": "02ad33c8-27b2-4bba-b6a5-f146e7385f3c",
   "metadata": {},
   "outputs": [
    {
     "name": "stderr",
     "output_type": "stream",
     "text": [
      "[Stage 69:===========================================>              (3 + 1) / 4]\r"
     ]
    },
    {
     "name": "stdout",
     "output_type": "stream",
     "text": [
      "+--------+----+---+---+--------------+---+--------+---+----+----+--------+-------+--------------------+-------+--------------------+-----+----+-------------------+--------+----+----+----+--------+----+----+----+----+--------------------+----+----+\n",
      "|     _c0| _c1|_c2|_c3|           _c4|_c5|     _c6|_c7| _c8| _c9|    _c10|   _c11|                _c12|   _c13|                _c14| _c15|_c16|               _c17|    _c18|_c19|_c20|_c21|    _c22|_c23|_c24|_c25|_c26|                _c27|_c28|_c29|\n",
      "+--------+----+---+---+--------------+---+--------+---+----+----+--------+-------+--------------------+-------+--------------------+-----+----+-------------------+--------+----+----+----+--------+----+----+----+----+--------------------+----+----+\n",
      "|07047183|0005| 73|  2|IPQ TECNOLOGIA| 02|20230607| 00|NULL|NULL|20230607|6209100|3312102,4321500,6...|RODOVIA|DOUTOR MENDEL STE...|13561|NULL|JARDIM BANDEIRANTES|61934000|  CE|1585|  71|33403200|NULL|NULL|NULL|NULL|FISCAL@ORGANIZACA...|NULL|NULL|\n",
      "+--------+----+---+---+--------------+---+--------+---+----+----+--------+-------+--------------------+-------+--------------------+-----+----+-------------------+--------+----+----+----+--------+----+----+----+----+--------------------+----+----+\n",
      "\n"
     ]
    },
    {
     "name": "stderr",
     "output_type": "stream",
     "text": [
      "                                                                                \r"
     ]
    }
   ],
   "source": [
    "estab_8.filter(F.col('_c0') == '07047183').show()"
   ]
  },
  {
   "cell_type": "code",
   "execution_count": null,
   "id": "1a359f5a-0b0c-43f3-8c64-e77da405d0db",
   "metadata": {},
   "outputs": [],
   "source": [
    "+--------+----+---+---+--------------+---+--------+---+----+----+--------+-------+--------------------+-------+--------------------+-----+----+-------------------+--------+----+----+----+--------+----+----+----+----+--------------------+----+----+\n",
    "|     _c0| _c1|_c2|_c3|           _c4|_c5|     _c6|_c7| _c8| _c9|    _c10|   _c11|                _c12|   _c13|                _c14| _c15|_c16|               _c17|    _c18|_c19|_c20|_c21|    _c22|_c23|_c24|_c25|_c26|                _c27|_c28|_c29|\n",
    "+--------+----+---+---+--------------+---+--------+---+----+----+--------+-------+--------------------+-------+--------------------+-----+----+-------------------+--------+----+----+----+--------+----+----+----+----+--------------------+----+----+\n",
    "|07047183|0005| 73|  2|IPQ TECNOLOGIA| 02|20230607| 00|NULL|NULL|20230607|6209100|3312102,4321500,6...|RODOVIA|DOUTOR MENDEL STE...|13561|NULL|JARDIM BANDEIRANTES|61934000|  CE|1585|  71|33403200|NULL|NULL|NULL|NULL|FISCAL@ORGANIZACA...|NULL|NULL|\n",
    "+--------+----+---+---+--------------+---+--------+---+----+----+--------+-------+--------------------+-------+--------------------+-----+----+-------------------+--------+----+----+----+--------+----+----+----+----+--------------------+----+----+"
   ]
  },
  {
   "cell_type": "code",
   "execution_count": 106,
   "id": "1170abfb-ca7d-4ee7-bf75-64d7ce50ab02",
   "metadata": {},
   "outputs": [
    {
     "name": "stderr",
     "output_type": "stream",
     "text": [
      "[Stage 72:==============>                                           (1 + 3) / 4]\r"
     ]
    },
    {
     "name": "stdout",
     "output_type": "stream",
     "text": [
      "+--------+----+---+---+----+---+--------+---+----+----+--------+-------+-------+-------+--------------------+----+--------------------+---------------+--------+----+----+----+--------+----+--------+----+--------+----+----+----+\n",
      "|     _c0| _c1|_c2|_c3| _c4|_c5|     _c6|_c7| _c8| _c9|    _c10|   _c11|   _c12|   _c13|                _c14|_c15|                _c16|           _c17|    _c18|_c19|_c20|_c21|    _c22|_c23|    _c24|_c25|    _c26|_c27|_c28|_c29|\n",
      "+--------+----+---+---+----+---+--------+---+----+----+--------+-------+-------+-------+--------------------+----+--------------------+---------------+--------+----+----+----+--------+----+--------+----+--------+----+----+----+\n",
      "|11461683|0001| 09|  1|NULL| 02|16010101| 00|NULL|NULL|16010101|0133402|0119906|ESTRADA|TAQUARA BRANCA KM...| 1-F|CASA  ASSENTAEMEN...|HORTO FLORESTAL|13170036|  SP|7149|  19|38730286|  19|38730951|  19|38730951|NULL|NULL|NULL|\n",
      "+--------+----+---+---+----+---+--------+---+----+----+--------+-------+-------+-------+--------------------+----+--------------------+---------------+--------+----+----+----+--------+----+--------+----+--------+----+----+----+\n",
      "\n"
     ]
    },
    {
     "name": "stderr",
     "output_type": "stream",
     "text": [
      "                                                                                \r"
     ]
    }
   ],
   "source": [
    "estabelecimentos_9.filter(F.col('_c0') == '11461683').show()"
   ]
  },
  {
   "cell_type": "code",
   "execution_count": null,
   "id": "3a92fc37-c83b-4ad1-895b-d7d246c40d9f",
   "metadata": {},
   "outputs": [],
   "source": [
    "+--------+----+---+---+----+---+--------+---+----+----+--------+-------+-------+-------+--------------------+----+--------------------+---------------+--------+----+----+----+--------+----+--------+----+--------+----+----+----+\n",
    "|     _c0| _c1|_c2|_c3| _c4|_c5|     _c6|_c7| _c8| _c9|    _c10|   _c11|   _c12|   _c13|                _c14|_c15|                _c16|           _c17|    _c18|_c19|_c20|_c21|    _c22|_c23|    _c24|_c25|    _c26|_c27|_c28|_c29|\n",
    "+--------+----+---+---+----+---+--------+---+----+----+--------+-------+-------+-------+--------------------+----+--------------------+---------------+--------+----+----+----+--------+----+--------+----+--------+----+----+----+\n",
    "|11461683|0001| 09|  1|NULL| 02|16010101| 00|NULL|NULL|16010101|0133402|0119906|ESTRADA|TAQUARA BRANCA KM...| 1-F|CASA  ASSENTAEMEN...|HORTO FLORESTAL|13170036|  SP|7149|  19|38730286|  19|38730951|  19|38730951|NULL|NULL|NULL|\n",
    "+--------+----+---+---+----+---+--------+---+----+----+--------+-------+-------+-------+--------------------+----+--------------------+---------------+--------+----+----+----+--------+----+--------+----+--------+----+----+----+"
   ]
  },
  {
   "cell_type": "code",
   "execution_count": 107,
   "id": "67d849fe-6440-41bb-a5cf-566db286a938",
   "metadata": {},
   "outputs": [
    {
     "name": "stderr",
     "output_type": "stream",
     "text": [
      "[Stage 75:===========================================>              (3 + 1) / 4]\r"
     ]
    },
    {
     "name": "stdout",
     "output_type": "stream",
     "text": [
      "+---+---+---+---+---+---+---+---+---+---+----+----+----+----+----+----+----+----+----+----+----+----+----+----+----+----+----+----+----+----+\n",
      "|_c0|_c1|_c2|_c3|_c4|_c5|_c6|_c7|_c8|_c9|_c10|_c11|_c12|_c13|_c14|_c15|_c16|_c17|_c18|_c19|_c20|_c21|_c22|_c23|_c24|_c25|_c26|_c27|_c28|_c29|\n",
      "+---+---+---+---+---+---+---+---+---+---+----+----+----+----+----+----+----+----+----+----+----+----+----+----+----+----+----+----+----+----+\n",
      "+---+---+---+---+---+---+---+---+---+---+----+----+----+----+----+----+----+----+----+----+----+----+----+----+----+----+----+----+----+----+\n",
      "\n"
     ]
    },
    {
     "name": "stderr",
     "output_type": "stream",
     "text": [
      "                                                                                \r"
     ]
    }
   ],
   "source": [
    "estab_8.filter(F.col('_c0') == '11461683').show()"
   ]
  },
  {
   "cell_type": "code",
   "execution_count": 2,
   "id": "fd3ab9a0-f91b-4bc7-90c0-e24e40c113b4",
   "metadata": {},
   "outputs": [
    {
     "name": "stdout",
     "output_type": "stream",
     "text": [
      "PRE LEITURA\n"
     ]
    },
    {
     "name": "stderr",
     "output_type": "stream",
     "text": [
      "/tmp/ipykernel_535449/2280953596.py:24: DtypeWarning: Columns (22,24,26) have mixed types. Specify dtype option on import or set low_memory=False.\n",
      "  for  chunk in pd.read_csv(filename, sep= ';', header=None, encoding='latin1', chunksize=chunksize):\n"
     ]
    },
    {
     "name": "stdout",
     "output_type": "stream",
     "text": [
      "0                                   4752100,4757100,9511800\n",
      "1         6619302,6619399,4755501,4755502,4755503,476100...\n",
      "2                                                       NaN\n",
      "3                                   7319002,9602501,9602502\n",
      "4                                                       NaN\n",
      "                                ...                        \n",
      "102395                              4744004,4330404,4744099\n",
      "102396                                                  NaN\n",
      "102397    2823200,2869100,3314706,3314719,3321000,439910...\n",
      "102398                                      4619200,4643501\n",
      "102399                                                  NaN\n",
      "Name: CNAE_SECUNDARIA, Length: 102400, dtype: object\n"
     ]
    },
    {
     "name": "stderr",
     "output_type": "stream",
     "text": [
      "/tmp/ipykernel_535449/2280953596.py:24: DtypeWarning: Columns (26) have mixed types. Specify dtype option on import or set low_memory=False.\n",
      "  for  chunk in pd.read_csv(filename, sep= ';', header=None, encoding='latin1', chunksize=chunksize):\n"
     ]
    },
    {
     "name": "stdout",
     "output_type": "stream",
     "text": [
      "102400                                                  NaN\n",
      "102401                                                  NaN\n",
      "102402                                      6920602,8599604\n",
      "102403                                      4743100,4744001\n",
      "102404    2542000,2512800,2521700,2599399,2449199,331120...\n",
      "                                ...                        \n",
      "204795                                              4789001\n",
      "204796                                                  NaN\n",
      "204797                      8599699,1813001,7319002,4761001\n",
      "204798                                                  NaN\n",
      "204799      4759801,4782201,4782202,4789001,4789003,4789099\n",
      "Name: CNAE_SECUNDARIA, Length: 102400, dtype: object\n"
     ]
    },
    {
     "name": "stderr",
     "output_type": "stream",
     "text": [
      "/tmp/ipykernel_535449/2280953596.py:24: DtypeWarning: Columns (22,24,26) have mixed types. Specify dtype option on import or set low_memory=False.\n",
      "  for  chunk in pd.read_csv(filename, sep= ';', header=None, encoding='latin1', chunksize=chunksize):\n"
     ]
    },
    {
     "name": "stdout",
     "output_type": "stream",
     "text": [
      "204800                                                  NaN\n",
      "204801    4751201,4321500,6190699,4752100,9511800,432230...\n",
      "204802                                              4781400\n",
      "204803                                                  NaN\n",
      "204804                                              9602502\n",
      "                                ...                        \n",
      "307195                                                  NaN\n",
      "307196                                                  NaN\n",
      "307197              4729699,1053800,4637106,4649499,4665600\n",
      "307198                                              6462000\n",
      "307199    4399103,4399105,4789005,4313400,4761003,475120...\n",
      "Name: CNAE_SECUNDARIA, Length: 102400, dtype: object\n"
     ]
    },
    {
     "name": "stderr",
     "output_type": "stream",
     "text": [
      "/tmp/ipykernel_535449/2280953596.py:24: DtypeWarning: Columns (8,22,24,26) have mixed types. Specify dtype option on import or set low_memory=False.\n",
      "  for  chunk in pd.read_csv(filename, sep= ';', header=None, encoding='latin1', chunksize=chunksize):\n"
     ]
    },
    {
     "name": "stdout",
     "output_type": "stream",
     "text": [
      "307200                NaN\n",
      "307201                NaN\n",
      "307202                NaN\n",
      "307203                NaN\n",
      "307204                NaN\n",
      "               ...       \n",
      "409595                NaN\n",
      "409596                NaN\n",
      "409597            7420003\n",
      "409598                NaN\n",
      "409599    4637107,4723700\n",
      "Name: CNAE_SECUNDARIA, Length: 102400, dtype: object\n"
     ]
    },
    {
     "name": "stderr",
     "output_type": "stream",
     "text": [
      "/tmp/ipykernel_535449/2280953596.py:24: DtypeWarning: Columns (8,22,26) have mixed types. Specify dtype option on import or set low_memory=False.\n",
      "  for  chunk in pd.read_csv(filename, sep= ';', header=None, encoding='latin1', chunksize=chunksize):\n"
     ]
    },
    {
     "name": "stdout",
     "output_type": "stream",
     "text": [
      "409600                                        NaN\n",
      "409601                            4721104,4755502\n",
      "409602                            4763602,4789099\n",
      "409603                                        NaN\n",
      "409604                                    6821802\n",
      "                           ...                   \n",
      "511995                                    4723700\n",
      "511996                                        NaN\n",
      "511997                                        NaN\n",
      "511998                                    5620104\n",
      "511999    8630501,8630502,8630503,8630599,8640299\n",
      "Name: CNAE_SECUNDARIA, Length: 102400, dtype: object\n"
     ]
    },
    {
     "name": "stderr",
     "output_type": "stream",
     "text": [
      "/tmp/ipykernel_535449/2280953596.py:24: DtypeWarning: Columns (22,26) have mixed types. Specify dtype option on import or set low_memory=False.\n",
      "  for  chunk in pd.read_csv(filename, sep= ';', header=None, encoding='latin1', chunksize=chunksize):\n"
     ]
    },
    {
     "name": "stdout",
     "output_type": "stream",
     "text": [
      "512000                                                  NaN\n",
      "512001                                                  NaN\n",
      "512002                      9001902,8592999,8592903,8230001\n",
      "512003              4755503,4789001,4713002,4759899,4772500\n",
      "512004              9511800,8599603,6190699,8299707,4789007\n",
      "                                ...                        \n",
      "614395                              8291100,5320202,4929901\n",
      "614396    4755503,4755502,4789001,4789099,4782201,329909...\n",
      "614397                                                  NaN\n",
      "614398    1096100,5620104,4721103,4723700,7319002,478900...\n",
      "614399                                              5612100\n",
      "Name: CNAE_SECUNDARIA, Length: 102400, dtype: object\n"
     ]
    },
    {
     "name": "stderr",
     "output_type": "stream",
     "text": [
      "/tmp/ipykernel_535449/2280953596.py:24: DtypeWarning: Columns (26) have mixed types. Specify dtype option on import or set low_memory=False.\n",
      "  for  chunk in pd.read_csv(filename, sep= ';', header=None, encoding='latin1', chunksize=chunksize):\n"
     ]
    },
    {
     "name": "stdout",
     "output_type": "stream",
     "text": [
      "614400    9511800,4712100,6190699,9329804,7721700,472110...\n",
      "614401                      4755503,4755502,4789099,4782201\n",
      "614402                                      1412601,4781400\n",
      "614403                                              3329501\n",
      "614404                                                  NaN\n",
      "                                ...                        \n",
      "716795                                              9602502\n",
      "716796                                      4751202,4751201\n",
      "716797    1812100,1822999,6190601,6190602,6201501,620230...\n",
      "716798                                                  NaN\n",
      "716799                                      7490104,9521500\n",
      "Name: CNAE_SECUNDARIA, Length: 102400, dtype: object\n"
     ]
    },
    {
     "name": "stderr",
     "output_type": "stream",
     "text": [
      "/tmp/ipykernel_535449/2280953596.py:24: DtypeWarning: Columns (22,26) have mixed types. Specify dtype option on import or set low_memory=False.\n",
      "  for  chunk in pd.read_csv(filename, sep= ';', header=None, encoding='latin1', chunksize=chunksize):\n"
     ]
    },
    {
     "name": "stdout",
     "output_type": "stream",
     "text": [
      "716800                                                  NaN\n",
      "716801                                      4923002,7990200\n",
      "716802    7420004,5912099,6190699,4751201,8219901,432150...\n",
      "716803                                      4754701,4785799\n",
      "716804                                      8211300,8291100\n",
      "                                ...                        \n",
      "819195                              0161002,0161003,4623199\n",
      "819196                                              5611201\n",
      "819197                                              3101200\n",
      "819198                                      4930201,4930204\n",
      "819199                                              4782201\n",
      "Name: CNAE_SECUNDARIA, Length: 102400, dtype: object\n"
     ]
    },
    {
     "name": "stderr",
     "output_type": "stream",
     "text": [
      "/tmp/ipykernel_535449/2280953596.py:24: DtypeWarning: Columns (22,24,26) have mixed types. Specify dtype option on import or set low_memory=False.\n",
      "  for  chunk in pd.read_csv(filename, sep= ';', header=None, encoding='latin1', chunksize=chunksize):\n"
     ]
    },
    {
     "name": "stdout",
     "output_type": "stream",
     "text": [
      "819200                        NaN\n",
      "819201                    8630599\n",
      "819202                        NaN\n",
      "819203                        NaN\n",
      "819204            4781400,4712100\n",
      "                   ...           \n",
      "921595                        NaN\n",
      "921596                        NaN\n",
      "921597                        NaN\n",
      "921598            4930201,4923001\n",
      "921599    1749400,1629301,2229399\n",
      "Name: CNAE_SECUNDARIA, Length: 102400, dtype: object\n",
      "921600                                                   NaN\n",
      "921601                               4752100,4759899,4751201\n",
      "921602                                                   NaN\n",
      "921603                                                   NaN\n",
      "921604       9511800,8230001,5812302,7319002,5912099,5813100\n",
      "                                 ...                        \n",
      "1023995                                      4755503,3299099\n",
      "1023996                                                  NaN\n",
      "1023997    4221904,4221905,4321500,4713004,4713002,475120...\n",
      "1023998                                                  NaN\n",
      "1023999                      4763602,4782201,4783102,4783101\n",
      "Name: CNAE_SECUNDARIA, Length: 102400, dtype: object\n",
      "1024000                                              5611201\n",
      "1024001                                                  NaN\n",
      "1024002                                                  NaN\n",
      "1024003                              8550302,7020400,8599604\n",
      "1024004                                              4772500\n",
      "                                 ...                        \n",
      "1126395                                                  NaN\n",
      "1126396                                                  NaN\n",
      "1126397                                                  NaN\n",
      "1126398    8599605,5812302,8599699,8599604,5912099,821999...\n",
      "1126399                                              4930201\n",
      "Name: CNAE_SECUNDARIA, Length: 102400, dtype: object\n"
     ]
    },
    {
     "name": "stderr",
     "output_type": "stream",
     "text": [
      "/tmp/ipykernel_535449/2280953596.py:24: DtypeWarning: Columns (22,26) have mixed types. Specify dtype option on import or set low_memory=False.\n",
      "  for  chunk in pd.read_csv(filename, sep= ';', header=None, encoding='latin1', chunksize=chunksize):\n"
     ]
    },
    {
     "name": "stdout",
     "output_type": "stream",
     "text": [
      "1126400                                                  NaN\n",
      "1126401    4763601,2219600,1412601,2399101,4789099,234949...\n",
      "1126402              4929904,7912100,7990200,8230001,9319101\n",
      "1126403                                                  NaN\n",
      "1126404                                                  NaN\n",
      "                                 ...                        \n",
      "1228795                                              4772500\n",
      "1228796    7420001,9002701,6319400,8219999,8599604,591110...\n",
      "1228797                              4647801,4789099,4649499\n",
      "1228798                                                  NaN\n",
      "1228799                                                  NaN\n",
      "Name: CNAE_SECUNDARIA, Length: 102400, dtype: object\n"
     ]
    },
    {
     "name": "stderr",
     "output_type": "stream",
     "text": [
      "/tmp/ipykernel_535449/2280953596.py:24: DtypeWarning: Columns (22,26) have mixed types. Specify dtype option on import or set low_memory=False.\n",
      "  for  chunk in pd.read_csv(filename, sep= ';', header=None, encoding='latin1', chunksize=chunksize):\n"
     ]
    },
    {
     "name": "stdout",
     "output_type": "stream",
     "text": [
      "1228800              4729601,4781400,9529101,4789003,4782201\n",
      "1228801                                                  NaN\n",
      "1228802                                                  NaN\n",
      "1228803                              7020400,7319003,7319004\n",
      "1228804    0163600,4623109,4632001,4686902,4930202,521170...\n",
      "                                 ...                        \n",
      "1331195                                              9499500\n",
      "1331196                                                  NaN\n",
      "1331197                                      6821802,6822600\n",
      "1331198                                      4520004,4520006\n",
      "1331199                              4530703,4520006,4530702\n",
      "Name: CNAE_SECUNDARIA, Length: 102400, dtype: object\n"
     ]
    },
    {
     "name": "stderr",
     "output_type": "stream",
     "text": [
      "/tmp/ipykernel_535449/2280953596.py:24: DtypeWarning: Columns (22,26) have mixed types. Specify dtype option on import or set low_memory=False.\n",
      "  for  chunk in pd.read_csv(filename, sep= ';', header=None, encoding='latin1', chunksize=chunksize):\n"
     ]
    },
    {
     "name": "stdout",
     "output_type": "stream",
     "text": [
      "1331200    2539001,3321000,3329501,3702900,4120400,421380...\n",
      "1331201                                                  NaN\n",
      "1331202                              6810202,6822600,6810201\n",
      "1331203                                                  NaN\n",
      "1331204    4923002,4924800,4930201,4930204,5212500,532020...\n",
      "                                 ...                        \n",
      "1433595      4783102,4781400,4723700,4782201,4772500,4763602\n",
      "1433596                                              1091102\n",
      "1433597                                      4781400,3299003\n",
      "1433598                                              5611203\n",
      "1433599                                      5620104,5611201\n",
      "Name: CNAE_SECUNDARIA, Length: 102400, dtype: object\n",
      "1433600                        NaN\n",
      "1433601                    4520006\n",
      "1433602            8630501,8630502\n",
      "1433603                        NaN\n",
      "1433604                        NaN\n",
      "                    ...           \n",
      "1535995    5612100,4721103,4724500\n",
      "1535996                        NaN\n",
      "1535997                    4330404\n",
      "1535998                        NaN\n",
      "1535999                        NaN\n",
      "Name: CNAE_SECUNDARIA, Length: 102400, dtype: object\n"
     ]
    },
    {
     "name": "stderr",
     "output_type": "stream",
     "text": [
      "/tmp/ipykernel_535449/2280953596.py:24: DtypeWarning: Columns (22,26) have mixed types. Specify dtype option on import or set low_memory=False.\n",
      "  for  chunk in pd.read_csv(filename, sep= ';', header=None, encoding='latin1', chunksize=chunksize):\n"
     ]
    },
    {
     "name": "stdout",
     "output_type": "stream",
     "text": [
      "1536000                        NaN\n",
      "1536001                        NaN\n",
      "1536002            4755502,4761003\n",
      "1536003    4755503,4755502,4789099\n",
      "1536004            4120400,7112000\n",
      "                    ...           \n",
      "1638395            5229099,4929902\n",
      "1638396                        NaN\n",
      "1638397                        NaN\n",
      "1638398                        NaN\n",
      "1638399                        NaN\n",
      "Name: CNAE_SECUNDARIA, Length: 102400, dtype: object\n",
      "1638400    4789001,9602501,4789099,9602502,4729699\n",
      "1638401                                        NaN\n",
      "1638402                                        NaN\n",
      "1638403                                        NaN\n",
      "1638404                                    4781400\n",
      "                            ...                   \n",
      "1740795                                        NaN\n",
      "1740796                                        NaN\n",
      "1740797                                        NaN\n",
      "1740798                                        NaN\n",
      "1740799                            0151201,0151202\n",
      "Name: CNAE_SECUNDARIA, Length: 102400, dtype: object\n",
      "1740800    8129000\n",
      "1740801        NaN\n",
      "1740802    4772500\n",
      "1740803    5611201\n",
      "1740804        NaN\n",
      "            ...   \n",
      "1843195        NaN\n",
      "1843196        NaN\n",
      "1843197        NaN\n",
      "1843198        NaN\n",
      "1843199        NaN\n",
      "Name: CNAE_SECUNDARIA, Length: 102400, dtype: object\n",
      "1843200    4633801,4635401,4635402,4635403,4635499,463710...\n",
      "1843201                                                  NaN\n",
      "1843202                                                  NaN\n",
      "1843203                                                  NaN\n",
      "1843204                                                  NaN\n",
      "                                 ...                        \n",
      "1945595                                              4772500\n",
      "1945596                      4781400,4789099,4752100,4751201\n",
      "1945597                                              4751201\n",
      "1945598                                              9602502\n",
      "1945599                                                  NaN\n",
      "Name: CNAE_SECUNDARIA, Length: 102400, dtype: object\n",
      "1945600    4321500,4322301,4930201,4399103\n",
      "1945601                                NaN\n",
      "1945602                                NaN\n",
      "1945603                                NaN\n",
      "1945604                    9002702,4785701\n",
      "                        ...               \n",
      "2047995                            9609208\n",
      "2047996                            4321500\n",
      "2047997            5510801,6821802,7490104\n",
      "2047998                            4789008\n",
      "2047999                                NaN\n",
      "Name: CNAE_SECUNDARIA, Length: 102400, dtype: object\n",
      "2048000                                                  NaN\n",
      "2048001                                      4721103,4723700\n",
      "2048002                                                  NaN\n",
      "2048003    5819100,9511800,8599699,7319002,8599605,859960...\n",
      "2048004                                                  NaN\n",
      "                                 ...                        \n",
      "2150395                                                  NaN\n",
      "2150396                              7719599,4520007,4530705\n",
      "2150397                                                  NaN\n",
      "2150398                                              6311900\n",
      "2150399                      4642702,4781400,7319002,8599604\n",
      "Name: CNAE_SECUNDARIA, Length: 102400, dtype: object\n",
      "2150400                                    1629301,2399101\n",
      "2150401            4623109,4683400,4771704,4789004,7490103\n",
      "2150402                            6202300,6201501,6209100\n",
      "2150403                    4751201,4753900,4754703,4757100\n",
      "2150404    4759899,4755503,8599603,4763602,4782202,7990200\n",
      "                                ...                       \n",
      "2252795                                                NaN\n",
      "2252796                                                NaN\n",
      "2252797                                            8512100\n",
      "2252798                                                NaN\n",
      "2252799                                            4752100\n",
      "Name: CNAE_SECUNDARIA, Length: 102400, dtype: object\n",
      "2252800                                                  NaN\n",
      "2252801      5620104,4789099,1093702,5612100,1091102,1093701\n",
      "2252802              8599699,4321500,3314702,2229399,4930201\n",
      "2252803                      8130300,4321500,4322301,4330404\n",
      "2252804    1821100,3314709,4930201,4930202,5320202,631190...\n",
      "                                 ...                        \n",
      "2355195                                                  NaN\n",
      "2355196                                                  NaN\n",
      "2355197                                              7319099\n",
      "2355198                                              8599604\n",
      "2355199                                                  NaN\n",
      "Name: CNAE_SECUNDARIA, Length: 102400, dtype: object\n"
     ]
    },
    {
     "name": "stderr",
     "output_type": "stream",
     "text": [
      "/tmp/ipykernel_535449/2280953596.py:24: DtypeWarning: Columns (8,26) have mixed types. Specify dtype option on import or set low_memory=False.\n",
      "  for  chunk in pd.read_csv(filename, sep= ';', header=None, encoding='latin1', chunksize=chunksize):\n"
     ]
    },
    {
     "name": "stdout",
     "output_type": "stream",
     "text": [
      "2355200                                    4541206,4541207\n",
      "2355201                                                NaN\n",
      "2355202                                            5611203\n",
      "2355203                            7319002,5229099,4929901\n",
      "2355204    4929903,7911200,4782202,7990200,5099801,8230001\n",
      "                                ...                       \n",
      "2457595                                                NaN\n",
      "2457596                                            4722901\n",
      "2457597                                                NaN\n",
      "2457598                                    3831999,3811400\n",
      "2457599                                                NaN\n",
      "Name: CNAE_SECUNDARIA, Length: 102400, dtype: object\n",
      "2457600                              8630502,8630503,8690999\n",
      "2457601                                      4732600,4520001\n",
      "2457602                                              4789001\n",
      "2457603    8550302,8599604,8630502,8630503,8630599,864020...\n",
      "2457604                                                  NaN\n",
      "                                 ...                        \n",
      "2559995                                                  NaN\n",
      "2559996    3319800,5620102,1096100,7319002,5612100,103330...\n",
      "2559997              5620104,4755502,4755503,1091102,1629301\n",
      "2559998    8130300,3101200,4321500,4322301,3702900,433040...\n",
      "2559999                                              8712300\n",
      "Name: CNAE_SECUNDARIA, Length: 102400, dtype: object\n",
      "2560000                                                NaN\n",
      "2560001                                            1411802\n",
      "2560002                    6630400,7490104,8211300,8291100\n",
      "2560003    4330403,4330404,4330405,7111100,7410202,7490104\n",
      "2560004                                                NaN\n",
      "                                ...                       \n",
      "2662395                                            4399103\n",
      "2662396                    4322301,4330402,4399103,4330404\n",
      "2662397                                                NaN\n",
      "2662398                                            4530704\n",
      "2662399                                    5320202,8219999\n",
      "Name: CNAE_SECUNDARIA, Length: 102400, dtype: object\n"
     ]
    },
    {
     "name": "stderr",
     "output_type": "stream",
     "text": [
      "/tmp/ipykernel_535449/2280953596.py:24: DtypeWarning: Columns (22,26) have mixed types. Specify dtype option on import or set low_memory=False.\n",
      "  for  chunk in pd.read_csv(filename, sep= ';', header=None, encoding='latin1', chunksize=chunksize):\n"
     ]
    },
    {
     "name": "stdout",
     "output_type": "stream",
     "text": [
      "2662400                        NaN\n",
      "2662401                    4772500\n",
      "2662402                    8599604\n",
      "2662403                    4789005\n",
      "2662404                        NaN\n",
      "                    ...           \n",
      "2764795    4322301,4330402,4399103\n",
      "2764796                    4399103\n",
      "2764797            4511102,4669999\n",
      "2764798                        NaN\n",
      "2764799                        NaN\n",
      "Name: CNAE_SECUNDARIA, Length: 102400, dtype: object\n"
     ]
    },
    {
     "name": "stderr",
     "output_type": "stream",
     "text": [
      "/tmp/ipykernel_535449/2280953596.py:24: DtypeWarning: Columns (26) have mixed types. Specify dtype option on import or set low_memory=False.\n",
      "  for  chunk in pd.read_csv(filename, sep= ';', header=None, encoding='latin1', chunksize=chunksize):\n"
     ]
    },
    {
     "name": "stdout",
     "output_type": "stream",
     "text": [
      "2764800                                                  NaN\n",
      "2764801              4721102,4721103,4721104,4722901,4723700\n",
      "2764802    4321500,4752100,4753900,4759899,6190699,771100...\n",
      "2764803                                                  NaN\n",
      "2764804                                                  NaN\n",
      "                                 ...                        \n",
      "2867195    4744001,4753900,4754701,4759899,4761003,476360...\n",
      "2867196                              4723700,4729699,4721102\n",
      "2867197                                                  NaN\n",
      "2867198                                      1749400,1340599\n",
      "2867199                                                  NaN\n",
      "Name: CNAE_SECUNDARIA, Length: 102400, dtype: object\n"
     ]
    },
    {
     "name": "stderr",
     "output_type": "stream",
     "text": [
      "/tmp/ipykernel_535449/2280953596.py:24: DtypeWarning: Columns (8) have mixed types. Specify dtype option on import or set low_memory=False.\n",
      "  for  chunk in pd.read_csv(filename, sep= ';', header=None, encoding='latin1', chunksize=chunksize):\n"
     ]
    },
    {
     "name": "stdout",
     "output_type": "stream",
     "text": [
      "2867200    4924800,4930204,4930201,4929902,4929901\n",
      "2867201                                        NaN\n",
      "2867202                                        NaN\n",
      "2867203                                    5320201\n",
      "2867204                                    4781400\n",
      "                            ...                   \n",
      "2969595                            4321500,4322301\n",
      "2969596                                        NaN\n",
      "2969597                                        NaN\n",
      "2969598                                        NaN\n",
      "2969599                    4729601,4751201,4763602\n",
      "Name: CNAE_SECUNDARIA, Length: 102400, dtype: object\n",
      "2969600                                                  NaN\n",
      "2969601                                                  NaN\n",
      "2969602                                              4530704\n",
      "2969603                                                  NaN\n",
      "2969604                                              4530705\n",
      "                                 ...                        \n",
      "3071995                              4530703,4520005,4789005\n",
      "3071996                                              4330405\n",
      "3071997              4723700,4729699,4754701,4753900,4930204\n",
      "3071998    5620104,4781400,4321500,3101200,2512800,259930...\n",
      "3071999                                                  NaN\n",
      "Name: CNAE_SECUNDARIA, Length: 102400, dtype: object\n",
      "3072000                                NaN\n",
      "3072001                                NaN\n",
      "3072002                    5912099,1749400\n",
      "3072003                                NaN\n",
      "3072004                                NaN\n",
      "                        ...               \n",
      "3174395                                NaN\n",
      "3174396                                NaN\n",
      "3174397                                NaN\n",
      "3174398                                NaN\n",
      "3174399    7319002,7319003,7319004,7319099\n",
      "Name: CNAE_SECUNDARIA, Length: 102400, dtype: object\n",
      "3174400                                        NaN\n",
      "3174401                                        NaN\n",
      "3174402                                        NaN\n",
      "3174403                            4520003,2950600\n",
      "3174404                            9529199,1412602\n",
      "                            ...                   \n",
      "3276795                                        NaN\n",
      "3276796                                        NaN\n",
      "3276797                                        NaN\n",
      "3276798    7732202,4729601,7319002,4729699,4744001\n",
      "3276799            4322301,4330402,4930201,4330404\n",
      "Name: CNAE_SECUNDARIA, Length: 102400, dtype: object\n",
      "3276800                NaN\n",
      "3276801            5320201\n",
      "3276802                NaN\n",
      "3276803                NaN\n",
      "3276804                NaN\n",
      "                ...       \n",
      "3379195            4789005\n",
      "3379196    8219999,8230001\n",
      "3379197    8599603,8219999\n",
      "3379198                NaN\n",
      "3379199                NaN\n",
      "Name: CNAE_SECUNDARIA, Length: 102400, dtype: object\n"
     ]
    },
    {
     "name": "stderr",
     "output_type": "stream",
     "text": [
      "/tmp/ipykernel_535449/2280953596.py:24: DtypeWarning: Columns (26) have mixed types. Specify dtype option on import or set low_memory=False.\n",
      "  for  chunk in pd.read_csv(filename, sep= ';', header=None, encoding='latin1', chunksize=chunksize):\n"
     ]
    },
    {
     "name": "stdout",
     "output_type": "stream",
     "text": [
      "3379200                              3101200,3102100,3329501\n",
      "3379201                                                  NaN\n",
      "3379202                                              4782201\n",
      "3379203                                                  NaN\n",
      "3379204                                              9329899\n",
      "                                 ...                        \n",
      "3481595                                                  NaN\n",
      "3481596    4789003,4789099,4789001,4789008,4782202,478900...\n",
      "3481597                                              4781400\n",
      "3481598                              4321500,4322301,4399103\n",
      "3481599                      4520001,4530701,4530702,4530705\n",
      "Name: CNAE_SECUNDARIA, Length: 102400, dtype: object\n",
      "3481600    4722901,4789099,4721103,4723700,4772500,476360...\n",
      "3481601                                                  NaN\n",
      "3481602                                                  NaN\n",
      "3481603              4721104,4729699,1091102,1093701,1091101\n",
      "3481604                                                  NaN\n",
      "                                 ...                        \n",
      "3583995                      7319002,4755502,4763601,4761001\n",
      "3583996                                                  NaN\n",
      "3583997                                                  NaN\n",
      "3583998      7420004,9511800,5912099,9001902,8230001,7420001\n",
      "3583999    7020400,9511800,8219901,3314707,4751202,773310...\n",
      "Name: CNAE_SECUNDARIA, Length: 102400, dtype: object\n",
      "3584000                                                NaN\n",
      "3584001                    4789099,4753900,4744001,9700500\n",
      "3584002                                                NaN\n",
      "3584003                                                NaN\n",
      "3584004                            4530704,4541206,4541207\n",
      "                                ...                       \n",
      "3686395                                    8211300,4619200\n",
      "3686396    8610102,8621601,8621602,8630502,8630501,8610101\n",
      "3686397                                            4712100\n",
      "3686398                                                NaN\n",
      "3686399                                    9609208,9602502\n",
      "Name: CNAE_SECUNDARIA, Length: 102400, dtype: object\n",
      "3686400                                NaN\n",
      "3686401                                NaN\n",
      "3686402                            4782201\n",
      "3686403                                NaN\n",
      "3686404            1091102,5611201,5611203\n",
      "                        ...               \n",
      "3788795                    4742300,4756300\n",
      "3788796                                NaN\n",
      "3788797                                NaN\n",
      "3788798                                NaN\n",
      "3788799    4781400,9001902,4712100,4729699\n",
      "Name: CNAE_SECUNDARIA, Length: 102400, dtype: object\n"
     ]
    },
    {
     "name": "stderr",
     "output_type": "stream",
     "text": [
      "/tmp/ipykernel_535449/2280953596.py:24: DtypeWarning: Columns (8,22,26,28) have mixed types. Specify dtype option on import or set low_memory=False.\n",
      "  for  chunk in pd.read_csv(filename, sep= ';', header=None, encoding='latin1', chunksize=chunksize):\n"
     ]
    },
    {
     "name": "stdout",
     "output_type": "stream",
     "text": [
      "3788800        NaN\n",
      "3788801        NaN\n",
      "3788802        NaN\n",
      "3788803        NaN\n",
      "3788804        NaN\n",
      "            ...   \n",
      "3891195    4617600\n",
      "3891196        NaN\n",
      "3891197        NaN\n",
      "3891198        NaN\n",
      "3891199        NaN\n",
      "Name: CNAE_SECUNDARIA, Length: 102400, dtype: object\n"
     ]
    },
    {
     "name": "stderr",
     "output_type": "stream",
     "text": [
      "/tmp/ipykernel_535449/2280953596.py:24: DtypeWarning: Columns (8,26) have mixed types. Specify dtype option on import or set low_memory=False.\n",
      "  for  chunk in pd.read_csv(filename, sep= ';', header=None, encoding='latin1', chunksize=chunksize):\n"
     ]
    },
    {
     "name": "stdout",
     "output_type": "stream",
     "text": [
      "3891200                                                  NaN\n",
      "3891201                                                  NaN\n",
      "3891202    6399200,7410299,7490105,7490199,8219999,829970...\n",
      "3891203                                                  NaN\n",
      "3891204                                      7912100,7990200\n",
      "                                 ...                        \n",
      "3993595                                                  NaN\n",
      "3993596                                                  NaN\n",
      "3993597    4623109,4683400,4691500,4771704,4784900,478900...\n",
      "3993598                                      9493600,9499500\n",
      "3993599                                                  NaN\n",
      "Name: CNAE_SECUNDARIA, Length: 102400, dtype: object\n"
     ]
    },
    {
     "name": "stderr",
     "output_type": "stream",
     "text": [
      "/tmp/ipykernel_535449/2280953596.py:24: DtypeWarning: Columns (22,24,26) have mixed types. Specify dtype option on import or set low_memory=False.\n",
      "  for  chunk in pd.read_csv(filename, sep= ';', header=None, encoding='latin1', chunksize=chunksize):\n"
     ]
    },
    {
     "name": "stdout",
     "output_type": "stream",
     "text": [
      "3993600                        NaN\n",
      "3993601                        NaN\n",
      "3993602    4618401,4618402,4618403\n",
      "3993603                        NaN\n",
      "3993604                        NaN\n",
      "                    ...           \n",
      "4095995                        NaN\n",
      "4095996                        NaN\n",
      "4095997                    4732600\n",
      "4095998                    4923002\n",
      "4095999                        NaN\n",
      "Name: CNAE_SECUNDARIA, Length: 102400, dtype: object\n"
     ]
    },
    {
     "name": "stderr",
     "output_type": "stream",
     "text": [
      "/tmp/ipykernel_535449/2280953596.py:24: DtypeWarning: Columns (8,26) have mixed types. Specify dtype option on import or set low_memory=False.\n",
      "  for  chunk in pd.read_csv(filename, sep= ';', header=None, encoding='latin1', chunksize=chunksize):\n"
     ]
    },
    {
     "name": "stdout",
     "output_type": "stream",
     "text": [
      "4096000    9493600,9499500\n",
      "4096001                NaN\n",
      "4096002                NaN\n",
      "4096003                NaN\n",
      "4096004            4651602\n",
      "                ...       \n",
      "4198395                NaN\n",
      "4198396                NaN\n",
      "4198397                NaN\n",
      "4198398                NaN\n",
      "4198399                NaN\n",
      "Name: CNAE_SECUNDARIA, Length: 102400, dtype: object\n"
     ]
    },
    {
     "name": "stderr",
     "output_type": "stream",
     "text": [
      "/tmp/ipykernel_535449/2280953596.py:24: DtypeWarning: Columns (8,22,26,28) have mixed types. Specify dtype option on import or set low_memory=False.\n",
      "  for  chunk in pd.read_csv(filename, sep= ';', header=None, encoding='latin1', chunksize=chunksize):\n"
     ]
    },
    {
     "name": "stdout",
     "output_type": "stream",
     "text": [
      "4198400    8129000\n",
      "4198401        NaN\n",
      "4198402        NaN\n",
      "4198403        NaN\n",
      "4198404        NaN\n",
      "            ...   \n",
      "4300795        NaN\n",
      "4300796        NaN\n",
      "4300797        NaN\n",
      "4300798        NaN\n",
      "4300799        NaN\n",
      "Name: CNAE_SECUNDARIA, Length: 102400, dtype: object\n"
     ]
    },
    {
     "name": "stderr",
     "output_type": "stream",
     "text": [
      "/tmp/ipykernel_535449/2280953596.py:24: DtypeWarning: Columns (8,22,26) have mixed types. Specify dtype option on import or set low_memory=False.\n",
      "  for  chunk in pd.read_csv(filename, sep= ';', header=None, encoding='latin1', chunksize=chunksize):\n"
     ]
    },
    {
     "name": "stdout",
     "output_type": "stream",
     "text": [
      "4300800    9493600,9499500\n",
      "4300801    9493600,9499500\n",
      "4300802                NaN\n",
      "4300803                NaN\n",
      "4300804                NaN\n",
      "                ...       \n",
      "4403195                NaN\n",
      "4403196                NaN\n",
      "4403197                NaN\n",
      "4403198                NaN\n",
      "4403199                NaN\n",
      "Name: CNAE_SECUNDARIA, Length: 102400, dtype: object\n"
     ]
    },
    {
     "name": "stderr",
     "output_type": "stream",
     "text": [
      "/tmp/ipykernel_535449/2280953596.py:24: DtypeWarning: Columns (8,22,26) have mixed types. Specify dtype option on import or set low_memory=False.\n",
      "  for  chunk in pd.read_csv(filename, sep= ';', header=None, encoding='latin1', chunksize=chunksize):\n"
     ]
    },
    {
     "name": "stdout",
     "output_type": "stream",
     "text": [
      "4403200                                                  NaN\n",
      "4403201                      4679601,4693100,9521500,4662100\n",
      "4403202                                                  NaN\n",
      "4403203                                                  NaN\n",
      "4403204    4772500,4729602,4762800,4752100,4751201,472969...\n",
      "                                 ...                        \n",
      "4505595    4755503,4723700,4722901,4772500,4721104,472450...\n",
      "4505596                                                  NaN\n",
      "4505597                                                  NaN\n",
      "4505598                                                  NaN\n",
      "4505599                                                  NaN\n",
      "Name: CNAE_SECUNDARIA, Length: 102400, dtype: object\n"
     ]
    },
    {
     "name": "stderr",
     "output_type": "stream",
     "text": [
      "/tmp/ipykernel_535449/2280953596.py:24: DtypeWarning: Columns (8,24) have mixed types. Specify dtype option on import or set low_memory=False.\n",
      "  for  chunk in pd.read_csv(filename, sep= ';', header=None, encoding='latin1', chunksize=chunksize):\n"
     ]
    },
    {
     "name": "stdout",
     "output_type": "stream",
     "text": [
      "4505600        NaN\n",
      "4505601        NaN\n",
      "4505602    1540800\n",
      "4505603        NaN\n",
      "4505604        NaN\n",
      "            ...   \n",
      "4607995        NaN\n",
      "4607996        NaN\n",
      "4607997        NaN\n",
      "4607998        NaN\n",
      "4607999        NaN\n",
      "Name: CNAE_SECUNDARIA, Length: 102400, dtype: object\n"
     ]
    },
    {
     "name": "stderr",
     "output_type": "stream",
     "text": [
      "/tmp/ipykernel_535449/2280953596.py:24: DtypeWarning: Columns (8,22,26) have mixed types. Specify dtype option on import or set low_memory=False.\n",
      "  for  chunk in pd.read_csv(filename, sep= ';', header=None, encoding='latin1', chunksize=chunksize):\n"
     ]
    },
    {
     "name": "stdout",
     "output_type": "stream",
     "text": [
      "4608000    NaN\n",
      "4608001    NaN\n",
      "4608002    NaN\n",
      "4608003    NaN\n",
      "4608004    NaN\n",
      "          ... \n",
      "4710395    NaN\n",
      "4710396    NaN\n",
      "4710397    NaN\n",
      "4710398    NaN\n",
      "4710399    NaN\n",
      "Name: CNAE_SECUNDARIA, Length: 102400, dtype: object\n"
     ]
    },
    {
     "name": "stderr",
     "output_type": "stream",
     "text": [
      "/tmp/ipykernel_535449/2280953596.py:24: DtypeWarning: Columns (8,22,26) have mixed types. Specify dtype option on import or set low_memory=False.\n",
      "  for  chunk in pd.read_csv(filename, sep= ';', header=None, encoding='latin1', chunksize=chunksize):\n"
     ]
    },
    {
     "name": "stdout",
     "output_type": "stream",
     "text": [
      "4710400    NaN\n",
      "4710401    NaN\n",
      "4710402    NaN\n",
      "4710403    NaN\n",
      "4710404    NaN\n",
      "          ... \n",
      "4812795    NaN\n",
      "4812796    NaN\n",
      "4812797    NaN\n",
      "4812798    NaN\n",
      "4812799    NaN\n",
      "Name: CNAE_SECUNDARIA, Length: 102400, dtype: object\n"
     ]
    },
    {
     "name": "stderr",
     "output_type": "stream",
     "text": [
      "/tmp/ipykernel_535449/2280953596.py:24: DtypeWarning: Columns (8,22,26) have mixed types. Specify dtype option on import or set low_memory=False.\n",
      "  for  chunk in pd.read_csv(filename, sep= ';', header=None, encoding='latin1', chunksize=chunksize):\n"
     ]
    },
    {
     "name": "stdout",
     "output_type": "stream",
     "text": [
      "4812800                                                  NaN\n",
      "4812801                                                  NaN\n",
      "4812802    6399200,7410299,7490105,7490199,8219999,829970...\n",
      "4812803                                              7830200\n",
      "4812804                                              9499500\n",
      "                                 ...                        \n",
      "4915195                                                  NaN\n",
      "4915196                                                  NaN\n",
      "4915197                                                  NaN\n",
      "4915198                                              8299799\n",
      "4915199                                                  NaN\n",
      "Name: CNAE_SECUNDARIA, Length: 102400, dtype: object\n"
     ]
    },
    {
     "name": "stderr",
     "output_type": "stream",
     "text": [
      "/tmp/ipykernel_535449/2280953596.py:24: DtypeWarning: Columns (8,24) have mixed types. Specify dtype option on import or set low_memory=False.\n",
      "  for  chunk in pd.read_csv(filename, sep= ';', header=None, encoding='latin1', chunksize=chunksize):\n"
     ]
    },
    {
     "name": "stdout",
     "output_type": "stream",
     "text": [
      "4915200        NaN\n",
      "4915201    6424702\n",
      "4915202        NaN\n",
      "4915203        NaN\n",
      "4915204        NaN\n",
      "            ...   \n",
      "5017595    5611201\n",
      "5017596        NaN\n",
      "5017597        NaN\n",
      "5017598        NaN\n",
      "5017599        NaN\n",
      "Name: CNAE_SECUNDARIA, Length: 102400, dtype: object\n"
     ]
    },
    {
     "name": "stderr",
     "output_type": "stream",
     "text": [
      "/tmp/ipykernel_535449/2280953596.py:24: DtypeWarning: Columns (24) have mixed types. Specify dtype option on import or set low_memory=False.\n",
      "  for  chunk in pd.read_csv(filename, sep= ';', header=None, encoding='latin1', chunksize=chunksize):\n"
     ]
    },
    {
     "name": "stdout",
     "output_type": "stream",
     "text": [
      "5017600                    4781400,4329199,4330404,4120400\n",
      "5017601                                            4789099\n",
      "5017602                                                NaN\n",
      "5017603                                    9493600,9499500\n",
      "5017604                                            4782201\n",
      "                                ...                       \n",
      "5119995                                                NaN\n",
      "5119996                                                NaN\n",
      "5119997    6201501,6202300,6203100,6311900,6319400,8599603\n",
      "5119998                                                NaN\n",
      "5119999                                                NaN\n",
      "Name: CNAE_SECUNDARIA, Length: 102400, dtype: object\n"
     ]
    },
    {
     "name": "stderr",
     "output_type": "stream",
     "text": [
      "/tmp/ipykernel_535449/2280953596.py:24: DtypeWarning: Columns (8,26) have mixed types. Specify dtype option on import or set low_memory=False.\n",
      "  for  chunk in pd.read_csv(filename, sep= ';', header=None, encoding='latin1', chunksize=chunksize):\n"
     ]
    },
    {
     "name": "stdout",
     "output_type": "stream",
     "text": [
      "5120000        NaN\n",
      "5120001        NaN\n",
      "5120002        NaN\n",
      "5120003        NaN\n",
      "5120004        NaN\n",
      "            ...   \n",
      "5222395    8129000\n",
      "5222396        NaN\n",
      "5222397        NaN\n",
      "5222398        NaN\n",
      "5222399        NaN\n",
      "Name: CNAE_SECUNDARIA, Length: 102400, dtype: object\n"
     ]
    },
    {
     "name": "stderr",
     "output_type": "stream",
     "text": [
      "/tmp/ipykernel_535449/2280953596.py:24: DtypeWarning: Columns (8,22,26) have mixed types. Specify dtype option on import or set low_memory=False.\n",
      "  for  chunk in pd.read_csv(filename, sep= ';', header=None, encoding='latin1', chunksize=chunksize):\n"
     ]
    },
    {
     "name": "stdout",
     "output_type": "stream",
     "text": [
      "5222400                NaN\n",
      "5222401                NaN\n",
      "5222402                NaN\n",
      "5222403                NaN\n",
      "5222404                NaN\n",
      "                ...       \n",
      "5324795                NaN\n",
      "5324796                NaN\n",
      "5324797                NaN\n",
      "5324798    4789004,4744001\n",
      "5324799                NaN\n",
      "Name: CNAE_SECUNDARIA, Length: 102400, dtype: object\n"
     ]
    },
    {
     "name": "stderr",
     "output_type": "stream",
     "text": [
      "/tmp/ipykernel_535449/2280953596.py:24: DtypeWarning: Columns (26) have mixed types. Specify dtype option on import or set low_memory=False.\n",
      "  for  chunk in pd.read_csv(filename, sep= ';', header=None, encoding='latin1', chunksize=chunksize):\n"
     ]
    },
    {
     "name": "stdout",
     "output_type": "stream",
     "text": [
      "5324800    6822600,6463800\n",
      "5324801            4723700\n",
      "5324802            5320201\n",
      "5324803                NaN\n",
      "5324804            4512902\n",
      "                ...       \n",
      "5427195                NaN\n",
      "5427196                NaN\n",
      "5427197                NaN\n",
      "5427198            4712100\n",
      "5427199    5611204,9329803\n",
      "Name: CNAE_SECUNDARIA, Length: 102400, dtype: object\n"
     ]
    },
    {
     "name": "stderr",
     "output_type": "stream",
     "text": [
      "/tmp/ipykernel_535449/2280953596.py:24: DtypeWarning: Columns (8,22,24,26) have mixed types. Specify dtype option on import or set low_memory=False.\n",
      "  for  chunk in pd.read_csv(filename, sep= ';', header=None, encoding='latin1', chunksize=chunksize):\n"
     ]
    },
    {
     "name": "stdout",
     "output_type": "stream",
     "text": [
      "5427200                NaN\n",
      "5427201                NaN\n",
      "5427202                NaN\n",
      "5427203                NaN\n",
      "5427204    6462000,6810201\n",
      "                ...       \n",
      "5529595    4759899,4713002\n",
      "5529596                NaN\n",
      "5529597            4930202\n",
      "5529598                NaN\n",
      "5529599                NaN\n",
      "Name: CNAE_SECUNDARIA, Length: 102400, dtype: object\n"
     ]
    },
    {
     "name": "stderr",
     "output_type": "stream",
     "text": [
      "/tmp/ipykernel_535449/2280953596.py:24: DtypeWarning: Columns (22,24,26) have mixed types. Specify dtype option on import or set low_memory=False.\n",
      "  for  chunk in pd.read_csv(filename, sep= ';', header=None, encoding='latin1', chunksize=chunksize):\n"
     ]
    },
    {
     "name": "stdout",
     "output_type": "stream",
     "text": [
      "5529600                NaN\n",
      "5529601    8012900,8020001\n",
      "5529602            4321500\n",
      "5529603                NaN\n",
      "5529604            4930201\n",
      "                ...       \n",
      "5631995            4512902\n",
      "5631996                NaN\n",
      "5631997                NaN\n",
      "5631998                NaN\n",
      "5631999                NaN\n",
      "Name: CNAE_SECUNDARIA, Length: 102400, dtype: object\n"
     ]
    },
    {
     "name": "stderr",
     "output_type": "stream",
     "text": [
      "/tmp/ipykernel_535449/2280953596.py:24: DtypeWarning: Columns (26) have mixed types. Specify dtype option on import or set low_memory=False.\n",
      "  for  chunk in pd.read_csv(filename, sep= ';', header=None, encoding='latin1', chunksize=chunksize):\n"
     ]
    },
    {
     "name": "stdout",
     "output_type": "stream",
     "text": [
      "5632000                                                  NaN\n",
      "5632001                                              6201501\n",
      "5632002                                                  NaN\n",
      "5632003                                                  NaN\n",
      "5632004                                                  NaN\n",
      "                                 ...                        \n",
      "5734395    7739002,8211300,8630502,8630504,8630599,864020...\n",
      "5734396    4399105,4399199,7739099,7111100,7112000,711970...\n",
      "5734397                              5510801,4729699,0322101\n",
      "5734398                                                  NaN\n",
      "5734399                                                  NaN\n",
      "Name: CNAE_SECUNDARIA, Length: 102400, dtype: object\n"
     ]
    },
    {
     "name": "stderr",
     "output_type": "stream",
     "text": [
      "/tmp/ipykernel_535449/2280953596.py:24: DtypeWarning: Columns (26) have mixed types. Specify dtype option on import or set low_memory=False.\n",
      "  for  chunk in pd.read_csv(filename, sep= ';', header=None, encoding='latin1', chunksize=chunksize):\n"
     ]
    },
    {
     "name": "stdout",
     "output_type": "stream",
     "text": [
      "5734400                                                  NaN\n",
      "5734401    4789001,9602501,1340599,1412603,5620101,561120...\n",
      "5734402                                              9609299\n",
      "5734403                                                  NaN\n",
      "5734404                                      9493600,9499500\n",
      "                                 ...                        \n",
      "5836795                                                  NaN\n",
      "5836796                                                  NaN\n",
      "5836797                                                  NaN\n",
      "5836798                                                  NaN\n",
      "5836799                                              6810202\n",
      "Name: CNAE_SECUNDARIA, Length: 102400, dtype: object\n"
     ]
    },
    {
     "name": "stderr",
     "output_type": "stream",
     "text": [
      "/tmp/ipykernel_535449/2280953596.py:24: DtypeWarning: Columns (8,22,26) have mixed types. Specify dtype option on import or set low_memory=False.\n",
      "  for  chunk in pd.read_csv(filename, sep= ';', header=None, encoding='latin1', chunksize=chunksize):\n"
     ]
    },
    {
     "name": "stdout",
     "output_type": "stream",
     "text": [
      "5836800                                              4722901\n",
      "5836801                                                  NaN\n",
      "5836802                                      5819100,8599604\n",
      "5836803                              6810201,6810202,6822600\n",
      "5836804                              5911199,7319002,7319003\n",
      "                                 ...                        \n",
      "5939195    4752100,9511800,4751201,4751202,7319002,561210...\n",
      "5939196                                      4742300,4744001\n",
      "5939197                                              8299799\n",
      "5939198                                                  NaN\n",
      "5939199                                              0133499\n",
      "Name: CNAE_SECUNDARIA, Length: 102400, dtype: object\n"
     ]
    },
    {
     "name": "stderr",
     "output_type": "stream",
     "text": [
      "/tmp/ipykernel_535449/2280953596.py:24: DtypeWarning: Columns (26) have mixed types. Specify dtype option on import or set low_memory=False.\n",
      "  for  chunk in pd.read_csv(filename, sep= ';', header=None, encoding='latin1', chunksize=chunksize):\n"
     ]
    },
    {
     "name": "stdout",
     "output_type": "stream",
     "text": [
      "5939200                                                  NaN\n",
      "5939201                                              4712100\n",
      "5939202                                                  NaN\n",
      "5939203                                                  NaN\n",
      "5939204    1033301,1033302,1053800,1122403,1032599,463719...\n",
      "                                 ...                        \n",
      "6041595                                                  NaN\n",
      "6041596                                                  NaN\n",
      "6041597                                                  NaN\n",
      "6041598                                                  NaN\n",
      "6041599                                      2593400,2599399\n",
      "Name: CNAE_SECUNDARIA, Length: 102400, dtype: object\n"
     ]
    },
    {
     "name": "stderr",
     "output_type": "stream",
     "text": [
      "/tmp/ipykernel_535449/2280953596.py:24: DtypeWarning: Columns (8,21,22,24,26) have mixed types. Specify dtype option on import or set low_memory=False.\n",
      "  for  chunk in pd.read_csv(filename, sep= ';', header=None, encoding='latin1', chunksize=chunksize):\n"
     ]
    },
    {
     "name": "stdout",
     "output_type": "stream",
     "text": [
      "6041600    8599603,9511800\n",
      "6041601    0133404,0119901\n",
      "6041602            8599699\n",
      "6041603                NaN\n",
      "6041604            6311900\n",
      "                ...       \n",
      "6143995                NaN\n",
      "6143996                NaN\n",
      "6143997                NaN\n",
      "6143998                NaN\n",
      "6143999                NaN\n",
      "Name: CNAE_SECUNDARIA, Length: 102400, dtype: object\n"
     ]
    },
    {
     "name": "stderr",
     "output_type": "stream",
     "text": [
      "/tmp/ipykernel_535449/2280953596.py:24: DtypeWarning: Columns (8,22,26) have mixed types. Specify dtype option on import or set low_memory=False.\n",
      "  for  chunk in pd.read_csv(filename, sep= ';', header=None, encoding='latin1', chunksize=chunksize):\n"
     ]
    },
    {
     "name": "stdout",
     "output_type": "stream",
     "text": [
      "6144000                                                  NaN\n",
      "6144001                                                  NaN\n",
      "6144002                                                  NaN\n",
      "6144003                                                  NaN\n",
      "6144004                                                  NaN\n",
      "                                 ...                        \n",
      "6246395                                                  NaN\n",
      "6246396                                                  NaN\n",
      "6246397                                                  NaN\n",
      "6246398                                                  NaN\n",
      "6246399    4789007,4753900,4755502,4744001,4744002,453070...\n",
      "Name: CNAE_SECUNDARIA, Length: 102400, dtype: object\n"
     ]
    },
    {
     "name": "stderr",
     "output_type": "stream",
     "text": [
      "/tmp/ipykernel_535449/2280953596.py:24: DtypeWarning: Columns (22,26) have mixed types. Specify dtype option on import or set low_memory=False.\n",
      "  for  chunk in pd.read_csv(filename, sep= ';', header=None, encoding='latin1', chunksize=chunksize):\n"
     ]
    },
    {
     "name": "stdout",
     "output_type": "stream",
     "text": [
      "6246400                                      5611201,8230002\n",
      "6246401    4761002,9602502,9601701,3212400,4520008,472110...\n",
      "6246402                                              5620101\n",
      "6246403                              3212400,4772500,3299099\n",
      "6246404                                      3329501,4754701\n",
      "                                 ...                        \n",
      "6348795                              4619200,8291100,8299799\n",
      "6348796              4511102,4520001,4520002,4530703,7490104\n",
      "6348797                                              0133499\n",
      "6348798                                              1412603\n",
      "6348799                                      0111302,0151201\n",
      "Name: CNAE_SECUNDARIA, Length: 102400, dtype: object\n"
     ]
    },
    {
     "name": "stderr",
     "output_type": "stream",
     "text": [
      "/tmp/ipykernel_535449/2280953596.py:24: DtypeWarning: Columns (26) have mixed types. Specify dtype option on import or set low_memory=False.\n",
      "  for  chunk in pd.read_csv(filename, sep= ';', header=None, encoding='latin1', chunksize=chunksize):\n"
     ]
    },
    {
     "name": "stdout",
     "output_type": "stream",
     "text": [
      "6348800                                                  NaN\n",
      "6348801                                      4711302,4712100\n",
      "6348802                                                  NaN\n",
      "6348803    4313400,4221903,4399105,4222701,4221902,439910...\n",
      "6348804                              0151201,0151202,0139306\n",
      "                                 ...                        \n",
      "6451195                                      4330405,2599301\n",
      "6451196                                                  NaN\n",
      "6451197                              4712100,4632001,5611203\n",
      "6451198    7319002,7319003,8599604,9001902,9001903,900190...\n",
      "6451199                                                  NaN\n",
      "Name: CNAE_SECUNDARIA, Length: 102400, dtype: object\n"
     ]
    },
    {
     "name": "stderr",
     "output_type": "stream",
     "text": [
      "/tmp/ipykernel_535449/2280953596.py:24: DtypeWarning: Columns (22,26) have mixed types. Specify dtype option on import or set low_memory=False.\n",
      "  for  chunk in pd.read_csv(filename, sep= ';', header=None, encoding='latin1', chunksize=chunksize):\n"
     ]
    },
    {
     "name": "stdout",
     "output_type": "stream",
     "text": [
      "6451200    4742300,4753900,4322301,4757100,4321500\n",
      "6451201                                    6810202\n",
      "6451202                                        NaN\n",
      "6451203                                    8599604\n",
      "6451204                                        NaN\n",
      "                            ...                   \n",
      "6553595                                    5611203\n",
      "6553596                                        NaN\n",
      "6553597                    1413403,4781400,1411802\n",
      "6553598                                    9602502\n",
      "6553599                                    9529199\n",
      "Name: CNAE_SECUNDARIA, Length: 102400, dtype: object\n"
     ]
    },
    {
     "name": "stderr",
     "output_type": "stream",
     "text": [
      "/tmp/ipykernel_535449/2280953596.py:24: DtypeWarning: Columns (22,26) have mixed types. Specify dtype option on import or set low_memory=False.\n",
      "  for  chunk in pd.read_csv(filename, sep= ';', header=None, encoding='latin1', chunksize=chunksize):\n"
     ]
    },
    {
     "name": "stdout",
     "output_type": "stream",
     "text": [
      "6553600                NaN\n",
      "6553601                NaN\n",
      "6553602    5612100,4781400\n",
      "6553603                NaN\n",
      "6553604            7420004\n",
      "                ...       \n",
      "6655995            4782201\n",
      "6655996    4930204,5021101\n",
      "6655997                NaN\n",
      "6655998            4744004\n",
      "6655999                NaN\n",
      "Name: CNAE_SECUNDARIA, Length: 102400, dtype: object\n"
     ]
    },
    {
     "name": "stderr",
     "output_type": "stream",
     "text": [
      "/tmp/ipykernel_535449/2280953596.py:24: DtypeWarning: Columns (21,22) have mixed types. Specify dtype option on import or set low_memory=False.\n",
      "  for  chunk in pd.read_csv(filename, sep= ';', header=None, encoding='latin1', chunksize=chunksize):\n"
     ]
    },
    {
     "name": "stdout",
     "output_type": "stream",
     "text": [
      "6656000                                                  NaN\n",
      "6656001                                                  NaN\n",
      "6656002                                              4723700\n",
      "6656003                                              9493600\n",
      "6656004    4742300,4744003,4321500,4322301,4741500,433040...\n",
      "                                 ...                        \n",
      "6758395                                              9529105\n",
      "6758396                                                  NaN\n",
      "6758397                      4930202,7319099,4520005,8011101\n",
      "6758398                                                  NaN\n",
      "6758399                                      9512600,4752100\n",
      "Name: CNAE_SECUNDARIA, Length: 102400, dtype: object\n"
     ]
    },
    {
     "name": "stderr",
     "output_type": "stream",
     "text": [
      "/tmp/ipykernel_535449/2280953596.py:24: DtypeWarning: Columns (21,22,26) have mixed types. Specify dtype option on import or set low_memory=False.\n",
      "  for  chunk in pd.read_csv(filename, sep= ';', header=None, encoding='latin1', chunksize=chunksize):\n"
     ]
    },
    {
     "name": "stdout",
     "output_type": "stream",
     "text": [
      "6758400                                            2532201\n",
      "6758401                                                NaN\n",
      "6758402                                            5620104\n",
      "6758403    8599605,8230001,4789099,4713002,4723700,7319002\n",
      "6758404                                                NaN\n",
      "                                ...                       \n",
      "6860795                                                NaN\n",
      "6860796                                                NaN\n",
      "6860797                                    4520007,4530703\n",
      "6860798                                    7721700,1749400\n",
      "6860799                                            4729699\n",
      "Name: CNAE_SECUNDARIA, Length: 102400, dtype: object\n"
     ]
    },
    {
     "name": "stderr",
     "output_type": "stream",
     "text": [
      "/tmp/ipykernel_535449/2280953596.py:24: DtypeWarning: Columns (26) have mixed types. Specify dtype option on import or set low_memory=False.\n",
      "  for  chunk in pd.read_csv(filename, sep= ';', header=None, encoding='latin1', chunksize=chunksize):\n"
     ]
    },
    {
     "name": "stdout",
     "output_type": "stream",
     "text": [
      "6860800                        NaN\n",
      "6860801                        NaN\n",
      "6860802                        NaN\n",
      "6860803                        NaN\n",
      "6860804                        NaN\n",
      "                    ...           \n",
      "6963195                    3212400\n",
      "6963196    4930203,5211799,5211702\n",
      "6963197                        NaN\n",
      "6963198                        NaN\n",
      "6963199                        NaN\n",
      "Name: CNAE_SECUNDARIA, Length: 102400, dtype: object\n"
     ]
    },
    {
     "name": "stderr",
     "output_type": "stream",
     "text": [
      "/tmp/ipykernel_535449/2280953596.py:24: DtypeWarning: Columns (21,22,26) have mixed types. Specify dtype option on import or set low_memory=False.\n",
      "  for  chunk in pd.read_csv(filename, sep= ';', header=None, encoding='latin1', chunksize=chunksize):\n"
     ]
    },
    {
     "name": "stdout",
     "output_type": "stream",
     "text": [
      "6963200                              4530703,4732600,4520003\n",
      "6963201                                                  NaN\n",
      "6963202                                                  NaN\n",
      "6963203                                              4782201\n",
      "6963204                                                  NaN\n",
      "                                 ...                        \n",
      "7065595                                      4723700,4930202\n",
      "7065596                                              5611201\n",
      "7065597      4763601,4755503,4755501,4789099,4782201,4763602\n",
      "7065598    0151201,0162803,1012104,1013901,1013902,109969...\n",
      "7065599    4712100,4742300,4744001,4744003,4744004,474409...\n",
      "Name: CNAE_SECUNDARIA, Length: 102400, dtype: object\n"
     ]
    },
    {
     "name": "stderr",
     "output_type": "stream",
     "text": [
      "/tmp/ipykernel_535449/2280953596.py:24: DtypeWarning: Columns (21,22,24,26) have mixed types. Specify dtype option on import or set low_memory=False.\n",
      "  for  chunk in pd.read_csv(filename, sep= ';', header=None, encoding='latin1', chunksize=chunksize):\n"
     ]
    },
    {
     "name": "stdout",
     "output_type": "stream",
     "text": [
      "7065600                      5611204,4712100,4930201,4930202\n",
      "7065601                                                  NaN\n",
      "7065602              4755501,4755502,4755503,4763601,4782201\n",
      "7065603                                              9511800\n",
      "7065604                              4772500,4721104,4729699\n",
      "                                 ...                        \n",
      "7167995                                              4399105\n",
      "7167996                                                  NaN\n",
      "7167997    5819100,9511800,6190699,5813100,4752100,581150...\n",
      "7167998                                                  NaN\n",
      "7167999    0122900,0210107,0220906,0230600,1629301,310120...\n",
      "Name: CNAE_SECUNDARIA, Length: 102400, dtype: object\n"
     ]
    },
    {
     "name": "stderr",
     "output_type": "stream",
     "text": [
      "/tmp/ipykernel_535449/2280953596.py:24: DtypeWarning: Columns (22,26) have mixed types. Specify dtype option on import or set low_memory=False.\n",
      "  for  chunk in pd.read_csv(filename, sep= ';', header=None, encoding='latin1', chunksize=chunksize):\n"
     ]
    },
    {
     "name": "stdout",
     "output_type": "stream",
     "text": [
      "7168000              4729601,4729699,5091202,4743100,4744099\n",
      "7168001                                              5611203\n",
      "7168002    4732600,4744003,4723700,4729601,4721103,475989...\n",
      "7168003                                                  NaN\n",
      "7168004      4512902,4541204,4542102,6619302,7490104,8291100\n",
      "                                 ...                        \n",
      "7270395                                                  NaN\n",
      "7270396                                                  NaN\n",
      "7270397                                                  NaN\n",
      "7270398                                      5611203,5611201\n",
      "7270399                                                  NaN\n",
      "Name: CNAE_SECUNDARIA, Length: 102400, dtype: object\n",
      "7270400                                                  NaN\n",
      "7270401                              9511800,6920601,4751201\n",
      "7270402                                                  NaN\n",
      "7270403                                                  NaN\n",
      "7270404                                              4520007\n",
      "                                 ...                        \n",
      "7372795                                                  NaN\n",
      "7372796                                                  NaN\n",
      "7372797                                                  NaN\n",
      "7372798                                                  NaN\n",
      "7372799    4789099,4785799,4782201,4755503,4330405,433040...\n",
      "Name: CNAE_SECUNDARIA, Length: 102400, dtype: object\n"
     ]
    },
    {
     "name": "stderr",
     "output_type": "stream",
     "text": [
      "/tmp/ipykernel_535449/2280953596.py:24: DtypeWarning: Columns (26) have mixed types. Specify dtype option on import or set low_memory=False.\n",
      "  for  chunk in pd.read_csv(filename, sep= ';', header=None, encoding='latin1', chunksize=chunksize):\n"
     ]
    },
    {
     "name": "stdout",
     "output_type": "stream",
     "text": [
      "7372800                                                NaN\n",
      "7372801            4742300,4744003,4712100,4723700,4744001\n",
      "7372802                                            4330404\n",
      "7372803                                                NaN\n",
      "7372804    8130300,2542000,3101200,4330403,4399103,9700500\n",
      "                                ...                       \n",
      "7475195                                    4753900,4762800\n",
      "7475196            4541206,4530705,4732600,4520005,2950600\n",
      "7475197                                                NaN\n",
      "7475198                                                NaN\n",
      "7475199                                                NaN\n",
      "Name: CNAE_SECUNDARIA, Length: 102400, dtype: object\n",
      "7475200                              2330399,2341900,4679699\n",
      "7475201    8592999,1412602,8230001,8599699,7319002,331472...\n",
      "7475202                                                  NaN\n",
      "7475203                      4789099,4789001,4723700,4724500\n",
      "7475204                                                  NaN\n",
      "                                 ...                        \n",
      "7577595                                                  NaN\n",
      "7577596                                              8230002\n",
      "7577597                                      7020400,8599699\n",
      "7577598                                                  NaN\n",
      "7577599                              4530703,4530704,5229002\n",
      "Name: CNAE_SECUNDARIA, Length: 102400, dtype: object\n",
      "7577600                                              1359600\n",
      "7577601                                                  NaN\n",
      "7577602                                              3831901\n",
      "7577603                                                  NaN\n",
      "7577604                              4755503,4782201,4772500\n",
      "                                 ...                        \n",
      "7679995                                              4753900\n",
      "7679996    4120400,4321500,4322301,4322302,4329199,433040...\n",
      "7679997                                                  NaN\n",
      "7679998                                                  NaN\n",
      "7679999                                              4929902\n",
      "Name: CNAE_SECUNDARIA, Length: 102400, dtype: object\n",
      "7680000                                    5611204,5611203\n",
      "7680001                                                NaN\n",
      "7680002                                                NaN\n",
      "7680003    4120400,4399101,4613300,4619200,4679699,4744099\n",
      "7680004                                                NaN\n",
      "                                ...                       \n",
      "7782395                                            1359600\n",
      "7782396                                    6463800,6822600\n",
      "7782397                            4755503,4789001,4781400\n",
      "7782398                                            9609208\n",
      "7782399                                                NaN\n",
      "Name: CNAE_SECUNDARIA, Length: 102400, dtype: object\n",
      "7782400                                              9602501\n",
      "7782401    4781400,4789099,4713002,4763601,4753900,477250...\n",
      "7782402                                                  NaN\n",
      "7782403                                                  NaN\n",
      "7782404                                      7319002,8219999\n",
      "                                 ...                        \n",
      "7884795                      7311400,7319004,4619200,8211300\n",
      "7884796                                      4530703,4520001\n",
      "7884797                                                  NaN\n",
      "7884798                                      3831999,3839499\n",
      "7884799                                                  NaN\n",
      "Name: CNAE_SECUNDARIA, Length: 102400, dtype: object\n",
      "7884800                NaN\n",
      "7884801            8219999\n",
      "7884802            3329599\n",
      "7884803    6920602,8219999\n",
      "7884804    6190699,4321500\n",
      "                ...       \n",
      "7987195    4729699,4772500\n",
      "7987196    1412602,9602501\n",
      "7987197    6619302,7020400\n",
      "7987198            9609206\n",
      "7987199                NaN\n",
      "Name: CNAE_SECUNDARIA, Length: 102400, dtype: object\n",
      "7987200                                              1529700\n",
      "7987201                                              8219999\n",
      "7987202                                                  NaN\n",
      "7987203                                      5611201,5611205\n",
      "7987204    7119704,8630501,8640208,8650002,8650003,865000...\n",
      "                                 ...                        \n",
      "8089595                                              4722901\n",
      "8089596                                                  NaN\n",
      "8089597                                                  NaN\n",
      "8089598      4541206,4789099,4781400,4541207,8599604,8592999\n",
      "8089599                                                  NaN\n",
      "Name: CNAE_SECUNDARIA, Length: 102400, dtype: object\n",
      "8089600    1413401,1413402,1521100,1812100,1813001,181309...\n",
      "8089601                                                  NaN\n",
      "8089602                                              9602502\n",
      "8089603                                      4789002,4729699\n",
      "8089604                                              8630502\n",
      "                                 ...                        \n",
      "8191995                                                  NaN\n",
      "8191996                      4543900,4530703,4530704,4520001\n",
      "8191997                                                  NaN\n",
      "8191998                                                  NaN\n",
      "8191999      8130300,8129000,4321500,4322301,4330404,4399103\n",
      "Name: CNAE_SECUNDARIA, Length: 102400, dtype: object\n"
     ]
    },
    {
     "name": "stderr",
     "output_type": "stream",
     "text": [
      "/tmp/ipykernel_535449/2280953596.py:24: DtypeWarning: Columns (8,22,26) have mixed types. Specify dtype option on import or set low_memory=False.\n",
      "  for  chunk in pd.read_csv(filename, sep= ';', header=None, encoding='latin1', chunksize=chunksize):\n"
     ]
    },
    {
     "name": "stdout",
     "output_type": "stream",
     "text": [
      "8192000                NaN\n",
      "8192001                NaN\n",
      "8192002            4789099\n",
      "8192003    4755502,8230001\n",
      "8192004                NaN\n",
      "                ...       \n",
      "8294395                NaN\n",
      "8294396                NaN\n",
      "8294397                NaN\n",
      "8294398                NaN\n",
      "8294399                NaN\n",
      "Name: CNAE_SECUNDARIA, Length: 102400, dtype: object\n",
      "8294400                        NaN\n",
      "8294401                        NaN\n",
      "8294402                        NaN\n",
      "8294403                        NaN\n",
      "8294404                        NaN\n",
      "                    ...           \n",
      "8396795                        NaN\n",
      "8396796                    7319002\n",
      "8396797    4723700,5611204,5611203\n",
      "8396798            4781400,7420001\n",
      "8396799                    9602501\n",
      "Name: CNAE_SECUNDARIA, Length: 102400, dtype: object\n",
      "8396800    0161099,3313901,4751201,4753900,4789007,493020...\n",
      "8396801    4213800,4399101,7119703,7410202,7490104,813030...\n",
      "8396802    4742300,4732600,4744003,4751201,4741500,477250...\n",
      "8396803                              4633801,4634699,5223100\n",
      "8396804                                              1412601\n",
      "                                 ...                        \n",
      "8499195                                                  NaN\n",
      "8499196                                                  NaN\n",
      "8499197                                      1091102,1093701\n",
      "8499198                                                  NaN\n",
      "8499199                      7490104,8219999,8599604,8599699\n",
      "Name: CNAE_SECUNDARIA, Length: 102400, dtype: object\n"
     ]
    },
    {
     "name": "stderr",
     "output_type": "stream",
     "text": [
      "/tmp/ipykernel_535449/2280953596.py:24: DtypeWarning: Columns (22,26) have mixed types. Specify dtype option on import or set low_memory=False.\n",
      "  for  chunk in pd.read_csv(filename, sep= ';', header=None, encoding='latin1', chunksize=chunksize):\n"
     ]
    },
    {
     "name": "stdout",
     "output_type": "stream",
     "text": [
      "8499200    4929901,4929902,7719599\n",
      "8499201                    7119703\n",
      "8499202                        NaN\n",
      "8499203                    5612100\n",
      "8499204                        NaN\n",
      "                    ...           \n",
      "8601595    8630502,8640202,8640208\n",
      "8601596                        NaN\n",
      "8601597                        NaN\n",
      "8601598                        NaN\n",
      "8601599                        NaN\n",
      "Name: CNAE_SECUNDARIA, Length: 102400, dtype: object\n",
      "8601600                        NaN\n",
      "8601601                        NaN\n",
      "8601602    5620104,4789099,4723700\n",
      "8601603                        NaN\n",
      "8601604                    5229099\n",
      "                    ...           \n",
      "8703995                    4520003\n",
      "8703996            4773300,4772500\n",
      "8703997                    4772500\n",
      "8703998    8592999,8592902,8592903\n",
      "8703999                    4330403\n",
      "Name: CNAE_SECUNDARIA, Length: 102400, dtype: object\n",
      "8704000                                                  NaN\n",
      "8704001                                                  NaN\n",
      "8704002                                                  NaN\n",
      "8704003                              4789099,4763604,4724500\n",
      "8704004                      1096100,1031700,1093702,1094500\n",
      "                                 ...                        \n",
      "8806395    2511000,2513600,2521700,2539001,2832100,283300...\n",
      "8806396                      2542000,9529105,4399103,3103900\n",
      "8806397                                      5229099,4930201\n",
      "8806398      8599699,5812302,5912099,5912001,9001902,5612100\n",
      "8806399                                                  NaN\n",
      "Name: CNAE_SECUNDARIA, Length: 102400, dtype: object\n",
      "8806400                                              4321500\n",
      "8806401    4752100,7729203,6190699,4751201,7319002,773900...\n",
      "8806402    5811500,5813100,5819100,5912099,7420001,742000...\n",
      "8806403                                      4723700,5611201\n",
      "8806404                                              5611203\n",
      "                                 ...                        \n",
      "8908795                                                  NaN\n",
      "8908796    4321500,4330402,4330403,4330404,4330405,433049...\n",
      "8908797    1096100,1033301,1033302,5612100,1091102,109370...\n",
      "8908798                                                  NaN\n",
      "8908799                                                  NaN\n",
      "Name: CNAE_SECUNDARIA, Length: 102400, dtype: object\n",
      "8908800                                                  NaN\n",
      "8908801      8630502,8630503,8640202,8650004,8690901,9602502\n",
      "8908802                                                  NaN\n",
      "8908803                                                  NaN\n",
      "8908804                                              7420001\n",
      "                                 ...                        \n",
      "9011195                                                  NaN\n",
      "9011196                                              4541206\n",
      "9011197                                              4781400\n",
      "9011198    4789001,4723700,4763601,4772500,4789008,478220...\n",
      "9011199                                              5819100\n",
      "Name: CNAE_SECUNDARIA, Length: 102400, dtype: object\n",
      "9011200            1412601,4782201,4782202\n",
      "9011201                                NaN\n",
      "9011202                                NaN\n",
      "9011203                                NaN\n",
      "9011204    4755503,4772500,4782202,4782201\n",
      "                        ...               \n",
      "9113595                    5612100,1091102\n",
      "9113596                            4930201\n",
      "9113597                            7319002\n",
      "9113598                            8130300\n",
      "9113599            4930204,4930201,4930203\n",
      "Name: CNAE_SECUNDARIA, Length: 102400, dtype: object\n",
      "9113600                      4321500,4330403,4330404,4330405\n",
      "9113601      5812302,5812301,5912099,5813100,8219999,7420001\n",
      "9113602                              4744099,5250804,5320201\n",
      "9113603                                                  NaN\n",
      "9113604                                                  NaN\n",
      "                                 ...                        \n",
      "9215995                                                  NaN\n",
      "9215996                                      7319002,8219999\n",
      "9215997                                              4729699\n",
      "9215998                                                  NaN\n",
      "9215999    9001906,7319001,7319002,9001902,9001903,181309...\n",
      "Name: CNAE_SECUNDARIA, Length: 102400, dtype: object\n",
      "9216000                              4322301,4330402,4330404\n",
      "9216001                                                  NaN\n",
      "9216002    4781400,4721103,4723700,4755502,4759801,475550...\n",
      "9216003                                      8630502,8630503\n",
      "9216004                                                  NaN\n",
      "                                 ...                        \n",
      "9318395                              1529700,2319200,4783101\n",
      "9318396                                              8599699\n",
      "9318397                                                  NaN\n",
      "9318398                              7420004,9001906,7420001\n",
      "9318399                                                  NaN\n",
      "Name: CNAE_SECUNDARIA, Length: 102400, dtype: object\n",
      "9318400                            4755503\n",
      "9318401                                NaN\n",
      "9318402                                NaN\n",
      "9318403            7420004,7319002,7420002\n",
      "9318404                                NaN\n",
      "                        ...               \n",
      "9420795    5320202,4930204,5229099,4930201\n",
      "9420796                                NaN\n",
      "9420797                                NaN\n",
      "9420798    5812302,5812301,5912099,7420001\n",
      "9420799                            7319003\n",
      "Name: CNAE_SECUNDARIA, Length: 102400, dtype: object\n",
      "9420800                                                NaN\n",
      "9420801                                                NaN\n",
      "9420802                                                NaN\n",
      "9420803                                                NaN\n",
      "9420804                                                NaN\n",
      "                                ...                       \n",
      "9523195                                                NaN\n",
      "9523196                                            7319002\n",
      "9523197                                                NaN\n",
      "9523198                                                NaN\n",
      "9523199    8130300,4530703,4530704,2950600,5611203,4520002\n",
      "Name: CNAE_SECUNDARIA, Length: 102400, dtype: object\n",
      "9523200                                NaN\n",
      "9523201                                NaN\n",
      "9523202                            9511800\n",
      "9523203                                NaN\n",
      "9523204            4781400,4530703,4930201\n",
      "                        ...               \n",
      "9625595                                NaN\n",
      "9625596                                NaN\n",
      "9625597                                NaN\n",
      "9625598    5620104,1096100,5611201,5611203\n",
      "9625599                                NaN\n",
      "Name: CNAE_SECUNDARIA, Length: 102400, dtype: object\n"
     ]
    },
    {
     "name": "stderr",
     "output_type": "stream",
     "text": [
      "/tmp/ipykernel_535449/2280953596.py:24: DtypeWarning: Columns (8,21,24,26,28) have mixed types. Specify dtype option on import or set low_memory=False.\n",
      "  for  chunk in pd.read_csv(filename, sep= ';', header=None, encoding='latin1', chunksize=chunksize):\n"
     ]
    },
    {
     "name": "stdout",
     "output_type": "stream",
     "text": [
      "9625600                                                  NaN\n",
      "9625601                      7732201,4930204,3600602,4930201\n",
      "9625602                                              1032599\n",
      "9625603                                              9511800\n",
      "9625604                                      4742300,4744099\n",
      "                                 ...                        \n",
      "9727995                                                  NaN\n",
      "9727996    6399200,7410299,7490105,7490199,8219999,829970...\n",
      "9727997                                              0990403\n",
      "9727998                                                  NaN\n",
      "9727999                                      4330403,9529105\n",
      "Name: CNAE_SECUNDARIA, Length: 102400, dtype: object\n"
     ]
    },
    {
     "name": "stderr",
     "output_type": "stream",
     "text": [
      "/tmp/ipykernel_535449/2280953596.py:24: DtypeWarning: Columns (8,26,28) have mixed types. Specify dtype option on import or set low_memory=False.\n",
      "  for  chunk in pd.read_csv(filename, sep= ';', header=None, encoding='latin1', chunksize=chunksize):\n"
     ]
    },
    {
     "name": "stdout",
     "output_type": "stream",
     "text": [
      "9728000                                        NaN\n",
      "9728001                                        NaN\n",
      "9728002                            8640204,8640211\n",
      "9728003                                        NaN\n",
      "9728004                                    6202300\n",
      "                            ...                   \n",
      "9830395                                        NaN\n",
      "9830396                                        NaN\n",
      "9830397                                        NaN\n",
      "9830398    4120400,4321500,4322301,2391503,4391600\n",
      "9830399                                        NaN\n",
      "Name: CNAE_SECUNDARIA, Length: 102400, dtype: object\n"
     ]
    },
    {
     "name": "stderr",
     "output_type": "stream",
     "text": [
      "/tmp/ipykernel_535449/2280953596.py:24: DtypeWarning: Columns (22,24,26) have mixed types. Specify dtype option on import or set low_memory=False.\n",
      "  for  chunk in pd.read_csv(filename, sep= ';', header=None, encoding='latin1', chunksize=chunksize):\n"
     ]
    },
    {
     "name": "stdout",
     "output_type": "stream",
     "text": [
      "9830400                    8550301,8550302\n",
      "9830401                            8111700\n",
      "9830402    4530703,4520002,4520003,4520004\n",
      "9830403                                NaN\n",
      "9830404                                NaN\n",
      "                        ...               \n",
      "9932795                                NaN\n",
      "9932796                                NaN\n",
      "9932797    4753900,4754702,4755502,4755503\n",
      "9932798                                NaN\n",
      "9932799                                NaN\n",
      "Name: CNAE_SECUNDARIA, Length: 102400, dtype: object\n"
     ]
    },
    {
     "name": "stderr",
     "output_type": "stream",
     "text": [
      "/tmp/ipykernel_535449/2280953596.py:24: DtypeWarning: Columns (8,22,24,26) have mixed types. Specify dtype option on import or set low_memory=False.\n",
      "  for  chunk in pd.read_csv(filename, sep= ';', header=None, encoding='latin1', chunksize=chunksize):\n"
     ]
    },
    {
     "name": "stdout",
     "output_type": "stream",
     "text": [
      "9932800                                                   NaN\n",
      "9932801     4930201,4930203,4683400,2330302,1095300,106600...\n",
      "9932802                                                   NaN\n",
      "9932803                                                   NaN\n",
      "9932804                                                   NaN\n",
      "                                  ...                        \n",
      "10035195                                                  NaN\n",
      "10035196                                                  NaN\n",
      "10035197                      4744001,4744003,4741500,4754703\n",
      "10035198                                                  NaN\n",
      "10035199                                                  NaN\n",
      "Name: CNAE_SECUNDARIA, Length: 102400, dtype: object\n"
     ]
    },
    {
     "name": "stderr",
     "output_type": "stream",
     "text": [
      "/tmp/ipykernel_535449/2280953596.py:24: DtypeWarning: Columns (8,22,26) have mixed types. Specify dtype option on import or set low_memory=False.\n",
      "  for  chunk in pd.read_csv(filename, sep= ';', header=None, encoding='latin1', chunksize=chunksize):\n"
     ]
    },
    {
     "name": "stdout",
     "output_type": "stream",
     "text": [
      "10035200                                NaN\n",
      "10035201    4772500,4789004,9609207,9609208\n",
      "10035202                                NaN\n",
      "10035203                                NaN\n",
      "10035204                                NaN\n",
      "                         ...               \n",
      "10137595                                NaN\n",
      "10137596                                NaN\n",
      "10137597                                NaN\n",
      "10137598                                NaN\n",
      "10137599                                NaN\n",
      "Name: CNAE_SECUNDARIA, Length: 102400, dtype: object\n"
     ]
    },
    {
     "name": "stderr",
     "output_type": "stream",
     "text": [
      "/tmp/ipykernel_535449/2280953596.py:24: DtypeWarning: Columns (8) have mixed types. Specify dtype option on import or set low_memory=False.\n",
      "  for  chunk in pd.read_csv(filename, sep= ';', header=None, encoding='latin1', chunksize=chunksize):\n"
     ]
    },
    {
     "name": "stdout",
     "output_type": "stream",
     "text": [
      "10137600                                        NaN\n",
      "10137601                                        NaN\n",
      "10137602                                        NaN\n",
      "10137603    8511200,8599604,8599699,9493600,9499500\n",
      "10137604                                        NaN\n",
      "                             ...                   \n",
      "10239995                                        NaN\n",
      "10239996                                        NaN\n",
      "10239997                                    2063100\n",
      "10239998                                        NaN\n",
      "10239999                                        NaN\n",
      "Name: CNAE_SECUNDARIA, Length: 102400, dtype: object\n"
     ]
    },
    {
     "name": "stderr",
     "output_type": "stream",
     "text": [
      "/tmp/ipykernel_535449/2280953596.py:24: DtypeWarning: Columns (8,22,24,26) have mixed types. Specify dtype option on import or set low_memory=False.\n",
      "  for  chunk in pd.read_csv(filename, sep= ';', header=None, encoding='latin1', chunksize=chunksize):\n"
     ]
    },
    {
     "name": "stdout",
     "output_type": "stream",
     "text": [
      "10240000                                                  NaN\n",
      "10240001                                                  NaN\n",
      "10240002    6399200,7410299,7490105,7490199,8219999,829970...\n",
      "10240003                                                  NaN\n",
      "10240004                                                  NaN\n",
      "                                  ...                        \n",
      "10342395                                                  NaN\n",
      "10342396                                                  NaN\n",
      "10342397                                                  NaN\n",
      "10342398                      2599301,3292202,3299003,3319800\n",
      "10342399                                                  NaN\n",
      "Name: CNAE_SECUNDARIA, Length: 102400, dtype: object\n"
     ]
    },
    {
     "name": "stderr",
     "output_type": "stream",
     "text": [
      "/tmp/ipykernel_535449/2280953596.py:24: DtypeWarning: Columns (8,22,26) have mixed types. Specify dtype option on import or set low_memory=False.\n",
      "  for  chunk in pd.read_csv(filename, sep= ';', header=None, encoding='latin1', chunksize=chunksize):\n"
     ]
    },
    {
     "name": "stdout",
     "output_type": "stream",
     "text": [
      "10342400                                                  NaN\n",
      "10342401                                                  NaN\n",
      "10342402                                      9493600,9499500\n",
      "10342403                                                  NaN\n",
      "10342404                                                  NaN\n",
      "                                  ...                        \n",
      "10444795                      6202300,6203100,7490104,8599604\n",
      "10444796                                                  NaN\n",
      "10444797    4211101,4313400,4330401,4741500,4742300,474400...\n",
      "10444798                                                  NaN\n",
      "10444799                                                  NaN\n",
      "Name: CNAE_SECUNDARIA, Length: 102400, dtype: object\n"
     ]
    },
    {
     "name": "stderr",
     "output_type": "stream",
     "text": [
      "/tmp/ipykernel_535449/2280953596.py:24: DtypeWarning: Columns (8,21,22,26) have mixed types. Specify dtype option on import or set low_memory=False.\n",
      "  for  chunk in pd.read_csv(filename, sep= ';', header=None, encoding='latin1', chunksize=chunksize):\n"
     ]
    },
    {
     "name": "stdout",
     "output_type": "stream",
     "text": [
      "10444800                NaN\n",
      "10444801                NaN\n",
      "10444802                NaN\n",
      "10444803                NaN\n",
      "10444804                NaN\n",
      "                 ...       \n",
      "10547195                NaN\n",
      "10547196                NaN\n",
      "10547197    7912100,7990200\n",
      "10547198                NaN\n",
      "10547199                NaN\n",
      "Name: CNAE_SECUNDARIA, Length: 102400, dtype: object\n"
     ]
    },
    {
     "name": "stderr",
     "output_type": "stream",
     "text": [
      "/tmp/ipykernel_535449/2280953596.py:24: DtypeWarning: Columns (8,22,26) have mixed types. Specify dtype option on import or set low_memory=False.\n",
      "  for  chunk in pd.read_csv(filename, sep= ';', header=None, encoding='latin1', chunksize=chunksize):\n"
     ]
    },
    {
     "name": "stdout",
     "output_type": "stream",
     "text": [
      "10547200    NaN\n",
      "10547201    NaN\n",
      "10547202    NaN\n",
      "10547203    NaN\n",
      "10547204    NaN\n",
      "           ... \n",
      "10649595    NaN\n",
      "10649596    NaN\n",
      "10649597    NaN\n",
      "10649598    NaN\n",
      "10649599    NaN\n",
      "Name: CNAE_SECUNDARIA, Length: 102400, dtype: object\n"
     ]
    },
    {
     "name": "stderr",
     "output_type": "stream",
     "text": [
      "/tmp/ipykernel_535449/2280953596.py:24: DtypeWarning: Columns (8,22,26,28) have mixed types. Specify dtype option on import or set low_memory=False.\n",
      "  for  chunk in pd.read_csv(filename, sep= ';', header=None, encoding='latin1', chunksize=chunksize):\n"
     ]
    },
    {
     "name": "stdout",
     "output_type": "stream",
     "text": [
      "10649600        NaN\n",
      "10649601        NaN\n",
      "10649602        NaN\n",
      "10649603        NaN\n",
      "10649604        NaN\n",
      "             ...   \n",
      "10751995        NaN\n",
      "10751996        NaN\n",
      "10751997        NaN\n",
      "10751998        NaN\n",
      "10751999    5911102\n",
      "Name: CNAE_SECUNDARIA, Length: 102400, dtype: object\n"
     ]
    },
    {
     "name": "stderr",
     "output_type": "stream",
     "text": [
      "/tmp/ipykernel_535449/2280953596.py:24: DtypeWarning: Columns (8,24,26) have mixed types. Specify dtype option on import or set low_memory=False.\n",
      "  for  chunk in pd.read_csv(filename, sep= ';', header=None, encoding='latin1', chunksize=chunksize):\n"
     ]
    },
    {
     "name": "stdout",
     "output_type": "stream",
     "text": [
      "10752000                        NaN\n",
      "10752001                        NaN\n",
      "10752002                        NaN\n",
      "10752003                        NaN\n",
      "10752004                        NaN\n",
      "                     ...           \n",
      "10854395                    5611201\n",
      "10854396            4789001,4755503\n",
      "10854397                        NaN\n",
      "10854398                    4782201\n",
      "10854399    4618401,4618402,4618403\n",
      "Name: CNAE_SECUNDARIA, Length: 102400, dtype: object\n"
     ]
    },
    {
     "name": "stderr",
     "output_type": "stream",
     "text": [
      "/tmp/ipykernel_535449/2280953596.py:24: DtypeWarning: Columns (22,24) have mixed types. Specify dtype option on import or set low_memory=False.\n",
      "  for  chunk in pd.read_csv(filename, sep= ';', header=None, encoding='latin1', chunksize=chunksize):\n"
     ]
    },
    {
     "name": "stdout",
     "output_type": "stream",
     "text": [
      "10854400                NaN\n",
      "10854401            4530705\n",
      "10854402                NaN\n",
      "10854403            9521500\n",
      "10854404            4713002\n",
      "                 ...       \n",
      "10956795                NaN\n",
      "10956796                NaN\n",
      "10956797    9493600,9499500\n",
      "10956798                NaN\n",
      "10956799                NaN\n",
      "Name: CNAE_SECUNDARIA, Length: 102400, dtype: object\n"
     ]
    },
    {
     "name": "stderr",
     "output_type": "stream",
     "text": [
      "/tmp/ipykernel_535449/2280953596.py:24: DtypeWarning: Columns (8) have mixed types. Specify dtype option on import or set low_memory=False.\n",
      "  for  chunk in pd.read_csv(filename, sep= ';', header=None, encoding='latin1', chunksize=chunksize):\n"
     ]
    },
    {
     "name": "stdout",
     "output_type": "stream",
     "text": [
      "10956800                                              1412603\n",
      "10956801                                                  NaN\n",
      "10956802                                                  NaN\n",
      "10956803                                                  NaN\n",
      "10956804                                                  NaN\n",
      "                                  ...                        \n",
      "11059195                                                  NaN\n",
      "11059196    6399200,7410299,7490105,7490199,8219999,829970...\n",
      "11059197                                                  NaN\n",
      "11059198                                                  NaN\n",
      "11059199                                                  NaN\n",
      "Name: CNAE_SECUNDARIA, Length: 102400, dtype: object\n"
     ]
    },
    {
     "name": "stderr",
     "output_type": "stream",
     "text": [
      "/tmp/ipykernel_535449/2280953596.py:24: DtypeWarning: Columns (8,24,26) have mixed types. Specify dtype option on import or set low_memory=False.\n",
      "  for  chunk in pd.read_csv(filename, sep= ';', header=None, encoding='latin1', chunksize=chunksize):\n"
     ]
    },
    {
     "name": "stdout",
     "output_type": "stream",
     "text": [
      "11059200    1413403,3292201\n",
      "11059201                NaN\n",
      "11059202            4399199\n",
      "11059203                NaN\n",
      "11059204                NaN\n",
      "                 ...       \n",
      "11161595                NaN\n",
      "11161596                NaN\n",
      "11161597                NaN\n",
      "11161598                NaN\n",
      "11161599                NaN\n",
      "Name: CNAE_SECUNDARIA, Length: 102400, dtype: object\n"
     ]
    },
    {
     "name": "stderr",
     "output_type": "stream",
     "text": [
      "/tmp/ipykernel_535449/2280953596.py:24: DtypeWarning: Columns (8,24,26,28) have mixed types. Specify dtype option on import or set low_memory=False.\n",
      "  for  chunk in pd.read_csv(filename, sep= ';', header=None, encoding='latin1', chunksize=chunksize):\n"
     ]
    },
    {
     "name": "stdout",
     "output_type": "stream",
     "text": [
      "11161600        NaN\n",
      "11161601        NaN\n",
      "11161602        NaN\n",
      "11161603        NaN\n",
      "11161604        NaN\n",
      "             ...   \n",
      "11263995        NaN\n",
      "11263996        NaN\n",
      "11263997    2063100\n",
      "11263998    4771701\n",
      "11263999        NaN\n",
      "Name: CNAE_SECUNDARIA, Length: 102400, dtype: object\n"
     ]
    },
    {
     "name": "stderr",
     "output_type": "stream",
     "text": [
      "/tmp/ipykernel_535449/2280953596.py:24: DtypeWarning: Columns (8,24,26) have mixed types. Specify dtype option on import or set low_memory=False.\n",
      "  for  chunk in pd.read_csv(filename, sep= ';', header=None, encoding='latin1', chunksize=chunksize):\n"
     ]
    },
    {
     "name": "stdout",
     "output_type": "stream",
     "text": [
      "11264000                                        NaN\n",
      "11264001                                        NaN\n",
      "11264002                                        NaN\n",
      "11264003                                        NaN\n",
      "11264004                                        NaN\n",
      "                             ...                   \n",
      "11366395                                    5611203\n",
      "11366396                                    5611204\n",
      "11366397    4754703,4753900,4520005,4520007,8230001\n",
      "11366398                                        NaN\n",
      "11366399                                        NaN\n",
      "Name: CNAE_SECUNDARIA, Length: 102400, dtype: object\n"
     ]
    },
    {
     "name": "stderr",
     "output_type": "stream",
     "text": [
      "/tmp/ipykernel_535449/2280953596.py:24: DtypeWarning: Columns (8,22,26) have mixed types. Specify dtype option on import or set low_memory=False.\n",
      "  for  chunk in pd.read_csv(filename, sep= ';', header=None, encoding='latin1', chunksize=chunksize):\n"
     ]
    },
    {
     "name": "stdout",
     "output_type": "stream",
     "text": [
      "11366400                NaN\n",
      "11366401                NaN\n",
      "11366402                NaN\n",
      "11366403                NaN\n",
      "11366404                NaN\n",
      "                 ...       \n",
      "11468795                NaN\n",
      "11468796            8230001\n",
      "11468797    4713002,4782201\n",
      "11468798                NaN\n",
      "11468799                NaN\n",
      "Name: CNAE_SECUNDARIA, Length: 102400, dtype: object\n"
     ]
    },
    {
     "name": "stderr",
     "output_type": "stream",
     "text": [
      "/tmp/ipykernel_535449/2280953596.py:24: DtypeWarning: Columns (26) have mixed types. Specify dtype option on import or set low_memory=False.\n",
      "  for  chunk in pd.read_csv(filename, sep= ';', header=None, encoding='latin1', chunksize=chunksize):\n"
     ]
    },
    {
     "name": "stdout",
     "output_type": "stream",
     "text": [
      "11468800                                        NaN\n",
      "11468801                                        NaN\n",
      "11468802                                        NaN\n",
      "11468803    4751201,4753900,4756300,9511800,5611203\n",
      "11468804                                        NaN\n",
      "                             ...                   \n",
      "11571195                                        NaN\n",
      "11571196                            4520003,4520004\n",
      "11571197                                        NaN\n",
      "11571198                                        NaN\n",
      "11571199                                        NaN\n",
      "Name: CNAE_SECUNDARIA, Length: 102400, dtype: object\n"
     ]
    },
    {
     "name": "stderr",
     "output_type": "stream",
     "text": [
      "/tmp/ipykernel_535449/2280953596.py:24: DtypeWarning: Columns (26) have mixed types. Specify dtype option on import or set low_memory=False.\n",
      "  for  chunk in pd.read_csv(filename, sep= ';', header=None, encoding='latin1', chunksize=chunksize):\n"
     ]
    },
    {
     "name": "stdout",
     "output_type": "stream",
     "text": [
      "11571200                                              1412601\n",
      "11571201                                              4755503\n",
      "11571202                                      1411802,4781400\n",
      "11571203                                                  NaN\n",
      "11571204    4930201,4930202,4930204,5212500,7732201,421110...\n",
      "                                  ...                        \n",
      "11673595                              4744001,4744099,4744005\n",
      "11673596                                                  NaN\n",
      "11673597                                                  NaN\n",
      "11673598                                                  NaN\n",
      "11673599                                              4712100\n",
      "Name: CNAE_SECUNDARIA, Length: 102400, dtype: object\n"
     ]
    },
    {
     "name": "stderr",
     "output_type": "stream",
     "text": [
      "/tmp/ipykernel_535449/2280953596.py:24: DtypeWarning: Columns (26) have mixed types. Specify dtype option on import or set low_memory=False.\n",
      "  for  chunk in pd.read_csv(filename, sep= ';', header=None, encoding='latin1', chunksize=chunksize):\n"
     ]
    },
    {
     "name": "stdout",
     "output_type": "stream",
     "text": [
      "11673600                                NaN\n",
      "11673601                    1093701,5620104\n",
      "11673602                            7319003\n",
      "11673603    1622699,4322301,2330305,4330404\n",
      "11673604                                NaN\n",
      "                         ...               \n",
      "11775995                                NaN\n",
      "11775996                    5620101,5620102\n",
      "11775997                                NaN\n",
      "11775998                            4753900\n",
      "11775999                            4755502\n",
      "Name: CNAE_SECUNDARIA, Length: 102400, dtype: object\n"
     ]
    },
    {
     "name": "stderr",
     "output_type": "stream",
     "text": [
      "/tmp/ipykernel_535449/2280953596.py:24: DtypeWarning: Columns (22,26) have mixed types. Specify dtype option on import or set low_memory=False.\n",
      "  for  chunk in pd.read_csv(filename, sep= ';', header=None, encoding='latin1', chunksize=chunksize):\n"
     ]
    },
    {
     "name": "stdout",
     "output_type": "stream",
     "text": [
      "11776000                        NaN\n",
      "11776001    7111100,7119703,7732201\n",
      "11776002                    4723700\n",
      "11776003                    4520007\n",
      "11776004            4520001,4530703\n",
      "                     ...           \n",
      "11878395                        NaN\n",
      "11878396                        NaN\n",
      "11878397                        NaN\n",
      "11878398                        NaN\n",
      "11878399                        NaN\n",
      "Name: CNAE_SECUNDARIA, Length: 102400, dtype: object\n"
     ]
    },
    {
     "name": "stderr",
     "output_type": "stream",
     "text": [
      "/tmp/ipykernel_535449/2280953596.py:24: DtypeWarning: Columns (8,12,26) have mixed types. Specify dtype option on import or set low_memory=False.\n",
      "  for  chunk in pd.read_csv(filename, sep= ';', header=None, encoding='latin1', chunksize=chunksize):\n"
     ]
    },
    {
     "name": "stdout",
     "output_type": "stream",
     "text": [
      "11878400                NaN\n",
      "11878401                NaN\n",
      "11878402                NaN\n",
      "11878403    4763603,4543900\n",
      "11878404                NaN\n",
      "                 ...       \n",
      "11980795                NaN\n",
      "11980796                NaN\n",
      "11980797                NaN\n",
      "11980798                NaN\n",
      "11980799                NaN\n",
      "Name: CNAE_SECUNDARIA, Length: 102400, dtype: object\n"
     ]
    },
    {
     "name": "stderr",
     "output_type": "stream",
     "text": [
      "/tmp/ipykernel_535449/2280953596.py:24: DtypeWarning: Columns (22,24,26) have mixed types. Specify dtype option on import or set low_memory=False.\n",
      "  for  chunk in pd.read_csv(filename, sep= ';', header=None, encoding='latin1', chunksize=chunksize):\n"
     ]
    },
    {
     "name": "stdout",
     "output_type": "stream",
     "text": [
      "11980800                                        NaN\n",
      "11980801                                        NaN\n",
      "11980802                                        NaN\n",
      "11980803                                        NaN\n",
      "11980804                                        NaN\n",
      "                             ...                   \n",
      "12083195    7820500,4930201,5250804,5212500,4930202\n",
      "12083196                                        NaN\n",
      "12083197                                        NaN\n",
      "12083198                                        NaN\n",
      "12083199                                        NaN\n",
      "Name: CNAE_SECUNDARIA, Length: 102400, dtype: object\n"
     ]
    },
    {
     "name": "stderr",
     "output_type": "stream",
     "text": [
      "/tmp/ipykernel_535449/2280953596.py:24: DtypeWarning: Columns (26) have mixed types. Specify dtype option on import or set low_memory=False.\n",
      "  for  chunk in pd.read_csv(filename, sep= ';', header=None, encoding='latin1', chunksize=chunksize):\n"
     ]
    },
    {
     "name": "stdout",
     "output_type": "stream",
     "text": [
      "12083200                              4712100,4721102,5611203\n",
      "12083201                                                  NaN\n",
      "12083202                                              4618401\n",
      "12083203                                                  NaN\n",
      "12083204      4729601,4722902,5620101,5611203,4763604,5611204\n",
      "                                  ...                        \n",
      "12185595                                                  NaN\n",
      "12185596                                                  NaN\n",
      "12185597                                      4520007,4530704\n",
      "12185598    3329599,4321500,4530701,4530703,4619200,463719...\n",
      "12185599                                              0115600\n",
      "Name: CNAE_SECUNDARIA, Length: 102400, dtype: object\n"
     ]
    },
    {
     "name": "stderr",
     "output_type": "stream",
     "text": [
      "/tmp/ipykernel_535449/2280953596.py:24: DtypeWarning: Columns (8) have mixed types. Specify dtype option on import or set low_memory=False.\n",
      "  for  chunk in pd.read_csv(filename, sep= ';', header=None, encoding='latin1', chunksize=chunksize):\n"
     ]
    },
    {
     "name": "stdout",
     "output_type": "stream",
     "text": [
      "12185600                                NaN\n",
      "12185601            4723700,4781400,4772500\n",
      "12185602                                NaN\n",
      "12185603                                NaN\n",
      "12185604                            5611201\n",
      "                         ...               \n",
      "12287995                                NaN\n",
      "12287996    3321000,3329599,7729299,7729202\n",
      "12287997                    9602502,4772500\n",
      "12287998                    4322301,4321500\n",
      "12287999            1412601,4781400,1340599\n",
      "Name: CNAE_SECUNDARIA, Length: 102400, dtype: object\n"
     ]
    },
    {
     "name": "stderr",
     "output_type": "stream",
     "text": [
      "/tmp/ipykernel_535449/2280953596.py:24: DtypeWarning: Columns (26) have mixed types. Specify dtype option on import or set low_memory=False.\n",
      "  for  chunk in pd.read_csv(filename, sep= ';', header=None, encoding='latin1', chunksize=chunksize):\n"
     ]
    },
    {
     "name": "stdout",
     "output_type": "stream",
     "text": [
      "12288000                    4755503\n",
      "12288001                        NaN\n",
      "12288002            5212500,4930204\n",
      "12288003                        NaN\n",
      "12288004                        NaN\n",
      "                     ...           \n",
      "12390395                        NaN\n",
      "12390396                        NaN\n",
      "12390397    0990403,4679604,4744004\n",
      "12390398                        NaN\n",
      "12390399                    6810203\n",
      "Name: CNAE_SECUNDARIA, Length: 102400, dtype: object\n"
     ]
    },
    {
     "name": "stderr",
     "output_type": "stream",
     "text": [
      "/tmp/ipykernel_535449/2280953596.py:24: DtypeWarning: Columns (22,26) have mixed types. Specify dtype option on import or set low_memory=False.\n",
      "  for  chunk in pd.read_csv(filename, sep= ';', header=None, encoding='latin1', chunksize=chunksize):\n"
     ]
    },
    {
     "name": "stdout",
     "output_type": "stream",
     "text": [
      "12390400            4755503,4783102,4774100,4782201\n",
      "12390401                            1531902,1529700\n",
      "12390402                                        NaN\n",
      "12390403                                        NaN\n",
      "12390404                                        NaN\n",
      "                             ...                   \n",
      "12492795                                    4619200\n",
      "12492796    4399101,4120400,4212000,4222701,8219999\n",
      "12492797                            0151202,0151201\n",
      "12492798                                    0119903\n",
      "12492799                            4723700,5611203\n",
      "Name: CNAE_SECUNDARIA, Length: 102400, dtype: object\n"
     ]
    },
    {
     "name": "stderr",
     "output_type": "stream",
     "text": [
      "/tmp/ipykernel_535449/2280953596.py:24: DtypeWarning: Columns (26) have mixed types. Specify dtype option on import or set low_memory=False.\n",
      "  for  chunk in pd.read_csv(filename, sep= ';', header=None, encoding='latin1', chunksize=chunksize):\n"
     ]
    },
    {
     "name": "stdout",
     "output_type": "stream",
     "text": [
      "12492800                    5611204\n",
      "12492801            4742300,9001902\n",
      "12492802                        NaN\n",
      "12492803    4744099,4322302,4322301\n",
      "12492804                        NaN\n",
      "                     ...           \n",
      "12595195            0113000,0163600\n",
      "12595196    4784900,4732600,4930203\n",
      "12595197                    8219999\n",
      "12595198                    4721103\n",
      "12595199                        NaN\n",
      "Name: CNAE_SECUNDARIA, Length: 102400, dtype: object\n",
      "12595200            4330405,4322301,4330403,4321500,4399103\n",
      "12595201    3702900,4222702,4299599,6463800,7112000,7719599\n",
      "12595202                                                NaN\n",
      "12595203                                    9430800,9493600\n",
      "12595204                                                NaN\n",
      "                                 ...                       \n",
      "12697595                            9511800,1822901,1813099\n",
      "12697596                    4781400,4721102,4723700,4772500\n",
      "12697597                    9609208,4771704,4789005,4763604\n",
      "12697598                                    4755503,4759801\n",
      "12697599                                                NaN\n",
      "Name: CNAE_SECUNDARIA, Length: 102400, dtype: object\n"
     ]
    },
    {
     "name": "stderr",
     "output_type": "stream",
     "text": [
      "/tmp/ipykernel_535449/2280953596.py:24: DtypeWarning: Columns (22,26) have mixed types. Specify dtype option on import or set low_memory=False.\n",
      "  for  chunk in pd.read_csv(filename, sep= ';', header=None, encoding='latin1', chunksize=chunksize):\n"
     ]
    },
    {
     "name": "stdout",
     "output_type": "stream",
     "text": [
      "12697600                                              5819100\n",
      "12697601    8230002,7420001,9001906,7420004,7990200,772920...\n",
      "12697602                                                  NaN\n",
      "12697603                              9602501,4781400,4772500\n",
      "12697604                                                  NaN\n",
      "                                  ...                        \n",
      "12799995                                                  NaN\n",
      "12799996                                                  NaN\n",
      "12799997                                                  NaN\n",
      "12799998                                                  NaN\n",
      "12799999                                                  NaN\n",
      "Name: CNAE_SECUNDARIA, Length: 102400, dtype: object\n"
     ]
    },
    {
     "name": "stderr",
     "output_type": "stream",
     "text": [
      "/tmp/ipykernel_535449/2280953596.py:24: DtypeWarning: Columns (8,22,26) have mixed types. Specify dtype option on import or set low_memory=False.\n",
      "  for  chunk in pd.read_csv(filename, sep= ';', header=None, encoding='latin1', chunksize=chunksize):\n"
     ]
    },
    {
     "name": "stdout",
     "output_type": "stream",
     "text": [
      "12800000                        NaN\n",
      "12800001                        NaN\n",
      "12800002                        NaN\n",
      "12800003                        NaN\n",
      "12800004                        NaN\n",
      "                     ...           \n",
      "12902395                        NaN\n",
      "12902396                        NaN\n",
      "12902397                        NaN\n",
      "12902398    4712100,4724500,4722902\n",
      "12902399                        NaN\n",
      "Name: CNAE_SECUNDARIA, Length: 102400, dtype: object\n"
     ]
    },
    {
     "name": "stderr",
     "output_type": "stream",
     "text": [
      "/tmp/ipykernel_535449/2280953596.py:24: DtypeWarning: Columns (8,22) have mixed types. Specify dtype option on import or set low_memory=False.\n",
      "  for  chunk in pd.read_csv(filename, sep= ';', header=None, encoding='latin1', chunksize=chunksize):\n"
     ]
    },
    {
     "name": "stdout",
     "output_type": "stream",
     "text": [
      "12902400    NaN\n",
      "12902401    NaN\n",
      "12902402    NaN\n",
      "12902403    NaN\n",
      "12902404    NaN\n",
      "           ... \n",
      "13004795    NaN\n",
      "13004796    NaN\n",
      "13004797    NaN\n",
      "13004798    NaN\n",
      "13004799    NaN\n",
      "Name: CNAE_SECUNDARIA, Length: 102400, dtype: object\n"
     ]
    },
    {
     "name": "stderr",
     "output_type": "stream",
     "text": [
      "/tmp/ipykernel_535449/2280953596.py:24: DtypeWarning: Columns (22,26) have mixed types. Specify dtype option on import or set low_memory=False.\n",
      "  for  chunk in pd.read_csv(filename, sep= ';', header=None, encoding='latin1', chunksize=chunksize):\n"
     ]
    },
    {
     "name": "stdout",
     "output_type": "stream",
     "text": [
      "13004800                                                  NaN\n",
      "13004801                                                  NaN\n",
      "13004802                                                  NaN\n",
      "13004803                                                  NaN\n",
      "13004804                                                  NaN\n",
      "                                  ...                        \n",
      "13107195                                              5819100\n",
      "13107196    9512600,8599603,6190699,4752100,8299707,478900...\n",
      "13107197      4751201,4753900,4757100,9511800,9512600,9521500\n",
      "13107198                                                  NaN\n",
      "13107199                                                  NaN\n",
      "Name: CNAE_SECUNDARIA, Length: 102400, dtype: object\n",
      "13107200                            4789008\n",
      "13107201                    4755501,1359600\n",
      "13107202                    9602502,4772500\n",
      "13107203                            4772500\n",
      "13107204                                NaN\n",
      "                         ...               \n",
      "13209595    4742300,4783101,4753900,4782201\n",
      "13209596    4399199,4322301,4321500,4399103\n",
      "13209597            4330405,4330404,4321500\n",
      "13209598                                NaN\n",
      "13209599                    4929901,4929902\n",
      "Name: CNAE_SECUNDARIA, Length: 102400, dtype: object\n"
     ]
    },
    {
     "name": "stderr",
     "output_type": "stream",
     "text": [
      "/tmp/ipykernel_535449/2280953596.py:24: DtypeWarning: Columns (26) have mixed types. Specify dtype option on import or set low_memory=False.\n",
      "  for  chunk in pd.read_csv(filename, sep= ';', header=None, encoding='latin1', chunksize=chunksize):\n"
     ]
    },
    {
     "name": "stdout",
     "output_type": "stream",
     "text": [
      "13209600                        NaN\n",
      "13209601                        NaN\n",
      "13209602                        NaN\n",
      "13209603                        NaN\n",
      "13209604    5620104,1096100,1094500\n",
      "                     ...           \n",
      "13311995                    9602501\n",
      "13311996                        NaN\n",
      "13311997                    9313100\n",
      "13311998            4755502,4789001\n",
      "13311999                        NaN\n",
      "Name: CNAE_SECUNDARIA, Length: 102400, dtype: object\n",
      "13312000                                        NaN\n",
      "13312001                    4732600,4541206,4530705\n",
      "13312002                            4782201,4772500\n",
      "13312003    4921301,4923002,7711000,7911200,7990200\n",
      "13312004            4330403,4679604,4744001,4744005\n",
      "                             ...                   \n",
      "13414395                                    4783101\n",
      "13414396                                        NaN\n",
      "13414397                                        NaN\n",
      "13414398                                        NaN\n",
      "13414399                                        NaN\n",
      "Name: CNAE_SECUNDARIA, Length: 102400, dtype: object\n",
      "13414400                                NaN\n",
      "13414401    8599699,8599604,8219999,4520001\n",
      "13414402                            6619399\n",
      "13414403                                NaN\n",
      "13414404                                NaN\n",
      "                         ...               \n",
      "13516795                                NaN\n",
      "13516796                    4321500,4330404\n",
      "13516797                            4789099\n",
      "13516798                                NaN\n",
      "13516799                            4751201\n",
      "Name: CNAE_SECUNDARIA, Length: 102400, dtype: object\n",
      "13516800                                        NaN\n",
      "13516801                                        NaN\n",
      "13516802                                    4530703\n",
      "13516803                                        NaN\n",
      "13516804                                        NaN\n",
      "                             ...                   \n",
      "13619195                            5620104,1092900\n",
      "13619196    4330404,4399199,4330403,4322301,4321500\n",
      "13619197    4923001,5320201,4929901,4929902,5091202\n",
      "13619198                                        NaN\n",
      "13619199                                        NaN\n",
      "Name: CNAE_SECUNDARIA, Length: 102400, dtype: object\n",
      "13619200                                                  NaN\n",
      "13619201                      4322301,4321500,4789005,9602502\n",
      "13619202                                              4772500\n",
      "13619203                              4721103,4723700,5611203\n",
      "13619204                                      1412601,9602502\n",
      "                                  ...                        \n",
      "13721595                                                  NaN\n",
      "13721596                                                  NaN\n",
      "13721597                                                  NaN\n",
      "13721598    4618499,6201501,6203100,6204000,6311900,631940...\n",
      "13721599              4759801,4763602,4755503,4763601,4782201\n",
      "Name: CNAE_SECUNDARIA, Length: 102400, dtype: object\n",
      "13721600                                    5620102\n",
      "13721601                            5611204,5611203\n",
      "13721602                                    9602502\n",
      "13721603            4755503,4755501,4782201,4772500\n",
      "13721604                            4753900,4759899\n",
      "                             ...                   \n",
      "13823995                                    4930201\n",
      "13823996            4789003,2740602,4713002,4754703\n",
      "13823997                                        NaN\n",
      "13823998    6141800,6311900,8020001,9511800,9512600\n",
      "13823999                                    4755502\n",
      "Name: CNAE_SECUNDARIA, Length: 102400, dtype: object\n",
      "13824000                    4782201\n",
      "13824001                        NaN\n",
      "13824002                    4752100\n",
      "13824003    3103900,4754701,9529105\n",
      "13824004                    7319002\n",
      "                     ...           \n",
      "13926395                        NaN\n",
      "13926396                    8219999\n",
      "13926397                        NaN\n",
      "13926398                    4772500\n",
      "13926399                        NaN\n",
      "Name: CNAE_SECUNDARIA, Length: 102400, dtype: object\n"
     ]
    },
    {
     "name": "stderr",
     "output_type": "stream",
     "text": [
      "/tmp/ipykernel_535449/2280953596.py:24: DtypeWarning: Columns (26) have mixed types. Specify dtype option on import or set low_memory=False.\n",
      "  for  chunk in pd.read_csv(filename, sep= ';', header=None, encoding='latin1', chunksize=chunksize):\n"
     ]
    },
    {
     "name": "stdout",
     "output_type": "stream",
     "text": [
      "13926400                                              5620102\n",
      "13926401                                                  NaN\n",
      "13926402                                                  NaN\n",
      "13926403                                                  NaN\n",
      "13926404                                                  NaN\n",
      "                                  ...                        \n",
      "14028795                                                  NaN\n",
      "14028796                                                  NaN\n",
      "14028797                                                  NaN\n",
      "14028798                                                  NaN\n",
      "14028799    8599699,4781400,9602501,4723700,4729699,475550...\n",
      "Name: CNAE_SECUNDARIA, Length: 102400, dtype: object\n"
     ]
    },
    {
     "name": "stderr",
     "output_type": "stream",
     "text": [
      "/tmp/ipykernel_535449/2280953596.py:24: DtypeWarning: Columns (8) have mixed types. Specify dtype option on import or set low_memory=False.\n",
      "  for  chunk in pd.read_csv(filename, sep= ';', header=None, encoding='latin1', chunksize=chunksize):\n"
     ]
    },
    {
     "name": "stdout",
     "output_type": "stream",
     "text": [
      "14028800                                                  NaN\n",
      "14028801                                                  NaN\n",
      "14028802                                                  NaN\n",
      "14028803    8130300,3101200,4321500,4322301,2599301,433040...\n",
      "14028804                                                  NaN\n",
      "                                  ...                        \n",
      "14131195                                                  NaN\n",
      "14131196                                                  NaN\n",
      "14131197                                                  NaN\n",
      "14131198                                                  NaN\n",
      "14131199                                                  NaN\n",
      "Name: CNAE_SECUNDARIA, Length: 102400, dtype: object\n",
      "14131200    NaN\n",
      "14131201    NaN\n",
      "14131202    NaN\n",
      "14131203    NaN\n",
      "14131204    NaN\n",
      "           ... \n",
      "14233595    NaN\n",
      "14233596    NaN\n",
      "14233597    NaN\n",
      "14233598    NaN\n",
      "14233599    NaN\n",
      "Name: CNAE_SECUNDARIA, Length: 102400, dtype: object\n",
      "14233600                                    5250805,7740300\n",
      "14233601                                                NaN\n",
      "14233602                                                NaN\n",
      "14233603            8610101,8610102,8630501,8630502,8712300\n",
      "14233604                                                NaN\n",
      "                                 ...                       \n",
      "14335995            4781400,4755503,4763601,4772500,4782201\n",
      "14335996                                                NaN\n",
      "14335997                                                NaN\n",
      "14335998    4729699,4763602,4781400,4782201,5611203,8591100\n",
      "14335999                                                NaN\n",
      "Name: CNAE_SECUNDARIA, Length: 102400, dtype: object\n"
     ]
    },
    {
     "name": "stderr",
     "output_type": "stream",
     "text": [
      "/tmp/ipykernel_535449/2280953596.py:24: DtypeWarning: Columns (26) have mixed types. Specify dtype option on import or set low_memory=False.\n",
      "  for  chunk in pd.read_csv(filename, sep= ';', header=None, encoding='latin1', chunksize=chunksize):\n"
     ]
    },
    {
     "name": "stdout",
     "output_type": "stream",
     "text": [
      "14336000                                                  NaN\n",
      "14336001                              4781400,4723700,4763602\n",
      "14336002                                      4757100,7319002\n",
      "14336003                                                  NaN\n",
      "14336004                                                  NaN\n",
      "                                  ...                        \n",
      "14438395                                                  NaN\n",
      "14438396    4120400,4221905,4742300,4744001,4744005,475210...\n",
      "14438397                              8291100,8299799,8599604\n",
      "14438398      4511101,4511102,4512902,4619200,7490104,7711000\n",
      "14438399              4753900,4755503,4772500,4782202,4789001\n",
      "Name: CNAE_SECUNDARIA, Length: 102400, dtype: object\n",
      "14438400    6201501,6201502,6202300,6203100,6204000,631190...\n",
      "14438401                                              5912099\n",
      "14438402                                              7119703\n",
      "14438403                                                  NaN\n",
      "14438404    5819100,5811500,5812302,5912099,7319002,581310...\n",
      "                                  ...                        \n",
      "14540795                                                  NaN\n",
      "14540796                                                  NaN\n",
      "14540797                                                  NaN\n",
      "14540798                              2539001,3314711,8230001\n",
      "14540799                                              4751201\n",
      "Name: CNAE_SECUNDARIA, Length: 102400, dtype: object\n",
      "14540800                        NaN\n",
      "14540801                    0119999\n",
      "14540802                        NaN\n",
      "14540803                    1412602\n",
      "14540804            9609299,4930201\n",
      "                     ...           \n",
      "14643195            4789001,7319002\n",
      "14643196                        NaN\n",
      "14643197    4763602,4782201,4782202\n",
      "14643198            5611201,5611203\n",
      "14643199            8610102,8630502\n",
      "Name: CNAE_SECUNDARIA, Length: 102400, dtype: object\n",
      "14643200                              6821802,7319002,8219999\n",
      "14643201    1811301,1811302,1813001,1813099,1821100,182290...\n",
      "14643202    4789099,5811500,5912099,7020400,8230001,829110...\n",
      "14643203                                                  NaN\n",
      "14643204    0810002,0810003,0899199,2391502,2391503,467960...\n",
      "                                  ...                        \n",
      "14745595                                                  NaN\n",
      "14745596    5811500,8599699,5912099,8599605,8592999,821999...\n",
      "14745597                                      0115600,0111302\n",
      "14745598                                      6190699,8599603\n",
      "14745599                                                  NaN\n",
      "Name: CNAE_SECUNDARIA, Length: 102400, dtype: object\n",
      "14745600                                      7729202,7733100\n",
      "14745601                                                  NaN\n",
      "14745602                      5229002,4520006,4520001,9529102\n",
      "14745603                                              5320202\n",
      "14745604    8532500,8533300,8541400,8542200,8593700,859960...\n",
      "                                  ...                        \n",
      "14847995                                              0161003\n",
      "14847996                                                  NaN\n",
      "14847997                                                  NaN\n",
      "14847998                                                  NaN\n",
      "14847999                              4321500,4399103,4330405\n",
      "Name: CNAE_SECUNDARIA, Length: 102400, dtype: object\n",
      "14848000                                              4781400\n",
      "14848001                                                  NaN\n",
      "14848002                                                  NaN\n",
      "14848003                                                  NaN\n",
      "14848004    7729201,7721700,2740602,8599605,3240099,859960...\n",
      "                                  ...                        \n",
      "14950395                                      4771704,9609207\n",
      "14950396                                                  NaN\n",
      "14950397                                      5912099,5812301\n",
      "14950398                                      4929902,4929901\n",
      "14950399                              2599301,4330499,4399199\n",
      "Name: CNAE_SECUNDARIA, Length: 102400, dtype: object\n",
      "14950400                                                NaN\n",
      "14950401                                    9602502,4782201\n",
      "14950402    8130300,4321500,4322301,4399103,4330404,0161003\n",
      "14950403                            9001906,9521500,9511800\n",
      "14950404                                            3329501\n",
      "                                 ...                       \n",
      "15052795                    8610102,8630501,8630502,8630503\n",
      "15052796                                            5611205\n",
      "15052797            5620103,5620102,4723700,5611201,5611203\n",
      "15052798                                            3299099\n",
      "15052799                                                NaN\n",
      "Name: CNAE_SECUNDARIA, Length: 102400, dtype: object\n"
     ]
    },
    {
     "name": "stderr",
     "output_type": "stream",
     "text": [
      "/tmp/ipykernel_535449/2280953596.py:24: DtypeWarning: Columns (26) have mixed types. Specify dtype option on import or set low_memory=False.\n",
      "  for  chunk in pd.read_csv(filename, sep= ';', header=None, encoding='latin1', chunksize=chunksize):\n"
     ]
    },
    {
     "name": "stdout",
     "output_type": "stream",
     "text": [
      "15052800                                NaN\n",
      "15052801                            4930202\n",
      "15052802                            5620104\n",
      "15052803                                NaN\n",
      "15052804                                NaN\n",
      "                         ...               \n",
      "15155195                            4724500\n",
      "15155196                            5620104\n",
      "15155197                                NaN\n",
      "15155198    7319002,3299006,1099605,8230001\n",
      "15155199                                NaN\n",
      "Name: CNAE_SECUNDARIA, Length: 102400, dtype: object\n",
      "15155200                                NaN\n",
      "15155201                    9602501,9609206\n",
      "15155202                                NaN\n",
      "15155203                            3329501\n",
      "15155204                                NaN\n",
      "                         ...               \n",
      "15257595            4723700,4772500,4789005\n",
      "15257596                                NaN\n",
      "15257597                                NaN\n",
      "15257598    8599699,8130300,4759899,3299099\n",
      "15257599                                NaN\n",
      "Name: CNAE_SECUNDARIA, Length: 102400, dtype: object\n",
      "15257600                                                  NaN\n",
      "15257601                                                  NaN\n",
      "15257602                                              8230001\n",
      "15257603    4789099,5620102,1096100,5620101,4723700,472110...\n",
      "15257604                                                  NaN\n",
      "                                  ...                        \n",
      "15359995                                                  NaN\n",
      "15359996                                                  NaN\n",
      "15359997                                              4929902\n",
      "15359998                                              6822600\n",
      "15359999                              6810201,6821801,6821802\n",
      "Name: CNAE_SECUNDARIA, Length: 102400, dtype: object\n",
      "15360000            8219999\n",
      "15360001            3319800\n",
      "15360002    4399103,4321500\n",
      "15360003                NaN\n",
      "15360004                NaN\n",
      "                 ...       \n",
      "15462395    4923002,4929901\n",
      "15462396    4729601,5611203\n",
      "15462397    5812301,5912099\n",
      "15462398    7119703,7119799\n",
      "15462399                NaN\n",
      "Name: CNAE_SECUNDARIA, Length: 102400, dtype: object\n",
      "15462400                                            7319099\n",
      "15462401                                    6202300,6203100\n",
      "15462402    8610101,8610102,8630501,8630502,8630599,8640203\n",
      "15462403    0161003,0163600,7112000,7119701,7312200,7319003\n",
      "15462404                                                NaN\n",
      "                                 ...                       \n",
      "15469792                                                NaN\n",
      "15469793                                                NaN\n",
      "15469794                                                NaN\n",
      "15469795                                            8230001\n",
      "15469796                                                NaN\n",
      "Name: CNAE_SECUNDARIA, Length: 7397, dtype: object\n"
     ]
    }
   ],
   "source": [
    "import zipfile\n",
    "import pandas as pd\n",
    "from os import listdir, getcwd\n",
    "from os.path import exists\n",
    "\n",
    "\n",
    "\n",
    "\n",
    "def estabelecimento():\n",
    "    diretorio = getcwd()\n",
    "    for arquivo in listdir(diretorio):\n",
    "        if arquivo.endswith('.zip'):\n",
    "            zip = zipfile.ZipFile(arquivo)\n",
    "\n",
    "            for filename in zip.namelist():\n",
    "                if exists(filename == False):\n",
    "                    f = zip.extract(filename)\n",
    "                \n",
    "                    print(\"PRE LEITURA\")    \n",
    "\n",
    "                chunksize = 1024*100\n",
    "\n",
    "                #pjs = pd.DataFrame()\n",
    "                for  chunk in pd.read_csv(filename, sep= ';', header=None, encoding='latin1', chunksize=chunksize):\n",
    "                    chunk.columns = [\"CNPJ_BASICO\",\n",
    "                            \"CNPJ_ORDEM\",\n",
    "                            \"CNPJ_DV\",\n",
    "                            \"MATRIZ_FILIAL\",\n",
    "                            \"NOME_FANTASIA\",\n",
    "                            \"SITUACAO_CADASTRAL\",\n",
    "                            \"DATA_SITUACAO_CADASTRAL\",\n",
    "                            \"MOTIVO_SITUACAO_CADASTRAL\",\n",
    "                            \"NOME_CIDADE_EXTERIOR\",\n",
    "                            \"CODIGO_PAIS\",\n",
    "                            \"DATA_INICIO\",\n",
    "                            \"CNAE_PRINCIPAL\",\n",
    "                            \"CNAE_SECUNDARIA\",\n",
    "                            \"TIPO_LOGRADOURO\",\n",
    "                            \"LOGRADOURO\",\n",
    "                            \"NÚMERO\",\n",
    "                            \"COMPLEMENTO\",\n",
    "                            \"BAIRRO\",\n",
    "                            \"CEP\",\n",
    "                            \"UF\",\n",
    "                            \"MUNICIPIO\",\n",
    "                            \"DDD_1\",\n",
    "                            \"TELEFONE_1\",\n",
    "                            \"DDD_2\",\n",
    "                            \"TELEFONE_2\",\n",
    "                            \"DDD_FAX\",\n",
    "                            \"FAX\",\n",
    "                            \"CORREIO_ELETRONICO\",\n",
    "                            \"SITUACAO_ESPECIAL\",\n",
    "                            \"DATA_SITUACAO_ESPECIAL\"]\n",
    "\n",
    "                    print(chunk['CNAE_SECUNDARIA'])\n",
    "\n",
    "estabelecimento()"
   ]
  }
 ],
 "metadata": {
  "kernelspec": {
   "display_name": "Python 3 (ipykernel)",
   "language": "python",
   "name": "python3"
  },
  "language_info": {
   "codemirror_mode": {
    "name": "ipython",
    "version": 3
   },
   "file_extension": ".py",
   "mimetype": "text/x-python",
   "name": "python",
   "nbconvert_exporter": "python",
   "pygments_lexer": "ipython3",
   "version": "3.11.6"
  }
 },
 "nbformat": 4,
 "nbformat_minor": 5
}
